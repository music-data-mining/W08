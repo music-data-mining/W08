{
  "nbformat": 4,
  "nbformat_minor": 0,
  "metadata": {
    "colab": {
      "provenance": [],
      "collapsed_sections": []
    },
    "kernelspec": {
      "name": "python3",
      "display_name": "Python 3"
    },
    "accelerator": "GPU"
  },
  "cells": [
    {
      "cell_type": "markdown",
      "metadata": {
        "id": "TF4bDN7SXTLS"
      },
      "source": [
        "#Week 08 Keras DNN Implementations Lab"
      ]
    },
    {
      "cell_type": "markdown",
      "metadata": {
        "id": "rVnEsbqeEr2L"
      },
      "source": [
        "Reference: Textbook Chapter 10 & 11"
      ]
    },
    {
      "cell_type": "markdown",
      "metadata": {
        "id": "YJz6GixNXT1r"
      },
      "source": [
        "##Setup"
      ]
    },
    {
      "cell_type": "markdown",
      "metadata": {
        "id": "CORlHtItXbOj"
      },
      "source": [
        "First, let's import a few common modules, ensure MatplotLib plots figures inline and prepare a function to save the figures. We also check that Python 3.5 or later is installed (although Python 2.x may work, it is deprecated so we strongly recommend you use Python 3 instead), as well as Scikit-Learn ≥0.20 and TensorFlow ≥2.0."
      ]
    },
    {
      "cell_type": "code",
      "metadata": {
        "id": "7LklylbvXWYN",
        "outputId": "4f0acc3c-7afb-41de-b3e6-d32a96c106f4",
        "colab": {
          "base_uri": "https://localhost:8080/"
        }
      },
      "source": [
        "# Python ≥3.5 is required\n",
        "import sys\n",
        "assert sys.version_info >= (3, 5)\n",
        "\n",
        "# Scikit-Learn ≥0.20 is required\n",
        "import sklearn\n",
        "assert sklearn.__version__ >= \"0.20\"\n",
        "\n",
        "try:\n",
        "    # %tensorflow_version only exists in Colab.\n",
        "    %tensorflow_version 2.x\n",
        "except Exception:\n",
        "    pass\n",
        "\n",
        "# TensorFlow ≥2.0 is required\n",
        "import tensorflow as tf\n",
        "assert tf.__version__ >= \"2.0\"\n",
        "\n",
        "# Common imports\n",
        "import numpy as np\n",
        "import os\n",
        "\n",
        "# to make this notebook's output stable across runs\n",
        "np.random.seed(42)\n",
        "\n",
        "# To plot pretty figures\n",
        "%matplotlib inline\n",
        "import matplotlib as mpl\n",
        "import matplotlib.pyplot as plt\n",
        "mpl.rc('axes', labelsize=14)\n",
        "mpl.rc('xtick', labelsize=12)\n",
        "mpl.rc('ytick', labelsize=12)\n",
        "\n",
        "# Where to save the figures\n",
        "PROJECT_ROOT_DIR = \".\"\n",
        "CHAPTER_ID = \"ann\"\n",
        "IMAGES_PATH = os.path.join(PROJECT_ROOT_DIR, \"images\", CHAPTER_ID)\n",
        "os.makedirs(IMAGES_PATH, exist_ok=True)\n",
        "\n",
        "def save_fig(fig_id, tight_layout=True, fig_extension=\"png\", resolution=300):\n",
        "    path = os.path.join(IMAGES_PATH, fig_id + \".\" + fig_extension)\n",
        "    print(\"Saving figure\", fig_id)\n",
        "    if tight_layout:\n",
        "        plt.tight_layout()\n",
        "    plt.savefig(path, format=fig_extension, dpi=resolution)\n",
        "\n",
        "# Ignore useless warnings (see SciPy issue #5998)\n",
        "import warnings\n",
        "warnings.filterwarnings(action=\"ignore\", message=\"^internal gelsd\")"
      ],
      "execution_count": null,
      "outputs": [
        {
          "output_type": "stream",
          "name": "stdout",
          "text": [
            "Colab only includes TensorFlow 2.x; %tensorflow_version has no effect.\n"
          ]
        }
      ]
    },
    {
      "cell_type": "markdown",
      "metadata": {
        "id": "WJKDVXMfXhbH"
      },
      "source": [
        "# Building an Image Classifier"
      ]
    },
    {
      "cell_type": "markdown",
      "metadata": {
        "id": "B-E15vWbXpGB"
      },
      "source": [
        "First let's import TensorFlow and Keras."
      ]
    },
    {
      "cell_type": "code",
      "metadata": {
        "id": "SfGrm-ZwXdrD"
      },
      "source": [
        "import tensorflow as tf\n",
        "from tensorflow import keras"
      ],
      "execution_count": null,
      "outputs": []
    },
    {
      "cell_type": "markdown",
      "metadata": {
        "id": "LS5gQDP3XxUx"
      },
      "source": [
        "Let's start by loading the fashion MNIST dataset. Keras has a number of functions to load popular datasets in `keras.datasets`. The dataset is already split for you between a training set and a test set, but it can be useful to split the training set further to have a validation set:"
      ]
    },
    {
      "cell_type": "code",
      "metadata": {
        "id": "52jAt0hTXuhh",
        "outputId": "e0fbe470-1f4e-455b-b8bf-89dbee403752",
        "colab": {
          "base_uri": "https://localhost:8080/"
        }
      },
      "source": [
        "#Loading the dataset\n",
        "fashion_mnist = keras.datasets.fashion_mnist\n",
        "(X_train_full, y_train_full), (X_test, y_test) = fashion_mnist.load_data()"
      ],
      "execution_count": null,
      "outputs": [
        {
          "output_type": "stream",
          "name": "stdout",
          "text": [
            "Downloading data from https://storage.googleapis.com/tensorflow/tf-keras-datasets/train-labels-idx1-ubyte.gz\n",
            "29515/29515 [==============================] - 0s 0us/step\n",
            "Downloading data from https://storage.googleapis.com/tensorflow/tf-keras-datasets/train-images-idx3-ubyte.gz\n",
            "26421880/26421880 [==============================] - 0s 0us/step\n",
            "Downloading data from https://storage.googleapis.com/tensorflow/tf-keras-datasets/t10k-labels-idx1-ubyte.gz\n",
            "5148/5148 [==============================] - 0s 0us/step\n",
            "Downloading data from https://storage.googleapis.com/tensorflow/tf-keras-datasets/t10k-images-idx3-ubyte.gz\n",
            "4422102/4422102 [==============================] - 0s 0us/step\n"
          ]
        }
      ]
    },
    {
      "cell_type": "markdown",
      "metadata": {
        "id": "j6s8aUICX9db"
      },
      "source": [
        "The training set contains 60,000 grayscale images, each 28x28 pixels:"
      ]
    },
    {
      "cell_type": "markdown",
      "metadata": {
        "id": "eIEx0ECQYEPy"
      },
      "source": [
        "Let's split the full training set into a validation set and a (smaller) training set. We also scale the pixel intensities down to the 0-1 range and convert them to floats, by dividing by 255."
      ]
    },
    {
      "cell_type": "code",
      "metadata": {
        "id": "chtyMGLyX1rL"
      },
      "source": [
        "# splitting the full training set into a validation set and a (smaller) training set\n",
        "# scaling the pixel intensities down to the 0-1 range\n",
        "# and converting them to floats, by dividing by 255\n",
        "X_valid, X_train = X_train_full[:5000] / 255., X_train_full[5000:] / 255.\n",
        "y_valid, y_train = y_train_full[:5000], y_train_full[5000:]\n",
        "X_test = X_test / 255."
      ],
      "execution_count": null,
      "outputs": []
    },
    {
      "cell_type": "markdown",
      "metadata": {
        "id": "r1gs2R37YKEk"
      },
      "source": [
        "You can plot an image using Matplotlib's `imshow()` function, with a `'binary'`\n",
        " color map:"
      ]
    },
    {
      "cell_type": "code",
      "metadata": {
        "id": "vsDSPfkyYHdE",
        "outputId": "3182186e-72ba-4774-8fa3-16cb28fb189e",
        "colab": {
          "base_uri": "https://localhost:8080/",
          "height": 248
        }
      },
      "source": [
        "plt.imshow(X_train[0], cmap=\"binary\")\n",
        "plt.axis('off')\n",
        "plt.show()"
      ],
      "execution_count": null,
      "outputs": [
        {
          "output_type": "display_data",
          "data": {
            "text/plain": [
              "<Figure size 432x288 with 1 Axes>"
            ],
            "image/png": "[encoded data removed]"
          },
          "metadata": {
            "needs_background": "light"
          }
        }
      ]
    },
    {
      "cell_type": "markdown",
      "metadata": {
        "id": "6CgMN1L3YRZl"
      },
      "source": [
        "The labels are the class IDs (represented as uint8), from 0 to 9:"
      ]
    },
    {
      "cell_type": "code",
      "metadata": {
        "id": "cLdp5PWUYL_b",
        "outputId": "ba24ed7c-e29b-4a96-e6af-040a77760686",
        "colab": {
          "base_uri": "https://localhost:8080/"
        }
      },
      "source": [
        "y_train #array([4, 0, 7, ..., 3, 0, 5], dtype=uint8)"
      ],
      "execution_count": null,
      "outputs": [
        {
          "output_type": "execute_result",
          "data": {
            "text/plain": [
              "array([4, 0, 7, ..., 3, 0, 5], dtype=uint8)"
            ]
          },
          "metadata": {},
          "execution_count": 6
        }
      ]
    },
    {
      "cell_type": "markdown",
      "metadata": {
        "id": "MFg7YnYaYXWs"
      },
      "source": [
        "Here are the corresponding class names:"
      ]
    },
    {
      "cell_type": "code",
      "metadata": {
        "id": "MmCnrXcnYUWX"
      },
      "source": [
        "class_names = [\"T-shirt/top\", \"Trouser\", \"Pullover\", \"Dress\", \"Coat\",\n",
        "               \"Sandal\", \"Shirt\", \"Sneaker\", \"Bag\", \"Ankle boot\"]"
      ],
      "execution_count": null,
      "outputs": []
    },
    {
      "cell_type": "markdown",
      "metadata": {
        "id": "nvHVz3vSYdVb"
      },
      "source": [
        "So the first image in the training set is a coat:"
      ]
    },
    {
      "cell_type": "code",
      "metadata": {
        "id": "rPDHVxlhYZPx",
        "outputId": "46279bec-beb9-443c-d51f-d7f4674d3e96",
        "colab": {
          "base_uri": "https://localhost:8080/",
          "height": 35
        }
      },
      "source": [
        "class_names[y_train[0]]"
      ],
      "execution_count": null,
      "outputs": [
        {
          "output_type": "execute_result",
          "data": {
            "text/plain": [
              "'Coat'"
            ],
            "application/vnd.google.colaboratory.intrinsic+json": {
              "type": "string"
            }
          },
          "metadata": {},
          "execution_count": 8
        }
      ]
    },
    {
      "cell_type": "markdown",
      "metadata": {
        "id": "hISqguJGYmYI"
      },
      "source": [
        "Let's take a look at a sample of the images in the dataset:"
      ]
    },
    {
      "cell_type": "code",
      "metadata": {
        "id": "rhFbqVUHYfQs",
        "outputId": "028e2a0c-2e97-4805-ba65-6846f18c7a1c",
        "colab": {
          "base_uri": "https://localhost:8080/",
          "height": 308
        }
      },
      "source": [
        "n_rows = 4\n",
        "n_cols = 10\n",
        "plt.figure(figsize=(n_cols * 1.2, n_rows * 1.2))\n",
        "for row in range(n_rows):\n",
        "    for col in range(n_cols):\n",
        "        index = n_cols * row + col\n",
        "        plt.subplot(n_rows, n_cols, index + 1)\n",
        "        plt.imshow(X_train[index], cmap=\"binary\", interpolation=\"nearest\")\n",
        "        plt.axis('off')\n",
        "        plt.title(class_names[y_train[index]], fontsize=12)\n",
        "plt.subplots_adjust(wspace=0.2, hspace=0.5)\n",
        "plt.show()"
      ],
      "execution_count": null,
      "outputs": [
        {
          "output_type": "display_data",
          "data": {
            "text/plain": [
              "<Figure size 864x345.6 with 40 Axes>"
            ],
            "image/png": "[encoded data removed]"
          },
          "metadata": {
            "needs_background": "light"
          }
        }
      ]
    },
    {
      "cell_type": "markdown",
      "metadata": {
        "id": "FkP_M8FNY0iO"
      },
      "source": [
        "Creaing the model using the Sequential API"
      ]
    },
    {
      "cell_type": "code",
      "source": [
        "keras.backend.clear_session()\n",
        "np.random.seed(42)\n",
        "tf.random.set_seed(42)"
      ],
      "metadata": {
        "id": "h1Tya1NRVpvI"
      },
      "execution_count": null,
      "outputs": []
    },
    {
      "cell_type": "code",
      "metadata": {
        "id": "rN6K_9n1YpVy"
      },
      "source": [
        "# option1: creat model by adding layers one by one\n",
        "model = keras.models.Sequential()\n",
        "model.add(keras.layers.Flatten(input_shape=[28, 28]))\n",
        "model.add(keras.layers.Dense(100, activation=\"relu\"))\n",
        "model.add(keras.layers.Dense(50, activation=\"relu\"))\n",
        "model.add(keras.layers.Dense(10, activation=\"softmax\"))"
      ],
      "execution_count": null,
      "outputs": []
    },
    {
      "cell_type": "code",
      "metadata": {
        "id": "GlEc1I0dbPBD"
      },
      "source": [
        "# option2: creat model as a whole\n",
        "# the two options are equivalent\n",
        "model = keras.models.Sequential([\n",
        "    keras.layers.Flatten(input_shape=[28, 28]),\n",
        "    keras.layers.Dense(100, activation=\"relu\"),\n",
        "    keras.layers.Dense(50, activation=\"relu\"),\n",
        "    keras.layers.Dense(10, activation=\"softmax\")\n",
        "])"
      ],
      "execution_count": null,
      "outputs": []
    },
    {
      "cell_type": "code",
      "metadata": {
        "id": "C4p3YPg-bR3V",
        "outputId": "587ad25d-0580-43a6-d37e-a8d9182afe61",
        "colab": {
          "base_uri": "https://localhost:8080/"
        }
      },
      "source": [
        "model.summary()"
      ],
      "execution_count": null,
      "outputs": [
        {
          "output_type": "stream",
          "name": "stdout",
          "text": [
            "Model: \"sequential\"\n",
            "_________________________________________________________________\n",
            " Layer (type)                Output Shape              Param #   \n",
            "=================================================================\n",
            " flatten (Flatten)           (None, 784)               0         \n",
            "                                                                 \n",
            " dense (Dense)               (None, 100)               78500     \n",
            "                                                                 \n",
            " dense_1 (Dense)             (None, 50)                5050      \n",
            "                                                                 \n",
            " dense_2 (Dense)             (None, 10)                510       \n",
            "                                                                 \n",
            "=================================================================\n",
            "Total params: 84,060\n",
            "Trainable params: 84,060\n",
            "Non-trainable params: 0\n",
            "_________________________________________________________________\n"
          ]
        }
      ]
    },
    {
      "cell_type": "markdown",
      "metadata": {
        "id": "fatDRQJJbibn"
      },
      "source": [
        "Compliling the model"
      ]
    },
    {
      "cell_type": "code",
      "metadata": {
        "id": "j1YrhwosbT4a"
      },
      "source": [
        "# to see what args can be tuned when compiling a model, checkout https://www.tensorflow.org/api_docs/python/tf/keras/Model#compile\n",
        "model.compile(loss=\"sparse_categorical_crossentropy\",\n",
        "              optimizer=\"sgd\",\n",
        "              metrics=[\"accuracy\"])"
      ],
      "execution_count": null,
      "outputs": []
    },
    {
      "cell_type": "markdown",
      "metadata": {
        "id": "SIL0tXTkboFh"
      },
      "source": [
        "This is equivalent to:"
      ]
    },
    {
      "cell_type": "markdown",
      "metadata": {
        "id": "wZqi9_z2btFM"
      },
      "source": [
        "```python\n",
        "model.compile(loss=keras.losses.sparse_categorical_crossentropy,\n",
        "              optimizer=keras.optimizers.SGD(),\n",
        "              metrics=[keras.metrics.sparse_categorical_accuracy])\n",
        "```"
      ]
    },
    {
      "cell_type": "markdown",
      "metadata": {
        "id": "z1c2rn9GdcoS"
      },
      "source": [
        "Training and evaluating the model"
      ]
    },
    {
      "cell_type": "code",
      "metadata": {
        "id": "5i0s0n0VbnFt",
        "outputId": "bc97ce3c-1cd2-484a-9f6e-7c259025a641",
        "colab": {
          "base_uri": "https://localhost:8080/"
        }
      },
      "source": [
        "history = model.fit(X_train, y_train, epochs=30,\n",
        "                    validation_data=(X_valid, y_valid))"
      ],
      "execution_count": null,
      "outputs": [
        {
          "output_type": "stream",
          "name": "stdout",
          "text": [
            "Epoch 1/30\n",
            "1719/1719 [==============================] - 7s 3ms/step - loss: 0.7691 - accuracy: 0.7444 - val_loss: 0.5401 - val_accuracy: 0.8120\n",
            "Epoch 2/30\n",
            "1719/1719 [==============================] - 5s 3ms/step - loss: 0.5019 - accuracy: 0.8221 - val_loss: 0.4489 - val_accuracy: 0.8462\n",
            "Epoch 3/30\n",
            "1719/1719 [==============================] - 5s 3ms/step - loss: 0.4549 - accuracy: 0.8393 - val_loss: 0.5761 - val_accuracy: 0.7846\n",
            "Epoch 4/30\n",
            "1719/1719 [==============================] - 5s 3ms/step - loss: 0.4282 - accuracy: 0.8505 - val_loss: 0.4070 - val_accuracy: 0.8594\n",
            "Epoch 5/30\n",
            "1719/1719 [==============================] - 5s 3ms/step - loss: 0.4100 - accuracy: 0.8573 - val_loss: 0.3899 - val_accuracy: 0.8618\n",
            "Epoch 6/30\n",
            "1719/1719 [==============================] - 5s 3ms/step - loss: 0.3916 - accuracy: 0.8631 - val_loss: 0.3836 - val_accuracy: 0.8682\n",
            "Epoch 7/30\n",
            "1719/1719 [==============================] - 7s 4ms/step - loss: 0.3796 - accuracy: 0.8669 - val_loss: 0.3751 - val_accuracy: 0.8716\n",
            "Epoch 8/30\n",
            "1719/1719 [==============================] - 7s 4ms/step - loss: 0.3684 - accuracy: 0.8695 - val_loss: 0.4007 - val_accuracy: 0.8550\n",
            "Epoch 9/30\n",
            "1719/1719 [==============================] - 7s 4ms/step - loss: 0.3582 - accuracy: 0.8738 - val_loss: 0.3697 - val_accuracy: 0.8668\n",
            "Epoch 10/30\n",
            "1719/1719 [==============================] - 7s 4ms/step - loss: 0.3489 - accuracy: 0.8767 - val_loss: 0.3621 - val_accuracy: 0.8682\n",
            "Epoch 11/30\n",
            "1719/1719 [==============================] - 6s 4ms/step - loss: 0.3411 - accuracy: 0.8787 - val_loss: 0.3566 - val_accuracy: 0.8704\n",
            "Epoch 12/30\n",
            "1719/1719 [==============================] - 7s 4ms/step - loss: 0.3326 - accuracy: 0.8810 - val_loss: 0.3436 - val_accuracy: 0.8762\n",
            "Epoch 13/30\n",
            "1719/1719 [==============================] - 6s 3ms/step - loss: 0.3265 - accuracy: 0.8835 - val_loss: 0.3472 - val_accuracy: 0.8754\n",
            "Epoch 14/30\n",
            "1719/1719 [==============================] - 5s 3ms/step - loss: 0.3205 - accuracy: 0.8855 - val_loss: 0.3576 - val_accuracy: 0.8674\n",
            "Epoch 15/30\n",
            "1719/1719 [==============================] - 5s 3ms/step - loss: 0.3127 - accuracy: 0.8876 - val_loss: 0.3343 - val_accuracy: 0.8786\n",
            "Epoch 16/30\n",
            "1719/1719 [==============================] - 5s 3ms/step - loss: 0.3084 - accuracy: 0.8896 - val_loss: 0.3248 - val_accuracy: 0.8794\n",
            "Epoch 17/30\n",
            "1719/1719 [==============================] - 5s 3ms/step - loss: 0.3036 - accuracy: 0.8913 - val_loss: 0.3679 - val_accuracy: 0.8694\n",
            "Epoch 18/30\n",
            "1719/1719 [==============================] - 5s 3ms/step - loss: 0.2974 - accuracy: 0.8925 - val_loss: 0.3261 - val_accuracy: 0.8828\n",
            "Epoch 19/30\n",
            "1719/1719 [==============================] - 5s 3ms/step - loss: 0.2930 - accuracy: 0.8946 - val_loss: 0.3258 - val_accuracy: 0.8800\n",
            "Epoch 20/30\n",
            "1719/1719 [==============================] - 5s 3ms/step - loss: 0.2883 - accuracy: 0.8962 - val_loss: 0.3403 - val_accuracy: 0.8752\n",
            "Epoch 21/30\n",
            "1719/1719 [==============================] - 5s 3ms/step - loss: 0.2836 - accuracy: 0.8966 - val_loss: 0.3153 - val_accuracy: 0.8852\n",
            "Epoch 22/30\n",
            "1719/1719 [==============================] - 5s 3ms/step - loss: 0.2786 - accuracy: 0.8991 - val_loss: 0.3062 - val_accuracy: 0.8884\n",
            "Epoch 23/30\n",
            "1719/1719 [==============================] - 5s 3ms/step - loss: 0.2750 - accuracy: 0.8996 - val_loss: 0.3093 - val_accuracy: 0.8902\n",
            "Epoch 24/30\n",
            "1719/1719 [==============================] - 5s 3ms/step - loss: 0.2713 - accuracy: 0.9014 - val_loss: 0.3172 - val_accuracy: 0.8822\n",
            "Epoch 25/30\n",
            "1719/1719 [==============================] - 5s 3ms/step - loss: 0.2667 - accuracy: 0.9030 - val_loss: 0.3147 - val_accuracy: 0.8886\n",
            "Epoch 26/30\n",
            "1719/1719 [==============================] - 5s 3ms/step - loss: 0.2633 - accuracy: 0.9051 - val_loss: 0.3093 - val_accuracy: 0.8878\n",
            "Epoch 27/30\n",
            "1719/1719 [==============================] - 5s 3ms/step - loss: 0.2605 - accuracy: 0.9065 - val_loss: 0.3036 - val_accuracy: 0.8896\n",
            "Epoch 28/30\n",
            "1719/1719 [==============================] - 5s 3ms/step - loss: 0.2576 - accuracy: 0.9064 - val_loss: 0.3121 - val_accuracy: 0.8878\n",
            "Epoch 29/30\n",
            "1719/1719 [==============================] - 5s 3ms/step - loss: 0.2534 - accuracy: 0.9084 - val_loss: 0.3213 - val_accuracy: 0.8834\n",
            "Epoch 30/30\n",
            "1719/1719 [==============================] - 5s 3ms/step - loss: 0.2502 - accuracy: 0.9096 - val_loss: 0.3185 - val_accuracy: 0.8856\n"
          ]
        }
      ]
    },
    {
      "cell_type": "code",
      "metadata": {
        "id": "2FjhgIK6eKB9",
        "outputId": "59da4390-73a3-4ecd-a575-d37ce2ee7f4c",
        "colab": {
          "base_uri": "https://localhost:8080/"
        }
      },
      "source": [
        "print(history.epoch)"
      ],
      "execution_count": null,
      "outputs": [
        {
          "output_type": "stream",
          "name": "stdout",
          "text": [
            "[0, 1, 2, 3, 4, 5, 6, 7, 8, 9, 10, 11, 12, 13, 14, 15, 16, 17, 18, 19, 20, 21, 22, 23, 24, 25, 26, 27, 28, 29]\n"
          ]
        }
      ]
    },
    {
      "cell_type": "code",
      "metadata": {
        "id": "6HqWlAKSdZ0B",
        "outputId": "f4548aa0-8c96-47ec-b31e-06c5c772c820",
        "colab": {
          "base_uri": "https://localhost:8080/",
          "height": 339
        }
      },
      "source": [
        "import pandas as pd\n",
        "pd.DataFrame(history.history).plot(figsize=(8, 5))\n",
        "plt.grid(True)\n",
        "plt.gca().set_ylim(0, 1)\n",
        "plt.title(\"keras learning curves\")\n",
        "plt.show()"
      ],
      "execution_count": null,
      "outputs": [
        {
          "output_type": "display_data",
          "data": {
            "text/plain": [
              "<Figure size 576x360 with 1 Axes>"
            ],
            "image/png": "[encoded data removed]"
          },
          "metadata": {
            "needs_background": "light"
          }
        }
      ]
    },
    {
      "cell_type": "code",
      "metadata": {
        "id": "6KjzGQXzd8Pp",
        "outputId": "f056c653-cd04-4e62-b22a-cd5b448f3ce9",
        "colab": {
          "base_uri": "https://localhost:8080/"
        }
      },
      "source": [
        "# measure how well the model perform on the test set\n",
        "# test_loss and test_accuracy\n",
        "model.evaluate(X_test, y_test)"
      ],
      "execution_count": null,
      "outputs": [
        {
          "output_type": "stream",
          "name": "stdout",
          "text": [
            "313/313 [==============================] - 1s 2ms/step - loss: 0.3525 - accuracy: 0.8732\n"
          ]
        },
        {
          "output_type": "execute_result",
          "data": {
            "text/plain": [
              "[0.3525136113166809, 0.873199999332428]"
            ]
          },
          "metadata": {},
          "execution_count": 20
        }
      ]
    },
    {
      "cell_type": "markdown",
      "metadata": {
        "id": "q86aNOjnjJI9"
      },
      "source": [
        "# Building the model 1\n",
        "- Activation function: Sigmoid\n",
        "- Optimization: SGD\n",
        "- Architecture: 10\\*20\\*30\\*50\\*10\n",
        "- Initialization: Norm "
      ]
    },
    {
      "cell_type": "code",
      "metadata": {
        "id": "Js0FxuO6jUS_",
        "outputId": "349c65f2-7031-4db6-f5d3-bce8d1cc8b96",
        "colab": {
          "base_uri": "https://localhost:8080/",
          "height": 1000
        }
      },
      "source": [
        "keras.backend.clear_session()\n",
        "np.random.seed(42)\n",
        "tf.random.set_seed(42)\n",
        "\n",
        "\n",
        "model = keras.models.Sequential([\n",
        "    keras.layers.Flatten(input_shape=[28, 28]),\n",
        "    keras.layers.Dense(10, activation=\"sigmoid\", kernel_initializer=keras.initializers.RandomNormal(stddev=0.05)),\n",
        "    keras.layers.Dense(20, activation=\"sigmoid\", kernel_initializer=keras.initializers.RandomNormal(stddev=0.05)),\n",
        "    keras.layers.Dense(30, activation=\"sigmoid\", kernel_initializer=keras.initializers.RandomNormal(stddev=0.05)),\n",
        "    keras.layers.Dense(50, activation=\"sigmoid\", kernel_initializer=keras.initializers.RandomNormal(stddev=0.05)),\n",
        "    keras.layers.Dense(10, activation=\"softmax\")\n",
        "])\n",
        "\n",
        "\n",
        "model.compile(loss=\"sparse_categorical_crossentropy\",\n",
        "              optimizer=\"sgd\",\n",
        "              metrics=[\"accuracy\"])\n",
        "\n",
        "\n",
        "history = model.fit(X_train, y_train, epochs=50,\n",
        "                    validation_data=(X_valid, y_valid))\n",
        "\n",
        "\n",
        "pd.DataFrame(history.history).plot(figsize=(8, 5))\n",
        "plt.grid(True)\n",
        "#plt.gca().set_ylim(0, 1)\n",
        "plt.title(\"keras learning curves\")\n",
        "plt.show()\n",
        "\n",
        "\n",
        "print(model.evaluate(X_test, y_test))"
      ],
      "execution_count": null,
      "outputs": [
        {
          "output_type": "stream",
          "name": "stdout",
          "text": [
            "Epoch 1/50\n",
            "1719/1719 [==============================] - 5s 3ms/step - loss: 2.3059 - accuracy: 0.0992 - val_loss: 2.3042 - val_accuracy: 0.1008\n",
            "Epoch 2/50\n",
            "1719/1719 [==============================] - 5s 3ms/step - loss: 2.3037 - accuracy: 0.0978 - val_loss: 2.3037 - val_accuracy: 0.0976\n",
            "Epoch 3/50\n",
            "1719/1719 [==============================] - 5s 3ms/step - loss: 2.3037 - accuracy: 0.0984 - val_loss: 2.3059 - val_accuracy: 0.0986\n",
            "Epoch 4/50\n",
            "1719/1719 [==============================] - 5s 3ms/step - loss: 2.3036 - accuracy: 0.1007 - val_loss: 2.3023 - val_accuracy: 0.0986\n",
            "Epoch 5/50\n",
            "1719/1719 [==============================] - 5s 3ms/step - loss: 2.3036 - accuracy: 0.0983 - val_loss: 2.3044 - val_accuracy: 0.0986\n",
            "Epoch 6/50\n",
            "1719/1719 [==============================] - 6s 3ms/step - loss: 2.3035 - accuracy: 0.0981 - val_loss: 2.3037 - val_accuracy: 0.0980\n",
            "Epoch 7/50\n",
            "1719/1719 [==============================] - 5s 3ms/step - loss: 2.3033 - accuracy: 0.1033 - val_loss: 2.3034 - val_accuracy: 0.1012\n",
            "Epoch 8/50\n",
            "1719/1719 [==============================] - 5s 3ms/step - loss: 2.3036 - accuracy: 0.1015 - val_loss: 2.3039 - val_accuracy: 0.0986\n",
            "Epoch 9/50\n",
            "1719/1719 [==============================] - 5s 3ms/step - loss: 2.3035 - accuracy: 0.1005 - val_loss: 2.3026 - val_accuracy: 0.0980\n",
            "Epoch 10/50\n",
            "1719/1719 [==============================] - 5s 3ms/step - loss: 2.3038 - accuracy: 0.0989 - val_loss: 2.3035 - val_accuracy: 0.0914\n",
            "Epoch 11/50\n",
            "1719/1719 [==============================] - 5s 3ms/step - loss: 2.3035 - accuracy: 0.0997 - val_loss: 2.3038 - val_accuracy: 0.0980\n",
            "Epoch 12/50\n",
            "1719/1719 [==============================] - 5s 3ms/step - loss: 2.3037 - accuracy: 0.0982 - val_loss: 2.3033 - val_accuracy: 0.1012\n",
            "Epoch 13/50\n",
            "1719/1719 [==============================] - 5s 3ms/step - loss: 2.3036 - accuracy: 0.0996 - val_loss: 2.3032 - val_accuracy: 0.0986\n",
            "Epoch 14/50\n",
            "1719/1719 [==============================] - 5s 3ms/step - loss: 2.3037 - accuracy: 0.0984 - val_loss: 2.3043 - val_accuracy: 0.1002\n",
            "Epoch 15/50\n",
            "1719/1719 [==============================] - 5s 3ms/step - loss: 2.3036 - accuracy: 0.0987 - val_loss: 2.3041 - val_accuracy: 0.0914\n",
            "Epoch 16/50\n",
            "1719/1719 [==============================] - 5s 3ms/step - loss: 2.3038 - accuracy: 0.0979 - val_loss: 2.3033 - val_accuracy: 0.0986\n",
            "Epoch 17/50\n",
            "1719/1719 [==============================] - 5s 3ms/step - loss: 2.3037 - accuracy: 0.0978 - val_loss: 2.3031 - val_accuracy: 0.1002\n",
            "Epoch 18/50\n",
            "1719/1719 [==============================] - 5s 3ms/step - loss: 2.3034 - accuracy: 0.0999 - val_loss: 2.3039 - val_accuracy: 0.0980\n",
            "Epoch 19/50\n",
            "1719/1719 [==============================] - 5s 3ms/step - loss: 2.3035 - accuracy: 0.1001 - val_loss: 2.3040 - val_accuracy: 0.0980\n",
            "Epoch 20/50\n",
            "1719/1719 [==============================] - 5s 3ms/step - loss: 2.3035 - accuracy: 0.1004 - val_loss: 2.3038 - val_accuracy: 0.0986\n",
            "Epoch 21/50\n",
            "1719/1719 [==============================] - 5s 3ms/step - loss: 2.3035 - accuracy: 0.1017 - val_loss: 2.3042 - val_accuracy: 0.0980\n",
            "Epoch 22/50\n",
            "1719/1719 [==============================] - 5s 3ms/step - loss: 2.3036 - accuracy: 0.1007 - val_loss: 2.3025 - val_accuracy: 0.1012\n",
            "Epoch 23/50\n",
            "1719/1719 [==============================] - 5s 3ms/step - loss: 2.3036 - accuracy: 0.0990 - val_loss: 2.3034 - val_accuracy: 0.1008\n",
            "Epoch 24/50\n",
            "1719/1719 [==============================] - 5s 3ms/step - loss: 2.3036 - accuracy: 0.0990 - val_loss: 2.3042 - val_accuracy: 0.0976\n",
            "Epoch 25/50\n",
            "1719/1719 [==============================] - 5s 3ms/step - loss: 2.3036 - accuracy: 0.0998 - val_loss: 2.3053 - val_accuracy: 0.0914\n",
            "Epoch 26/50\n",
            "1719/1719 [==============================] - 5s 3ms/step - loss: 2.3036 - accuracy: 0.0984 - val_loss: 2.3037 - val_accuracy: 0.1012\n",
            "Epoch 27/50\n",
            "1719/1719 [==============================] - 5s 3ms/step - loss: 2.3035 - accuracy: 0.0970 - val_loss: 2.3025 - val_accuracy: 0.1002\n",
            "Epoch 28/50\n",
            "1719/1719 [==============================] - 5s 3ms/step - loss: 2.3037 - accuracy: 0.0994 - val_loss: 2.3033 - val_accuracy: 0.1002\n",
            "Epoch 29/50\n",
            "1719/1719 [==============================] - 5s 3ms/step - loss: 2.3036 - accuracy: 0.1001 - val_loss: 2.3043 - val_accuracy: 0.1002\n",
            "Epoch 30/50\n",
            "1719/1719 [==============================] - 5s 3ms/step - loss: 2.3035 - accuracy: 0.1010 - val_loss: 2.3041 - val_accuracy: 0.0914\n",
            "Epoch 31/50\n",
            "1719/1719 [==============================] - 5s 3ms/step - loss: 2.3035 - accuracy: 0.0983 - val_loss: 2.3029 - val_accuracy: 0.1002\n",
            "Epoch 32/50\n",
            "1719/1719 [==============================] - 5s 3ms/step - loss: 2.3036 - accuracy: 0.1002 - val_loss: 2.3045 - val_accuracy: 0.0914\n",
            "Epoch 33/50\n",
            "1719/1719 [==============================] - 5s 3ms/step - loss: 2.3037 - accuracy: 0.0967 - val_loss: 2.3023 - val_accuracy: 0.1112\n",
            "Epoch 34/50\n",
            "1719/1719 [==============================] - 5s 3ms/step - loss: 2.3037 - accuracy: 0.0996 - val_loss: 2.3041 - val_accuracy: 0.0980\n",
            "Epoch 35/50\n",
            "1719/1719 [==============================] - 5s 3ms/step - loss: 2.3034 - accuracy: 0.1002 - val_loss: 2.3029 - val_accuracy: 0.0986\n",
            "Epoch 36/50\n",
            "1719/1719 [==============================] - 5s 3ms/step - loss: 2.3036 - accuracy: 0.0999 - val_loss: 2.3033 - val_accuracy: 0.1112\n",
            "Epoch 37/50\n",
            "1719/1719 [==============================] - 5s 3ms/step - loss: 2.3036 - accuracy: 0.1005 - val_loss: 2.3029 - val_accuracy: 0.1112\n",
            "Epoch 38/50\n",
            "1719/1719 [==============================] - 5s 3ms/step - loss: 2.3034 - accuracy: 0.0995 - val_loss: 2.3035 - val_accuracy: 0.0980\n",
            "Epoch 39/50\n",
            "1719/1719 [==============================] - 5s 3ms/step - loss: 2.3035 - accuracy: 0.1011 - val_loss: 2.3036 - val_accuracy: 0.1008\n",
            "Epoch 40/50\n",
            "1719/1719 [==============================] - 5s 3ms/step - loss: 2.3035 - accuracy: 0.0995 - val_loss: 2.3039 - val_accuracy: 0.1024\n",
            "Epoch 41/50\n",
            "1719/1719 [==============================] - 5s 3ms/step - loss: 2.3035 - accuracy: 0.0985 - val_loss: 2.3027 - val_accuracy: 0.1008\n",
            "Epoch 42/50\n",
            "1719/1719 [==============================] - 5s 3ms/step - loss: 2.3035 - accuracy: 0.0988 - val_loss: 2.3038 - val_accuracy: 0.0980\n",
            "Epoch 43/50\n",
            "1719/1719 [==============================] - 5s 3ms/step - loss: 2.3034 - accuracy: 0.1007 - val_loss: 2.3048 - val_accuracy: 0.0914\n",
            "Epoch 44/50\n",
            "1719/1719 [==============================] - 5s 3ms/step - loss: 2.3035 - accuracy: 0.0989 - val_loss: 2.3031 - val_accuracy: 0.0986\n",
            "Epoch 45/50\n",
            "1719/1719 [==============================] - 5s 3ms/step - loss: 2.3034 - accuracy: 0.0997 - val_loss: 2.3037 - val_accuracy: 0.0976\n",
            "Epoch 46/50\n",
            "1719/1719 [==============================] - 5s 3ms/step - loss: 2.3035 - accuracy: 0.0987 - val_loss: 2.3040 - val_accuracy: 0.0986\n",
            "Epoch 47/50\n",
            "1719/1719 [==============================] - 5s 3ms/step - loss: 2.3036 - accuracy: 0.0993 - val_loss: 2.3036 - val_accuracy: 0.1024\n",
            "Epoch 48/50\n",
            "1719/1719 [==============================] - 5s 3ms/step - loss: 2.3036 - accuracy: 0.0996 - val_loss: 2.3027 - val_accuracy: 0.1008\n",
            "Epoch 49/50\n",
            "1719/1719 [==============================] - 5s 3ms/step - loss: 2.3034 - accuracy: 0.1001 - val_loss: 2.3039 - val_accuracy: 0.0986\n",
            "Epoch 50/50\n",
            "1719/1719 [==============================] - 5s 3ms/step - loss: 2.3037 - accuracy: 0.0992 - val_loss: 2.3038 - val_accuracy: 0.1024\n"
          ]
        },
        {
          "output_type": "display_data",
          "data": {
            "text/plain": [
              "<Figure size 576x360 with 1 Axes>"
            ],
            "image/png": "[encoded data removed]"
          },
          "metadata": {
            "needs_background": "light"
          }
        },
        {
          "output_type": "stream",
          "name": "stdout",
          "text": [
            "313/313 [==============================] - 1s 2ms/step - loss: 2.3031 - accuracy: 0.1000\n",
            "[2.3031206130981445, 0.10000000149011612]\n"
          ]
        }
      ]
    },
    {
      "cell_type": "code",
      "metadata": {
        "id": "P-GC_xCANr2u",
        "colab": {
          "base_uri": "https://localhost:8080/"
        },
        "outputId": "1eacfdfd-a707-49e9-d642-3860ec5ff630"
      },
      "source": [
        "model.summary()"
      ],
      "execution_count": null,
      "outputs": [
        {
          "output_type": "stream",
          "name": "stdout",
          "text": [
            "Model: \"sequential\"\n",
            "_________________________________________________________________\n",
            " Layer (type)                Output Shape              Param #   \n",
            "=================================================================\n",
            " flatten (Flatten)           (None, 784)               0         \n",
            "                                                                 \n",
            " dense (Dense)               (None, 10)                7850      \n",
            "                                                                 \n",
            " dense_1 (Dense)             (None, 20)                220       \n",
            "                                                                 \n",
            " dense_2 (Dense)             (None, 30)                630       \n",
            "                                                                 \n",
            " dense_3 (Dense)             (None, 50)                1550      \n",
            "                                                                 \n",
            " dense_4 (Dense)             (None, 10)                510       \n",
            "                                                                 \n",
            "=================================================================\n",
            "Total params: 10,760\n",
            "Trainable params: 10,760\n",
            "Non-trainable params: 0\n",
            "_________________________________________________________________\n"
          ]
        }
      ]
    },
    {
      "cell_type": "markdown",
      "metadata": {
        "id": "T6vFDaz5oKSe"
      },
      "source": [
        "# Building the model 2\n",
        "- Activation function: Sigmoid\n",
        "- Optimization: SGD\n",
        "- Architecture: 100\\*50\\*10\n",
        "- Initialization: Norm "
      ]
    },
    {
      "cell_type": "code",
      "metadata": {
        "id": "FC-BzUgpoWdE",
        "outputId": "fd39847b-6178-450a-8d99-f95a46ea59b3",
        "colab": {
          "base_uri": "https://localhost:8080/",
          "height": 1000
        }
      },
      "source": [
        "keras.backend.clear_session()\n",
        "np.random.seed(42)\n",
        "tf.random.set_seed(42)\n",
        "\n",
        "\n",
        "model = keras.models.Sequential([\n",
        "    keras.layers.Flatten(input_shape=[28, 28]),\n",
        "    keras.layers.Dense(100, activation=\"sigmoid\", kernel_initializer=keras.initializers.RandomNormal(stddev=0.05)),\n",
        "    keras.layers.Dense(50, activation=\"sigmoid\", kernel_initializer=keras.initializers.RandomNormal(stddev=0.05)),\n",
        "    keras.layers.Dense(10, activation=\"softmax\")\n",
        "])\n",
        "\n",
        "\n",
        "model.compile(loss=\"sparse_categorical_crossentropy\",\n",
        "              optimizer=\"sgd\",\n",
        "              metrics=[\"accuracy\"])\n",
        "\n",
        "\n",
        "history = model.fit(X_train, y_train, epochs=30,\n",
        "                    validation_data=(X_valid, y_valid))\n",
        "\n",
        "\n",
        "pd.DataFrame(history.history).plot(figsize=(8, 5))\n",
        "plt.grid(True)\n",
        "#plt.gca().set_ylim(0, 1)\n",
        "plt.title(\"keras learning curves\")\n",
        "plt.show()\n",
        "\n",
        "\n",
        "print(model.evaluate(X_test, y_test))"
      ],
      "execution_count": null,
      "outputs": [
        {
          "output_type": "stream",
          "name": "stdout",
          "text": [
            "Epoch 1/30\n",
            "1719/1719 [==============================] - 5s 3ms/step - loss: 2.2058 - accuracy: 0.3009 - val_loss: 2.0182 - val_accuracy: 0.4500\n",
            "Epoch 2/30\n",
            "1719/1719 [==============================] - 5s 3ms/step - loss: 1.7351 - accuracy: 0.4853 - val_loss: 1.4886 - val_accuracy: 0.5400\n",
            "Epoch 3/30\n",
            "1719/1719 [==============================] - 5s 3ms/step - loss: 1.3421 - accuracy: 0.5829 - val_loss: 1.2039 - val_accuracy: 0.6402\n",
            "Epoch 4/30\n",
            "1719/1719 [==============================] - 5s 3ms/step - loss: 1.1203 - accuracy: 0.6266 - val_loss: 1.0336 - val_accuracy: 0.6490\n",
            "Epoch 5/30\n",
            "1719/1719 [==============================] - 5s 3ms/step - loss: 0.9852 - accuracy: 0.6610 - val_loss: 0.9255 - val_accuracy: 0.7002\n",
            "Epoch 6/30\n",
            "1719/1719 [==============================] - 5s 3ms/step - loss: 0.8883 - accuracy: 0.6979 - val_loss: 0.8407 - val_accuracy: 0.7254\n",
            "Epoch 7/30\n",
            "1719/1719 [==============================] - 5s 3ms/step - loss: 0.8139 - accuracy: 0.7204 - val_loss: 0.7747 - val_accuracy: 0.7356\n",
            "Epoch 8/30\n",
            "1719/1719 [==============================] - 5s 3ms/step - loss: 0.7585 - accuracy: 0.7321 - val_loss: 0.7265 - val_accuracy: 0.7460\n",
            "Epoch 9/30\n",
            "1719/1719 [==============================] - 5s 3ms/step - loss: 0.7160 - accuracy: 0.7395 - val_loss: 0.6868 - val_accuracy: 0.7518\n",
            "Epoch 10/30\n",
            "1719/1719 [==============================] - 5s 3ms/step - loss: 0.6819 - accuracy: 0.7484 - val_loss: 0.6547 - val_accuracy: 0.7654\n",
            "Epoch 11/30\n",
            "1719/1719 [==============================] - 5s 3ms/step - loss: 0.6535 - accuracy: 0.7558 - val_loss: 0.6282 - val_accuracy: 0.7742\n",
            "Epoch 12/30\n",
            "1719/1719 [==============================] - 5s 3ms/step - loss: 0.6296 - accuracy: 0.7640 - val_loss: 0.6057 - val_accuracy: 0.7776\n",
            "Epoch 13/30\n",
            "1719/1719 [==============================] - 5s 3ms/step - loss: 0.6091 - accuracy: 0.7720 - val_loss: 0.5836 - val_accuracy: 0.7902\n",
            "Epoch 14/30\n",
            "1719/1719 [==============================] - 5s 3ms/step - loss: 0.5912 - accuracy: 0.7797 - val_loss: 0.5678 - val_accuracy: 0.7946\n",
            "Epoch 15/30\n",
            "1719/1719 [==============================] - 5s 3ms/step - loss: 0.5752 - accuracy: 0.7873 - val_loss: 0.5522 - val_accuracy: 0.8046\n",
            "Epoch 16/30\n",
            "1719/1719 [==============================] - 5s 3ms/step - loss: 0.5610 - accuracy: 0.7949 - val_loss: 0.5387 - val_accuracy: 0.8100\n",
            "Epoch 17/30\n",
            "1719/1719 [==============================] - 5s 3ms/step - loss: 0.5479 - accuracy: 0.8018 - val_loss: 0.5275 - val_accuracy: 0.8124\n",
            "Epoch 18/30\n",
            "1719/1719 [==============================] - 5s 3ms/step - loss: 0.5362 - accuracy: 0.8075 - val_loss: 0.5141 - val_accuracy: 0.8188\n",
            "Epoch 19/30\n",
            "1719/1719 [==============================] - 5s 3ms/step - loss: 0.5256 - accuracy: 0.8122 - val_loss: 0.5058 - val_accuracy: 0.8240\n",
            "Epoch 20/30\n",
            "1719/1719 [==============================] - 5s 3ms/step - loss: 0.5159 - accuracy: 0.8161 - val_loss: 0.4957 - val_accuracy: 0.8244\n",
            "Epoch 21/30\n",
            "1719/1719 [==============================] - 5s 3ms/step - loss: 0.5070 - accuracy: 0.8197 - val_loss: 0.4867 - val_accuracy: 0.8308\n",
            "Epoch 22/30\n",
            "1719/1719 [==============================] - 5s 3ms/step - loss: 0.4988 - accuracy: 0.8226 - val_loss: 0.4792 - val_accuracy: 0.8338\n",
            "Epoch 23/30\n",
            "1719/1719 [==============================] - 5s 3ms/step - loss: 0.4912 - accuracy: 0.8259 - val_loss: 0.4734 - val_accuracy: 0.8364\n",
            "Epoch 24/30\n",
            "1719/1719 [==============================] - 5s 3ms/step - loss: 0.4844 - accuracy: 0.8269 - val_loss: 0.4684 - val_accuracy: 0.8378\n",
            "Epoch 25/30\n",
            "1719/1719 [==============================] - 5s 3ms/step - loss: 0.4782 - accuracy: 0.8304 - val_loss: 0.4637 - val_accuracy: 0.8426\n",
            "Epoch 26/30\n",
            "1719/1719 [==============================] - 5s 3ms/step - loss: 0.4723 - accuracy: 0.8321 - val_loss: 0.4575 - val_accuracy: 0.8436\n",
            "Epoch 27/30\n",
            "1719/1719 [==============================] - 5s 3ms/step - loss: 0.4667 - accuracy: 0.8341 - val_loss: 0.4531 - val_accuracy: 0.8444\n",
            "Epoch 28/30\n",
            "1719/1719 [==============================] - 5s 3ms/step - loss: 0.4615 - accuracy: 0.8357 - val_loss: 0.4505 - val_accuracy: 0.8450\n",
            "Epoch 29/30\n",
            "1719/1719 [==============================] - 5s 3ms/step - loss: 0.4564 - accuracy: 0.8377 - val_loss: 0.4442 - val_accuracy: 0.8474\n",
            "Epoch 30/30\n",
            "1719/1719 [==============================] - 5s 3ms/step - loss: 0.4517 - accuracy: 0.8392 - val_loss: 0.4397 - val_accuracy: 0.8472\n"
          ]
        },
        {
          "output_type": "display_data",
          "data": {
            "text/plain": [
              "<Figure size 576x360 with 1 Axes>"
            ],
            "image/png": "[encoded data removed]"
          },
          "metadata": {
            "needs_background": "light"
          }
        },
        {
          "output_type": "stream",
          "name": "stdout",
          "text": [
            "313/313 [==============================] - 1s 2ms/step - loss: 0.4797 - accuracy: 0.8269\n",
            "[0.47967538237571716, 0.8269000053405762]\n"
          ]
        }
      ]
    },
    {
      "cell_type": "code",
      "metadata": {
        "id": "hsUa1qECNvs4",
        "colab": {
          "base_uri": "https://localhost:8080/"
        },
        "outputId": "ed753f32-7172-475a-f5c4-2c3b601f94d0"
      },
      "source": [
        "model.summary()"
      ],
      "execution_count": null,
      "outputs": [
        {
          "output_type": "stream",
          "name": "stdout",
          "text": [
            "Model: \"sequential\"\n",
            "_________________________________________________________________\n",
            " Layer (type)                Output Shape              Param #   \n",
            "=================================================================\n",
            " flatten (Flatten)           (None, 784)               0         \n",
            "                                                                 \n",
            " dense (Dense)               (None, 100)               78500     \n",
            "                                                                 \n",
            " dense_1 (Dense)             (None, 50)                5050      \n",
            "                                                                 \n",
            " dense_2 (Dense)             (None, 10)                510       \n",
            "                                                                 \n",
            "=================================================================\n",
            "Total params: 84,060\n",
            "Trainable params: 84,060\n",
            "Non-trainable params: 0\n",
            "_________________________________________________________________\n"
          ]
        }
      ]
    },
    {
      "cell_type": "markdown",
      "metadata": {
        "id": "0Yi8kBBOuOwM"
      },
      "source": [
        "# Building the model 3\n",
        "- Activation function: ReLU\n",
        "- Optimization: SGD\n",
        "- Architecture: 100\\*50\\*10\n",
        "- Initialization: Norm "
      ]
    },
    {
      "cell_type": "code",
      "metadata": {
        "id": "rjt4sWt5uPqp",
        "outputId": "06551998-dcfa-47fa-8c52-482fb26460fd",
        "colab": {
          "base_uri": "https://localhost:8080/",
          "height": 1000
        }
      },
      "source": [
        "keras.backend.clear_session()\n",
        "np.random.seed(42)\n",
        "tf.random.set_seed(42)\n",
        "\n",
        "\n",
        "model = keras.models.Sequential([\n",
        "    keras.layers.Flatten(input_shape=[28, 28]),\n",
        "    keras.layers.Dense(100, activation=\"relu\", kernel_initializer=keras.initializers.RandomNormal(stddev=0.05)),\n",
        "    keras.layers.Dense(50, activation=\"relu\", kernel_initializer=keras.initializers.RandomNormal(stddev=0.05)),\n",
        "    keras.layers.Dense(10, activation=\"softmax\")\n",
        "])\n",
        "\n",
        "model.compile(loss=\"sparse_categorical_crossentropy\",\n",
        "              optimizer = keras.optimizers.SGD(lr=0.001, momentum=0.9),\n",
        "              metrics=[\"accuracy\"])\n",
        "\n",
        "\n",
        "history = model.fit(X_train, y_train, epochs=30,\n",
        "                    validation_data=(X_valid, y_valid))\n",
        "\n",
        "\n",
        "pd.DataFrame(history.history).plot(figsize=(8, 5))\n",
        "plt.grid(True)\n",
        "#plt.gca().set_ylim(0, 1)\n",
        "plt.title(\"keras learning curves\")\n",
        "plt.xlabel('Epoch')\n",
        "plt.show()\n",
        "\n",
        "\n",
        "print(model.evaluate(X_test, y_test))"
      ],
      "execution_count": null,
      "outputs": [
        {
          "output_type": "stream",
          "name": "stdout",
          "text": [
            "Epoch 1/30\n"
          ]
        },
        {
          "output_type": "stream",
          "name": "stderr",
          "text": [
            "/usr/local/lib/python3.7/dist-packages/keras/optimizers/optimizer_v2/gradient_descent.py:108: UserWarning: The `lr` argument is deprecated, use `learning_rate` instead.\n",
            "  super(SGD, self).__init__(name, **kwargs)\n"
          ]
        },
        {
          "output_type": "stream",
          "name": "stdout",
          "text": [
            "1719/1719 [==============================] - 5s 3ms/step - loss: 0.9361 - accuracy: 0.6918 - val_loss: 0.5740 - val_accuracy: 0.8024\n",
            "Epoch 2/30\n",
            "1719/1719 [==============================] - 5s 3ms/step - loss: 0.5363 - accuracy: 0.8119 - val_loss: 0.5060 - val_accuracy: 0.8232\n",
            "Epoch 3/30\n",
            "1719/1719 [==============================] - 5s 3ms/step - loss: 0.4799 - accuracy: 0.8309 - val_loss: 0.4526 - val_accuracy: 0.8416\n",
            "Epoch 4/30\n",
            "1719/1719 [==============================] - 5s 3ms/step - loss: 0.4508 - accuracy: 0.8420 - val_loss: 0.4301 - val_accuracy: 0.8522\n",
            "Epoch 5/30\n",
            "1719/1719 [==============================] - 5s 3ms/step - loss: 0.4319 - accuracy: 0.8498 - val_loss: 0.4098 - val_accuracy: 0.8564\n",
            "Epoch 6/30\n",
            "1719/1719 [==============================] - 5s 3ms/step - loss: 0.4160 - accuracy: 0.8538 - val_loss: 0.4013 - val_accuracy: 0.8660\n",
            "Epoch 7/30\n",
            "1719/1719 [==============================] - 5s 3ms/step - loss: 0.4022 - accuracy: 0.8587 - val_loss: 0.3832 - val_accuracy: 0.8698\n",
            "Epoch 8/30\n",
            "1719/1719 [==============================] - 5s 3ms/step - loss: 0.3909 - accuracy: 0.8629 - val_loss: 0.3829 - val_accuracy: 0.8694\n",
            "Epoch 9/30\n",
            "1719/1719 [==============================] - 5s 3ms/step - loss: 0.3788 - accuracy: 0.8669 - val_loss: 0.3786 - val_accuracy: 0.8684\n",
            "Epoch 10/30\n",
            "1719/1719 [==============================] - 5s 3ms/step - loss: 0.3692 - accuracy: 0.8695 - val_loss: 0.3599 - val_accuracy: 0.8764\n",
            "Epoch 11/30\n",
            "1719/1719 [==============================] - 5s 3ms/step - loss: 0.3604 - accuracy: 0.8727 - val_loss: 0.3646 - val_accuracy: 0.8734\n",
            "Epoch 12/30\n",
            "1719/1719 [==============================] - 5s 3ms/step - loss: 0.3525 - accuracy: 0.8745 - val_loss: 0.3588 - val_accuracy: 0.8736\n",
            "Epoch 13/30\n",
            "1719/1719 [==============================] - 5s 3ms/step - loss: 0.3451 - accuracy: 0.8774 - val_loss: 0.3574 - val_accuracy: 0.8748\n",
            "Epoch 14/30\n",
            "1719/1719 [==============================] - 5s 3ms/step - loss: 0.3370 - accuracy: 0.8800 - val_loss: 0.3609 - val_accuracy: 0.8720\n",
            "Epoch 15/30\n",
            "1719/1719 [==============================] - 5s 3ms/step - loss: 0.3325 - accuracy: 0.8811 - val_loss: 0.3457 - val_accuracy: 0.8784\n",
            "Epoch 16/30\n",
            "1719/1719 [==============================] - 5s 3ms/step - loss: 0.3262 - accuracy: 0.8829 - val_loss: 0.3414 - val_accuracy: 0.8782\n",
            "Epoch 17/30\n",
            "1719/1719 [==============================] - 5s 3ms/step - loss: 0.3192 - accuracy: 0.8853 - val_loss: 0.3452 - val_accuracy: 0.8764\n",
            "Epoch 18/30\n",
            "1719/1719 [==============================] - 5s 3ms/step - loss: 0.3148 - accuracy: 0.8871 - val_loss: 0.3382 - val_accuracy: 0.8768\n",
            "Epoch 19/30\n",
            "1719/1719 [==============================] - 5s 3ms/step - loss: 0.3093 - accuracy: 0.8887 - val_loss: 0.3434 - val_accuracy: 0.8800\n",
            "Epoch 20/30\n",
            "1719/1719 [==============================] - 5s 3ms/step - loss: 0.3036 - accuracy: 0.8905 - val_loss: 0.3305 - val_accuracy: 0.8822\n",
            "Epoch 21/30\n",
            "1719/1719 [==============================] - 5s 3ms/step - loss: 0.2978 - accuracy: 0.8921 - val_loss: 0.3369 - val_accuracy: 0.8810\n",
            "Epoch 22/30\n",
            "1719/1719 [==============================] - 5s 3ms/step - loss: 0.2959 - accuracy: 0.8930 - val_loss: 0.3298 - val_accuracy: 0.8820\n",
            "Epoch 23/30\n",
            "1719/1719 [==============================] - 5s 3ms/step - loss: 0.2913 - accuracy: 0.8942 - val_loss: 0.3313 - val_accuracy: 0.8850\n",
            "Epoch 24/30\n",
            "1719/1719 [==============================] - 5s 3ms/step - loss: 0.2857 - accuracy: 0.8968 - val_loss: 0.3290 - val_accuracy: 0.8786\n",
            "Epoch 25/30\n",
            "1719/1719 [==============================] - 5s 3ms/step - loss: 0.2833 - accuracy: 0.8973 - val_loss: 0.3321 - val_accuracy: 0.8812\n",
            "Epoch 26/30\n",
            "1719/1719 [==============================] - 5s 3ms/step - loss: 0.2790 - accuracy: 0.8987 - val_loss: 0.3204 - val_accuracy: 0.8870\n",
            "Epoch 27/30\n",
            "1719/1719 [==============================] - 5s 3ms/step - loss: 0.2758 - accuracy: 0.9001 - val_loss: 0.3199 - val_accuracy: 0.8850\n",
            "Epoch 28/30\n",
            "1719/1719 [==============================] - 5s 3ms/step - loss: 0.2718 - accuracy: 0.9024 - val_loss: 0.3279 - val_accuracy: 0.8836\n",
            "Epoch 29/30\n",
            "1719/1719 [==============================] - 5s 3ms/step - loss: 0.2682 - accuracy: 0.9029 - val_loss: 0.3310 - val_accuracy: 0.8788\n",
            "Epoch 30/30\n",
            "1719/1719 [==============================] - 5s 3ms/step - loss: 0.2647 - accuracy: 0.9039 - val_loss: 0.3207 - val_accuracy: 0.8882\n"
          ]
        },
        {
          "output_type": "display_data",
          "data": {
            "text/plain": [
              "<Figure size 576x360 with 1 Axes>"
            ],
            "image/png": "[encoded data removed]"
          },
          "metadata": {
            "needs_background": "light"
          }
        },
        {
          "output_type": "stream",
          "name": "stdout",
          "text": [
            "313/313 [==============================] - 1s 2ms/step - loss: 0.3467 - accuracy: 0.8782\n",
            "[0.3467042148113251, 0.8781999945640564]\n"
          ]
        }
      ]
    },
    {
      "cell_type": "markdown",
      "metadata": {
        "id": "qSL5Mv7oeW-0"
      },
      "source": [
        "# Building the model 4\n",
        "- Activation function: Sigmoid\n",
        "- Optimization: SGD\n",
        "- Architecture: 100\\*50\\*10\n",
        "- Initialization: Xavier "
      ]
    },
    {
      "cell_type": "code",
      "metadata": {
        "id": "x28IsmRgePzH"
      },
      "source": [
        "keras.backend.clear_session()\n",
        "np.random.seed(42)\n",
        "tf.random.set_seed(42)"
      ],
      "execution_count": null,
      "outputs": []
    },
    {
      "cell_type": "code",
      "metadata": {
        "id": "IDydZ3ZeevK3"
      },
      "source": [
        "model = keras.models.Sequential([\n",
        "    keras.layers.Flatten(input_shape=[28, 28]),\n",
        "    keras.layers.Dense(100, activation=\"sigmoid\", kernel_initializer='GlorotNormal'),\n",
        "    keras.layers.Dense(50, activation=\"sigmoid\", kernel_initializer='GlorotNormal'),\n",
        "    keras.layers.Dense(10, activation=\"softmax\")\n",
        "])"
      ],
      "execution_count": null,
      "outputs": []
    },
    {
      "cell_type": "code",
      "metadata": {
        "id": "GMDsESIJfOsP"
      },
      "source": [
        "model.compile(loss=\"sparse_categorical_crossentropy\",\n",
        "              optimizer=\"sgd\",\n",
        "              metrics=[\"accuracy\"])"
      ],
      "execution_count": null,
      "outputs": []
    },
    {
      "cell_type": "code",
      "metadata": {
        "id": "QUBd4CzcfO82",
        "outputId": "7985ab3e-7da4-4efd-dcb0-83d48a5e1639",
        "colab": {
          "base_uri": "https://localhost:8080/"
        }
      },
      "source": [
        "history = model.fit(X_train, y_train, epochs=30,\n",
        "                    validation_data=(X_valid, y_valid))"
      ],
      "execution_count": null,
      "outputs": [
        {
          "output_type": "stream",
          "name": "stdout",
          "text": [
            "Epoch 1/30\n",
            "1719/1719 [==============================] - 5s 3ms/step - loss: 2.1014 - accuracy: 0.3700 - val_loss: 1.7861 - val_accuracy: 0.5148\n",
            "Epoch 2/30\n",
            "1719/1719 [==============================] - 5s 3ms/step - loss: 1.5231 - accuracy: 0.5629 - val_loss: 1.2999 - val_accuracy: 0.6356\n",
            "Epoch 3/30\n",
            "1719/1719 [==============================] - 5s 3ms/step - loss: 1.1732 - accuracy: 0.6423 - val_loss: 1.0526 - val_accuracy: 0.6822\n",
            "Epoch 4/30\n",
            "1719/1719 [==============================] - 5s 3ms/step - loss: 0.9804 - accuracy: 0.6849 - val_loss: 0.9011 - val_accuracy: 0.7166\n",
            "Epoch 5/30\n",
            "1719/1719 [==============================] - 5s 3ms/step - loss: 0.8573 - accuracy: 0.7132 - val_loss: 0.8007 - val_accuracy: 0.7438\n",
            "Epoch 6/30\n",
            "1719/1719 [==============================] - 5s 3ms/step - loss: 0.7728 - accuracy: 0.7316 - val_loss: 0.7302 - val_accuracy: 0.7496\n",
            "Epoch 7/30\n",
            "1719/1719 [==============================] - 5s 3ms/step - loss: 0.7140 - accuracy: 0.7443 - val_loss: 0.6783 - val_accuracy: 0.7552\n",
            "Epoch 8/30\n",
            "1719/1719 [==============================] - 5s 3ms/step - loss: 0.6715 - accuracy: 0.7553 - val_loss: 0.6419 - val_accuracy: 0.7646\n",
            "Epoch 9/30\n",
            "1719/1719 [==============================] - 6s 3ms/step - loss: 0.6388 - accuracy: 0.7640 - val_loss: 0.6106 - val_accuracy: 0.7768\n",
            "Epoch 10/30\n",
            "1719/1719 [==============================] - 5s 3ms/step - loss: 0.6122 - accuracy: 0.7733 - val_loss: 0.5861 - val_accuracy: 0.7884\n",
            "Epoch 11/30\n",
            "1719/1719 [==============================] - 5s 3ms/step - loss: 0.5896 - accuracy: 0.7823 - val_loss: 0.5656 - val_accuracy: 0.7994\n",
            "Epoch 12/30\n",
            "1719/1719 [==============================] - 5s 3ms/step - loss: 0.5703 - accuracy: 0.7921 - val_loss: 0.5474 - val_accuracy: 0.8052\n",
            "Epoch 13/30\n",
            "1719/1719 [==============================] - 5s 3ms/step - loss: 0.5534 - accuracy: 0.8005 - val_loss: 0.5292 - val_accuracy: 0.8156\n",
            "Epoch 14/30\n",
            "1719/1719 [==============================] - 5s 3ms/step - loss: 0.5386 - accuracy: 0.8062 - val_loss: 0.5174 - val_accuracy: 0.8196\n",
            "Epoch 15/30\n",
            "1719/1719 [==============================] - 5s 3ms/step - loss: 0.5254 - accuracy: 0.8127 - val_loss: 0.5046 - val_accuracy: 0.8248\n",
            "Epoch 16/30\n",
            "1719/1719 [==============================] - 5s 3ms/step - loss: 0.5139 - accuracy: 0.8173 - val_loss: 0.4949 - val_accuracy: 0.8286\n",
            "Epoch 17/30\n",
            "1719/1719 [==============================] - 5s 3ms/step - loss: 0.5035 - accuracy: 0.8209 - val_loss: 0.4864 - val_accuracy: 0.8296\n",
            "Epoch 18/30\n",
            "1719/1719 [==============================] - 5s 3ms/step - loss: 0.4942 - accuracy: 0.8252 - val_loss: 0.4763 - val_accuracy: 0.8348\n",
            "Epoch 19/30\n",
            "1719/1719 [==============================] - 5s 3ms/step - loss: 0.4861 - accuracy: 0.8281 - val_loss: 0.4706 - val_accuracy: 0.8364\n",
            "Epoch 20/30\n",
            "1719/1719 [==============================] - 5s 3ms/step - loss: 0.4787 - accuracy: 0.8300 - val_loss: 0.4626 - val_accuracy: 0.8390\n",
            "Epoch 21/30\n",
            "1719/1719 [==============================] - 5s 3ms/step - loss: 0.4719 - accuracy: 0.8333 - val_loss: 0.4557 - val_accuracy: 0.8448\n",
            "Epoch 22/30\n",
            "1719/1719 [==============================] - 5s 3ms/step - loss: 0.4655 - accuracy: 0.8355 - val_loss: 0.4501 - val_accuracy: 0.8468\n",
            "Epoch 23/30\n",
            "1719/1719 [==============================] - 5s 3ms/step - loss: 0.4597 - accuracy: 0.8369 - val_loss: 0.4461 - val_accuracy: 0.8484\n",
            "Epoch 24/30\n",
            "1719/1719 [==============================] - 5s 3ms/step - loss: 0.4544 - accuracy: 0.8388 - val_loss: 0.4427 - val_accuracy: 0.8488\n",
            "Epoch 25/30\n",
            "1719/1719 [==============================] - 5s 3ms/step - loss: 0.4498 - accuracy: 0.8412 - val_loss: 0.4384 - val_accuracy: 0.8502\n",
            "Epoch 26/30\n",
            "1719/1719 [==============================] - 5s 3ms/step - loss: 0.4450 - accuracy: 0.8419 - val_loss: 0.4336 - val_accuracy: 0.8534\n",
            "Epoch 27/30\n",
            "1719/1719 [==============================] - 5s 3ms/step - loss: 0.4406 - accuracy: 0.8433 - val_loss: 0.4309 - val_accuracy: 0.8522\n",
            "Epoch 28/30\n",
            "1719/1719 [==============================] - 5s 3ms/step - loss: 0.4364 - accuracy: 0.8442 - val_loss: 0.4287 - val_accuracy: 0.8528\n",
            "Epoch 29/30\n",
            "1719/1719 [==============================] - 5s 3ms/step - loss: 0.4323 - accuracy: 0.8470 - val_loss: 0.4233 - val_accuracy: 0.8542\n",
            "Epoch 30/30\n",
            "1719/1719 [==============================] - 5s 3ms/step - loss: 0.4285 - accuracy: 0.8477 - val_loss: 0.4200 - val_accuracy: 0.8562\n"
          ]
        }
      ]
    },
    {
      "cell_type": "code",
      "metadata": {
        "id": "Oc7mkAcxfzw2",
        "outputId": "a3bd10bd-a685-42a5-b655-c7da98084919",
        "colab": {
          "base_uri": "https://localhost:8080/",
          "height": 339
        }
      },
      "source": [
        "pd.DataFrame(history.history).plot(figsize=(8, 5))\n",
        "plt.grid(True)\n",
        "#plt.gca().set_ylim(0, 1)\n",
        "plt.title(\"keras learning curves\")\n",
        "plt.show()"
      ],
      "execution_count": null,
      "outputs": [
        {
          "output_type": "display_data",
          "data": {
            "text/plain": [
              "<Figure size 576x360 with 1 Axes>"
            ],
            "image/png": "[encoded data removed]"
          },
          "metadata": {
            "needs_background": "light"
          }
        }
      ]
    },
    {
      "cell_type": "code",
      "metadata": {
        "id": "hVQHSuukf0Dw",
        "outputId": "dbb1aa75-87d7-41cd-b884-d5ccfeffb887",
        "colab": {
          "base_uri": "https://localhost:8080/"
        }
      },
      "source": [
        "model.evaluate(X_test, y_test)"
      ],
      "execution_count": null,
      "outputs": [
        {
          "output_type": "stream",
          "name": "stdout",
          "text": [
            "313/313 [==============================] - 1s 2ms/step - loss: 0.4588 - accuracy: 0.8333\n"
          ]
        },
        {
          "output_type": "execute_result",
          "data": {
            "text/plain": [
              "[0.45876073837280273, 0.833299994468689]"
            ]
          },
          "metadata": {},
          "execution_count": 31
        }
      ]
    },
    {
      "cell_type": "markdown",
      "metadata": {
        "id": "RGUYQvzVw324"
      },
      "source": [
        "# Building the model 5\n",
        "- Activation function: ReLU\n",
        "- Optimization: SGD\n",
        "- Architecture: 100\\*50\\*10\n",
        "- Initialization: Xavier "
      ]
    },
    {
      "cell_type": "code",
      "metadata": {
        "id": "f4adAg_vw4Kv",
        "outputId": "fe4f4865-35e0-4c47-f937-492f62b7e195",
        "colab": {
          "base_uri": "https://localhost:8080/",
          "height": 1000
        }
      },
      "source": [
        "keras.backend.clear_session()\n",
        "np.random.seed(42)\n",
        "tf.random.set_seed(42)\n",
        "\n",
        "\n",
        "model = keras.models.Sequential([\n",
        "    keras.layers.Flatten(input_shape=[28, 28]),\n",
        "    keras.layers.Dense(100, activation=\"relu\", kernel_initializer='GlorotNormal'),\n",
        "    keras.layers.Dense(50, activation=\"relu\", kernel_initializer='GlorotNormal'),\n",
        "    keras.layers.Dense(10, activation=\"softmax\")\n",
        "])\n",
        "\n",
        "model.compile(loss=\"sparse_categorical_crossentropy\",\n",
        "              optimizer=\"sgd\",\n",
        "              metrics=[\"accuracy\"])\n",
        "\n",
        "\n",
        "history = model.fit(X_train, y_train, epochs=30,\n",
        "                    validation_data=(X_valid, y_valid))\n",
        "\n",
        "\n",
        "pd.DataFrame(history.history).plot(figsize=(8, 5))\n",
        "plt.grid(True)\n",
        "#plt.gca().set_ylim(0, 1)\n",
        "plt.title(\"keras learning curves\")\n",
        "plt.show()\n",
        "\n",
        "\n",
        "print(model.evaluate(X_test, y_test))"
      ],
      "execution_count": null,
      "outputs": [
        {
          "output_type": "stream",
          "name": "stdout",
          "text": [
            "Epoch 1/30\n",
            "1719/1719 [==============================] - 6s 3ms/step - loss: 0.7700 - accuracy: 0.7464 - val_loss: 0.5421 - val_accuracy: 0.8148\n",
            "Epoch 2/30\n",
            "1719/1719 [==============================] - 5s 3ms/step - loss: 0.5068 - accuracy: 0.8222 - val_loss: 0.4514 - val_accuracy: 0.8414\n",
            "Epoch 3/30\n",
            "1719/1719 [==============================] - 5s 3ms/step - loss: 0.4581 - accuracy: 0.8381 - val_loss: 0.5640 - val_accuracy: 0.7910\n",
            "Epoch 4/30\n",
            "1719/1719 [==============================] - 5s 3ms/step - loss: 0.4297 - accuracy: 0.8495 - val_loss: 0.4096 - val_accuracy: 0.8570\n",
            "Epoch 5/30\n",
            "1719/1719 [==============================] - 5s 3ms/step - loss: 0.4105 - accuracy: 0.8557 - val_loss: 0.3907 - val_accuracy: 0.8612\n",
            "Epoch 6/30\n",
            "1719/1719 [==============================] - 5s 3ms/step - loss: 0.3921 - accuracy: 0.8621 - val_loss: 0.3819 - val_accuracy: 0.8722\n",
            "Epoch 7/30\n",
            "1719/1719 [==============================] - 5s 3ms/step - loss: 0.3800 - accuracy: 0.8654 - val_loss: 0.3806 - val_accuracy: 0.8672\n",
            "Epoch 8/30\n",
            "1719/1719 [==============================] - 5s 3ms/step - loss: 0.3689 - accuracy: 0.8681 - val_loss: 0.4033 - val_accuracy: 0.8552\n",
            "Epoch 9/30\n",
            "1719/1719 [==============================] - 5s 3ms/step - loss: 0.3590 - accuracy: 0.8720 - val_loss: 0.3670 - val_accuracy: 0.8684\n",
            "Epoch 10/30\n",
            "1719/1719 [==============================] - 5s 3ms/step - loss: 0.3497 - accuracy: 0.8748 - val_loss: 0.3715 - val_accuracy: 0.8702\n",
            "Epoch 11/30\n",
            "1719/1719 [==============================] - 5s 3ms/step - loss: 0.3414 - accuracy: 0.8770 - val_loss: 0.3596 - val_accuracy: 0.8722\n",
            "Epoch 12/30\n",
            "1719/1719 [==============================] - 5s 3ms/step - loss: 0.3327 - accuracy: 0.8795 - val_loss: 0.3447 - val_accuracy: 0.8752\n",
            "Epoch 13/30\n",
            "1719/1719 [==============================] - 5s 3ms/step - loss: 0.3266 - accuracy: 0.8837 - val_loss: 0.3462 - val_accuracy: 0.8810\n",
            "Epoch 14/30\n",
            "1719/1719 [==============================] - 5s 3ms/step - loss: 0.3208 - accuracy: 0.8842 - val_loss: 0.3665 - val_accuracy: 0.8658\n",
            "Epoch 15/30\n",
            "1719/1719 [==============================] - 5s 3ms/step - loss: 0.3131 - accuracy: 0.8871 - val_loss: 0.3428 - val_accuracy: 0.8768\n",
            "Epoch 16/30\n",
            "1719/1719 [==============================] - 5s 3ms/step - loss: 0.3085 - accuracy: 0.8896 - val_loss: 0.3247 - val_accuracy: 0.8842\n",
            "Epoch 17/30\n",
            "1719/1719 [==============================] - 5s 3ms/step - loss: 0.3039 - accuracy: 0.8905 - val_loss: 0.3661 - val_accuracy: 0.8700\n",
            "Epoch 18/30\n",
            "1719/1719 [==============================] - 5s 3ms/step - loss: 0.2975 - accuracy: 0.8923 - val_loss: 0.3348 - val_accuracy: 0.8824\n",
            "Epoch 19/30\n",
            "1719/1719 [==============================] - 5s 3ms/step - loss: 0.2938 - accuracy: 0.8941 - val_loss: 0.3263 - val_accuracy: 0.8860\n",
            "Epoch 20/30\n",
            "1719/1719 [==============================] - 5s 3ms/step - loss: 0.2883 - accuracy: 0.8957 - val_loss: 0.3526 - val_accuracy: 0.8750\n",
            "Epoch 21/30\n",
            "1719/1719 [==============================] - 5s 3ms/step - loss: 0.2844 - accuracy: 0.8975 - val_loss: 0.3191 - val_accuracy: 0.8914\n",
            "Epoch 22/30\n",
            "1719/1719 [==============================] - 5s 3ms/step - loss: 0.2802 - accuracy: 0.8982 - val_loss: 0.3138 - val_accuracy: 0.8874\n",
            "Epoch 23/30\n",
            "1719/1719 [==============================] - 5s 3ms/step - loss: 0.2763 - accuracy: 0.8991 - val_loss: 0.3110 - val_accuracy: 0.8886\n",
            "Epoch 24/30\n",
            "1719/1719 [==============================] - 5s 3ms/step - loss: 0.2725 - accuracy: 0.9008 - val_loss: 0.3203 - val_accuracy: 0.8812\n",
            "Epoch 25/30\n",
            "1719/1719 [==============================] - 5s 3ms/step - loss: 0.2682 - accuracy: 0.9025 - val_loss: 0.3156 - val_accuracy: 0.8902\n",
            "Epoch 26/30\n",
            "1719/1719 [==============================] - 5s 3ms/step - loss: 0.2645 - accuracy: 0.9043 - val_loss: 0.3213 - val_accuracy: 0.8838\n",
            "Epoch 27/30\n",
            "1719/1719 [==============================] - 5s 3ms/step - loss: 0.2616 - accuracy: 0.9059 - val_loss: 0.3079 - val_accuracy: 0.8894\n",
            "Epoch 28/30\n",
            "1719/1719 [==============================] - 5s 3ms/step - loss: 0.2583 - accuracy: 0.9060 - val_loss: 0.3237 - val_accuracy: 0.8832\n",
            "Epoch 29/30\n",
            "1719/1719 [==============================] - 5s 3ms/step - loss: 0.2547 - accuracy: 0.9082 - val_loss: 0.3334 - val_accuracy: 0.8788\n",
            "Epoch 30/30\n",
            "1719/1719 [==============================] - 5s 3ms/step - loss: 0.2517 - accuracy: 0.9085 - val_loss: 0.3255 - val_accuracy: 0.8842\n"
          ]
        },
        {
          "output_type": "display_data",
          "data": {
            "text/plain": [
              "<Figure size 576x360 with 1 Axes>"
            ],
            "image/png": "[encoded data removed]"
          },
          "metadata": {
            "needs_background": "light"
          }
        },
        {
          "output_type": "stream",
          "name": "stdout",
          "text": [
            "313/313 [==============================] - 1s 2ms/step - loss: 0.3552 - accuracy: 0.8746\n",
            "[0.3551734983921051, 0.8745999932289124]\n"
          ]
        }
      ]
    },
    {
      "cell_type": "markdown",
      "metadata": {
        "id": "OS-ROWIux_H7"
      },
      "source": [
        "# Building the model 6\n",
        "- Activation function: ReLU\n",
        "- Optimization: SGD\n",
        "- Architecture: 100\\*50\\*10\n",
        "- Initialization: he_normal"
      ]
    },
    {
      "cell_type": "code",
      "metadata": {
        "id": "hIQOSK8ryByQ",
        "outputId": "a9a16b36-5278-4b1b-f932-dcf9998b9862",
        "colab": {
          "base_uri": "https://localhost:8080/",
          "height": 1000
        }
      },
      "source": [
        "keras.backend.clear_session()\n",
        "np.random.seed(42)\n",
        "tf.random.set_seed(42)\n",
        "\n",
        "\n",
        "model = keras.models.Sequential([\n",
        "    keras.layers.Flatten(input_shape=[28, 28]),\n",
        "    keras.layers.Dense(100, activation=\"relu\", kernel_initializer='he_normal'),\n",
        "    keras.layers.Dense(50, activation=\"relu\", kernel_initializer='he_normal'),\n",
        "    keras.layers.Dense(10, activation=\"softmax\")\n",
        "])\n",
        "\n",
        "model.compile(loss=\"sparse_categorical_crossentropy\",\n",
        "              optimizer=\"sgd\",\n",
        "              metrics=[\"accuracy\"])\n",
        "\n",
        "\n",
        "history = model.fit(X_train, y_train, epochs=30,\n",
        "                    validation_data=(X_valid, y_valid))\n",
        "\n",
        "\n",
        "pd.DataFrame(history.history).plot(figsize=(8, 5))\n",
        "plt.grid(True)\n",
        "#plt.gca().set_ylim(0, 1)\n",
        "plt.title(\"keras learning curves\")\n",
        "plt.show()\n",
        "\n",
        "\n",
        "print(model.evaluate(X_test, y_test))"
      ],
      "execution_count": null,
      "outputs": [
        {
          "output_type": "stream",
          "name": "stdout",
          "text": [
            "Epoch 1/30\n",
            "1719/1719 [==============================] - 5s 3ms/step - loss: 0.7326 - accuracy: 0.7570 - val_loss: 0.5292 - val_accuracy: 0.8184\n",
            "Epoch 2/30\n",
            "1719/1719 [==============================] - 5s 3ms/step - loss: 0.4952 - accuracy: 0.8264 - val_loss: 0.4395 - val_accuracy: 0.8496\n",
            "Epoch 3/30\n",
            "1719/1719 [==============================] - 5s 3ms/step - loss: 0.4482 - accuracy: 0.8425 - val_loss: 0.5272 - val_accuracy: 0.8044\n",
            "Epoch 4/30\n",
            "1719/1719 [==============================] - 5s 3ms/step - loss: 0.4210 - accuracy: 0.8539 - val_loss: 0.3993 - val_accuracy: 0.8630\n",
            "Epoch 5/30\n",
            "1719/1719 [==============================] - 5s 3ms/step - loss: 0.4029 - accuracy: 0.8587 - val_loss: 0.3841 - val_accuracy: 0.8654\n",
            "Epoch 6/30\n",
            "1719/1719 [==============================] - 5s 3ms/step - loss: 0.3854 - accuracy: 0.8648 - val_loss: 0.3767 - val_accuracy: 0.8718\n",
            "Epoch 7/30\n",
            "1719/1719 [==============================] - 5s 3ms/step - loss: 0.3740 - accuracy: 0.8683 - val_loss: 0.3732 - val_accuracy: 0.8708\n",
            "Epoch 8/30\n",
            "1719/1719 [==============================] - 5s 3ms/step - loss: 0.3638 - accuracy: 0.8708 - val_loss: 0.3961 - val_accuracy: 0.8564\n",
            "Epoch 9/30\n",
            "1719/1719 [==============================] - 5s 3ms/step - loss: 0.3545 - accuracy: 0.8753 - val_loss: 0.3621 - val_accuracy: 0.8674\n",
            "Epoch 10/30\n",
            "1719/1719 [==============================] - 5s 3ms/step - loss: 0.3456 - accuracy: 0.8764 - val_loss: 0.3654 - val_accuracy: 0.8714\n",
            "Epoch 11/30\n",
            "1719/1719 [==============================] - 5s 3ms/step - loss: 0.3379 - accuracy: 0.8794 - val_loss: 0.3577 - val_accuracy: 0.8752\n",
            "Epoch 12/30\n",
            "1719/1719 [==============================] - 5s 3ms/step - loss: 0.3295 - accuracy: 0.8822 - val_loss: 0.3448 - val_accuracy: 0.8770\n",
            "Epoch 13/30\n",
            "1719/1719 [==============================] - 5s 3ms/step - loss: 0.3231 - accuracy: 0.8845 - val_loss: 0.3423 - val_accuracy: 0.8798\n",
            "Epoch 14/30\n",
            "1719/1719 [==============================] - 5s 3ms/step - loss: 0.3176 - accuracy: 0.8859 - val_loss: 0.3715 - val_accuracy: 0.8676\n",
            "Epoch 15/30\n",
            "1719/1719 [==============================] - 5s 3ms/step - loss: 0.3100 - accuracy: 0.8886 - val_loss: 0.3437 - val_accuracy: 0.8788\n",
            "Epoch 16/30\n",
            "1719/1719 [==============================] - 5s 3ms/step - loss: 0.3051 - accuracy: 0.8914 - val_loss: 0.3244 - val_accuracy: 0.8820\n",
            "Epoch 17/30\n",
            "1719/1719 [==============================] - 5s 3ms/step - loss: 0.3001 - accuracy: 0.8928 - val_loss: 0.3727 - val_accuracy: 0.8678\n",
            "Epoch 18/30\n",
            "1719/1719 [==============================] - 5s 3ms/step - loss: 0.2944 - accuracy: 0.8941 - val_loss: 0.3386 - val_accuracy: 0.8828\n",
            "Epoch 19/30\n",
            "1719/1719 [==============================] - 5s 3ms/step - loss: 0.2906 - accuracy: 0.8950 - val_loss: 0.3266 - val_accuracy: 0.8852\n",
            "Epoch 20/30\n",
            "1719/1719 [==============================] - 5s 3ms/step - loss: 0.2853 - accuracy: 0.8973 - val_loss: 0.3488 - val_accuracy: 0.8770\n",
            "Epoch 21/30\n",
            "1719/1719 [==============================] - 5s 3ms/step - loss: 0.2813 - accuracy: 0.8991 - val_loss: 0.3161 - val_accuracy: 0.8902\n",
            "Epoch 22/30\n",
            "1719/1719 [==============================] - 5s 3ms/step - loss: 0.2769 - accuracy: 0.8997 - val_loss: 0.3167 - val_accuracy: 0.8880\n",
            "Epoch 23/30\n",
            "1719/1719 [==============================] - 5s 3ms/step - loss: 0.2731 - accuracy: 0.9007 - val_loss: 0.3176 - val_accuracy: 0.8906\n",
            "Epoch 24/30\n",
            "1719/1719 [==============================] - 5s 3ms/step - loss: 0.2692 - accuracy: 0.9031 - val_loss: 0.3229 - val_accuracy: 0.8838\n",
            "Epoch 25/30\n",
            "1719/1719 [==============================] - 5s 3ms/step - loss: 0.2646 - accuracy: 0.9039 - val_loss: 0.3161 - val_accuracy: 0.8900\n",
            "Epoch 26/30\n",
            "1719/1719 [==============================] - 5s 3ms/step - loss: 0.2615 - accuracy: 0.9063 - val_loss: 0.3188 - val_accuracy: 0.8860\n",
            "Epoch 27/30\n",
            "1719/1719 [==============================] - 5s 3ms/step - loss: 0.2582 - accuracy: 0.9069 - val_loss: 0.3147 - val_accuracy: 0.8878\n",
            "Epoch 28/30\n",
            "1719/1719 [==============================] - 5s 3ms/step - loss: 0.2549 - accuracy: 0.9077 - val_loss: 0.3202 - val_accuracy: 0.8872\n",
            "Epoch 29/30\n",
            "1719/1719 [==============================] - 5s 3ms/step - loss: 0.2506 - accuracy: 0.9104 - val_loss: 0.3416 - val_accuracy: 0.8794\n",
            "Epoch 30/30\n",
            "1719/1719 [==============================] - 5s 3ms/step - loss: 0.2479 - accuracy: 0.9099 - val_loss: 0.3282 - val_accuracy: 0.8832\n"
          ]
        },
        {
          "output_type": "display_data",
          "data": {
            "text/plain": [
              "<Figure size 576x360 with 1 Axes>"
            ],
            "image/png": "[encoded data removed]"
          },
          "metadata": {
            "needs_background": "light"
          }
        },
        {
          "output_type": "stream",
          "name": "stdout",
          "text": [
            "313/313 [==============================] - 1s 2ms/step - loss: 0.3597 - accuracy: 0.8753\n",
            "[0.35974857211112976, 0.8752999901771545]\n"
          ]
        }
      ]
    },
    {
      "cell_type": "markdown",
      "metadata": {
        "id": "OMhGxbV9n5PO"
      },
      "source": [
        "# Building the model 7\n",
        "- Activation function: ReLU\n",
        "- Optimization: Mom\n",
        "- Architecture: 100\\*50\\*10\n",
        "- Initialization: He"
      ]
    },
    {
      "cell_type": "code",
      "metadata": {
        "id": "5kWwJRgynmLB",
        "outputId": "00b6cd31-5f18-4b5b-c323-4bad75a0ab6f",
        "colab": {
          "base_uri": "https://localhost:8080/"
        }
      },
      "source": [
        "keras.backend.clear_session()\n",
        "np.random.seed(42)\n",
        "tf.random.set_seed(42)\n",
        "\n",
        "\n",
        "model = keras.models.Sequential([\n",
        "    keras.layers.Flatten(input_shape=[28, 28]),\n",
        "    keras.layers.Dense(100, activation=\"relu\", kernel_initializer='he_normal'),\n",
        "    keras.layers.Dense(50, activation=\"relu\", kernel_initializer='he_normal'),\n",
        "    keras.layers.Dense(10, activation=\"softmax\")\n",
        "])\n",
        "\n",
        "model.compile(loss=\"sparse_categorical_crossentropy\",\n",
        "              optimizer = keras.optimizers.SGD(lr=0.001, momentum=0.9),\n",
        "              metrics=[\"accuracy\"])\n",
        "\n",
        "\n",
        "history = model.fit(X_train, y_train, epochs=30,\n",
        "                    validation_data=(X_valid, y_valid))"
      ],
      "execution_count": null,
      "outputs": [
        {
          "output_type": "stream",
          "name": "stderr",
          "text": [
            "/usr/local/lib/python3.7/dist-packages/keras/optimizers/optimizer_v2/gradient_descent.py:108: UserWarning: The `lr` argument is deprecated, use `learning_rate` instead.\n",
            "  super(SGD, self).__init__(name, **kwargs)\n"
          ]
        },
        {
          "output_type": "stream",
          "name": "stdout",
          "text": [
            "Epoch 1/30\n",
            "1719/1719 [==============================] - 5s 3ms/step - loss: 0.7418 - accuracy: 0.7546 - val_loss: 0.5113 - val_accuracy: 0.8250\n",
            "Epoch 2/30\n",
            "1719/1719 [==============================] - 5s 3ms/step - loss: 0.4925 - accuracy: 0.8286 - val_loss: 0.4676 - val_accuracy: 0.8414\n",
            "Epoch 3/30\n",
            "1719/1719 [==============================] - 5s 3ms/step - loss: 0.4459 - accuracy: 0.8431 - val_loss: 0.4196 - val_accuracy: 0.8518\n",
            "Epoch 4/30\n",
            "1719/1719 [==============================] - 5s 3ms/step - loss: 0.4186 - accuracy: 0.8537 - val_loss: 0.4027 - val_accuracy: 0.8614\n",
            "Epoch 5/30\n",
            "1719/1719 [==============================] - 5s 3ms/step - loss: 0.4012 - accuracy: 0.8600 - val_loss: 0.3827 - val_accuracy: 0.8656\n",
            "Epoch 6/30\n",
            "1719/1719 [==============================] - 5s 3ms/step - loss: 0.3865 - accuracy: 0.8645 - val_loss: 0.3763 - val_accuracy: 0.8732\n",
            "Epoch 7/30\n",
            "1719/1719 [==============================] - 5s 3ms/step - loss: 0.3745 - accuracy: 0.8689 - val_loss: 0.3626 - val_accuracy: 0.8762\n",
            "Epoch 8/30\n",
            "1719/1719 [==============================] - 5s 3ms/step - loss: 0.3638 - accuracy: 0.8719 - val_loss: 0.3668 - val_accuracy: 0.8728\n",
            "Epoch 9/30\n",
            "1719/1719 [==============================] - 5s 3ms/step - loss: 0.3537 - accuracy: 0.8764 - val_loss: 0.3617 - val_accuracy: 0.8712\n",
            "Epoch 10/30\n",
            "1719/1719 [==============================] - 5s 3ms/step - loss: 0.3451 - accuracy: 0.8783 - val_loss: 0.3478 - val_accuracy: 0.8796\n",
            "Epoch 11/30\n",
            "1719/1719 [==============================] - 5s 3ms/step - loss: 0.3374 - accuracy: 0.8807 - val_loss: 0.3469 - val_accuracy: 0.8784\n",
            "Epoch 12/30\n",
            "1719/1719 [==============================] - 5s 3ms/step - loss: 0.3307 - accuracy: 0.8814 - val_loss: 0.3492 - val_accuracy: 0.8790\n",
            "Epoch 13/30\n",
            "1719/1719 [==============================] - 5s 3ms/step - loss: 0.3230 - accuracy: 0.8840 - val_loss: 0.3421 - val_accuracy: 0.8768\n",
            "Epoch 14/30\n",
            "1719/1719 [==============================] - 5s 3ms/step - loss: 0.3161 - accuracy: 0.8865 - val_loss: 0.3548 - val_accuracy: 0.8720\n",
            "Epoch 15/30\n",
            "1719/1719 [==============================] - 5s 3ms/step - loss: 0.3111 - accuracy: 0.8885 - val_loss: 0.3302 - val_accuracy: 0.8842\n",
            "Epoch 16/30\n",
            "1719/1719 [==============================] - 5s 3ms/step - loss: 0.3055 - accuracy: 0.8902 - val_loss: 0.3286 - val_accuracy: 0.8838\n",
            "Epoch 17/30\n",
            "1719/1719 [==============================] - 5s 3ms/step - loss: 0.2984 - accuracy: 0.8917 - val_loss: 0.3361 - val_accuracy: 0.8808\n",
            "Epoch 18/30\n",
            "1719/1719 [==============================] - 5s 3ms/step - loss: 0.2940 - accuracy: 0.8933 - val_loss: 0.3252 - val_accuracy: 0.8870\n",
            "Epoch 19/30\n",
            "1719/1719 [==============================] - 5s 3ms/step - loss: 0.2892 - accuracy: 0.8961 - val_loss: 0.3318 - val_accuracy: 0.8806\n",
            "Epoch 20/30\n",
            "1719/1719 [==============================] - 5s 3ms/step - loss: 0.2837 - accuracy: 0.8977 - val_loss: 0.3229 - val_accuracy: 0.8858\n",
            "Epoch 21/30\n",
            "1719/1719 [==============================] - 5s 3ms/step - loss: 0.2783 - accuracy: 0.9000 - val_loss: 0.3204 - val_accuracy: 0.8896\n",
            "Epoch 22/30\n",
            "1719/1719 [==============================] - 5s 3ms/step - loss: 0.2759 - accuracy: 0.8998 - val_loss: 0.3262 - val_accuracy: 0.8852\n",
            "Epoch 23/30\n",
            "1719/1719 [==============================] - 5s 3ms/step - loss: 0.2711 - accuracy: 0.9009 - val_loss: 0.3216 - val_accuracy: 0.8878\n",
            "Epoch 24/30\n",
            "1719/1719 [==============================] - 5s 3ms/step - loss: 0.2665 - accuracy: 0.9039 - val_loss: 0.3187 - val_accuracy: 0.8852\n",
            "Epoch 25/30\n",
            "1719/1719 [==============================] - 5s 3ms/step - loss: 0.2627 - accuracy: 0.9045 - val_loss: 0.3156 - val_accuracy: 0.8892\n",
            "Epoch 26/30\n",
            "1719/1719 [==============================] - 5s 3ms/step - loss: 0.2592 - accuracy: 0.9058 - val_loss: 0.3114 - val_accuracy: 0.8916\n",
            "Epoch 27/30\n",
            "1719/1719 [==============================] - 5s 3ms/step - loss: 0.2560 - accuracy: 0.9079 - val_loss: 0.3134 - val_accuracy: 0.8870\n",
            "Epoch 28/30\n",
            "1719/1719 [==============================] - 5s 3ms/step - loss: 0.2524 - accuracy: 0.9085 - val_loss: 0.3268 - val_accuracy: 0.8870\n",
            "Epoch 29/30\n",
            "1719/1719 [==============================] - 5s 3ms/step - loss: 0.2490 - accuracy: 0.9098 - val_loss: 0.3264 - val_accuracy: 0.8826\n",
            "Epoch 30/30\n",
            "1719/1719 [==============================] - 5s 3ms/step - loss: 0.2459 - accuracy: 0.9109 - val_loss: 0.3072 - val_accuracy: 0.8926\n"
          ]
        }
      ]
    },
    {
      "cell_type": "code",
      "metadata": {
        "id": "F53i-qiOoD5K",
        "outputId": "3ea34941-b447-497d-e04f-5c93dbd02a9a",
        "colab": {
          "base_uri": "https://localhost:8080/",
          "height": 393
        }
      },
      "source": [
        "pd.DataFrame(history.history).plot(figsize=(8, 5))\n",
        "plt.grid(True)\n",
        "#plt.gca().set_ylim(0, 1)\n",
        "plt.title(\"keras learning curves\")\n",
        "plt.xlabel('Epoch')\n",
        "plt.show()\n",
        "\n",
        "\n",
        "print(model.evaluate(X_test, y_test))"
      ],
      "execution_count": null,
      "outputs": [
        {
          "output_type": "display_data",
          "data": {
            "text/plain": [
              "<Figure size 576x360 with 1 Axes>"
            ],
            "image/png": "[encoded data removed]"
          },
          "metadata": {
            "needs_background": "light"
          }
        },
        {
          "output_type": "stream",
          "name": "stdout",
          "text": [
            "313/313 [==============================] - 1s 2ms/step - loss: 0.3417 - accuracy: 0.8820\n",
            "[0.3416570723056793, 0.8820000290870667]\n"
          ]
        }
      ]
    },
    {
      "cell_type": "markdown",
      "metadata": {
        "id": "-OyEpVkeCYxl"
      },
      "source": [
        "# Building the model 8\n",
        "- Activation function: ReLU\n",
        "- Optimization: Mom\n",
        "- Architecture: 100\\*50\\*10\n",
        "- Initialization: He\n",
        "- Epoch: 100"
      ]
    },
    {
      "cell_type": "code",
      "metadata": {
        "id": "Lybua5O0CZUN",
        "outputId": "329866a5-c8cf-4be0-b469-1c417cba0e64",
        "colab": {
          "base_uri": "https://localhost:8080/"
        }
      },
      "source": [
        "keras.backend.clear_session()\n",
        "np.random.seed(42)\n",
        "tf.random.set_seed(42)\n",
        "\n",
        "\n",
        "model = keras.models.Sequential([\n",
        "    keras.layers.Flatten(input_shape=[28, 28]),\n",
        "    keras.layers.Dense(100, activation=\"relu\", kernel_initializer='he_normal'),\n",
        "    keras.layers.Dense(50, activation=\"relu\", kernel_initializer='he_normal'),\n",
        "    keras.layers.Dense(10, activation=\"softmax\")\n",
        "])\n",
        "\n",
        "model.compile(loss=\"sparse_categorical_crossentropy\",\n",
        "              optimizer = keras.optimizers.SGD(lr=0.001, momentum=0.9),\n",
        "              metrics=[\"accuracy\"])\n",
        "\n",
        "\n",
        "history = model.fit(X_train, y_train, epochs=100,\n",
        "                    validation_data=(X_valid, y_valid))"
      ],
      "execution_count": null,
      "outputs": [
        {
          "output_type": "stream",
          "name": "stderr",
          "text": [
            "/usr/local/lib/python3.7/dist-packages/keras/optimizers/optimizer_v2/gradient_descent.py:108: UserWarning: The `lr` argument is deprecated, use `learning_rate` instead.\n",
            "  super(SGD, self).__init__(name, **kwargs)\n"
          ]
        },
        {
          "output_type": "stream",
          "name": "stdout",
          "text": [
            "Epoch 1/100\n",
            "1719/1719 [==============================] - 5s 3ms/step - loss: 0.7418 - accuracy: 0.7546 - val_loss: 0.5113 - val_accuracy: 0.8250\n",
            "Epoch 2/100\n",
            "1719/1719 [==============================] - 5s 3ms/step - loss: 0.4925 - accuracy: 0.8287 - val_loss: 0.4677 - val_accuracy: 0.8422\n",
            "Epoch 3/100\n",
            "1719/1719 [==============================] - 5s 3ms/step - loss: 0.4459 - accuracy: 0.8431 - val_loss: 0.4198 - val_accuracy: 0.8518\n",
            "Epoch 4/100\n",
            "1719/1719 [==============================] - 5s 3ms/step - loss: 0.4186 - accuracy: 0.8538 - val_loss: 0.4027 - val_accuracy: 0.8600\n",
            "Epoch 5/100\n",
            "1719/1719 [==============================] - 5s 3ms/step - loss: 0.4014 - accuracy: 0.8598 - val_loss: 0.3831 - val_accuracy: 0.8646\n",
            "Epoch 6/100\n",
            "1719/1719 [==============================] - 5s 3ms/step - loss: 0.3867 - accuracy: 0.8637 - val_loss: 0.3759 - val_accuracy: 0.8736\n",
            "Epoch 7/100\n",
            "1719/1719 [==============================] - 5s 3ms/step - loss: 0.3749 - accuracy: 0.8680 - val_loss: 0.3630 - val_accuracy: 0.8752\n",
            "Epoch 8/100\n",
            "1719/1719 [==============================] - 5s 3ms/step - loss: 0.3642 - accuracy: 0.8715 - val_loss: 0.3660 - val_accuracy: 0.8738\n",
            "Epoch 9/100\n",
            "1719/1719 [==============================] - 5s 3ms/step - loss: 0.3539 - accuracy: 0.8754 - val_loss: 0.3613 - val_accuracy: 0.8722\n",
            "Epoch 10/100\n",
            "1719/1719 [==============================] - 5s 3ms/step - loss: 0.3451 - accuracy: 0.8780 - val_loss: 0.3479 - val_accuracy: 0.8780\n",
            "Epoch 11/100\n",
            "1719/1719 [==============================] - 5s 3ms/step - loss: 0.3374 - accuracy: 0.8812 - val_loss: 0.3472 - val_accuracy: 0.8764\n",
            "Epoch 12/100\n",
            "1719/1719 [==============================] - 5s 3ms/step - loss: 0.3309 - accuracy: 0.8817 - val_loss: 0.3484 - val_accuracy: 0.8796\n",
            "Epoch 13/100\n",
            "1719/1719 [==============================] - 5s 3ms/step - loss: 0.3232 - accuracy: 0.8840 - val_loss: 0.3415 - val_accuracy: 0.8782\n",
            "Epoch 14/100\n",
            "1719/1719 [==============================] - 5s 3ms/step - loss: 0.3163 - accuracy: 0.8869 - val_loss: 0.3535 - val_accuracy: 0.8732\n",
            "Epoch 15/100\n",
            "1719/1719 [==============================] - 5s 3ms/step - loss: 0.3114 - accuracy: 0.8883 - val_loss: 0.3296 - val_accuracy: 0.8828\n",
            "Epoch 16/100\n",
            "1719/1719 [==============================] - 5s 3ms/step - loss: 0.3057 - accuracy: 0.8903 - val_loss: 0.3289 - val_accuracy: 0.8840\n",
            "Epoch 17/100\n",
            "1719/1719 [==============================] - 5s 3ms/step - loss: 0.2984 - accuracy: 0.8915 - val_loss: 0.3353 - val_accuracy: 0.8814\n",
            "Epoch 18/100\n",
            "1719/1719 [==============================] - 5s 3ms/step - loss: 0.2936 - accuracy: 0.8937 - val_loss: 0.3251 - val_accuracy: 0.8848\n",
            "Epoch 19/100\n",
            "1719/1719 [==============================] - 5s 3ms/step - loss: 0.2893 - accuracy: 0.8962 - val_loss: 0.3345 - val_accuracy: 0.8788\n",
            "Epoch 20/100\n",
            "1719/1719 [==============================] - 5s 3ms/step - loss: 0.2835 - accuracy: 0.8977 - val_loss: 0.3228 - val_accuracy: 0.8860\n",
            "Epoch 21/100\n",
            "1719/1719 [==============================] - 5s 3ms/step - loss: 0.2785 - accuracy: 0.8997 - val_loss: 0.3209 - val_accuracy: 0.8900\n",
            "Epoch 22/100\n",
            "1719/1719 [==============================] - 5s 3ms/step - loss: 0.2757 - accuracy: 0.9006 - val_loss: 0.3242 - val_accuracy: 0.8852\n",
            "Epoch 23/100\n",
            "1719/1719 [==============================] - 5s 3ms/step - loss: 0.2710 - accuracy: 0.9011 - val_loss: 0.3199 - val_accuracy: 0.8884\n",
            "Epoch 24/100\n",
            "1719/1719 [==============================] - 5s 3ms/step - loss: 0.2663 - accuracy: 0.9035 - val_loss: 0.3176 - val_accuracy: 0.8848\n",
            "Epoch 25/100\n",
            "1719/1719 [==============================] - 5s 3ms/step - loss: 0.2625 - accuracy: 0.9047 - val_loss: 0.3181 - val_accuracy: 0.8890\n",
            "Epoch 26/100\n",
            "1719/1719 [==============================] - 5s 3ms/step - loss: 0.2591 - accuracy: 0.9059 - val_loss: 0.3110 - val_accuracy: 0.8916\n",
            "Epoch 27/100\n",
            "1719/1719 [==============================] - 5s 3ms/step - loss: 0.2556 - accuracy: 0.9078 - val_loss: 0.3130 - val_accuracy: 0.8884\n",
            "Epoch 28/100\n",
            "1719/1719 [==============================] - 5s 3ms/step - loss: 0.2524 - accuracy: 0.9085 - val_loss: 0.3292 - val_accuracy: 0.8864\n",
            "Epoch 29/100\n",
            "1719/1719 [==============================] - 5s 3ms/step - loss: 0.2489 - accuracy: 0.9101 - val_loss: 0.3241 - val_accuracy: 0.8848\n",
            "Epoch 30/100\n",
            "1719/1719 [==============================] - 6s 3ms/step - loss: 0.2453 - accuracy: 0.9105 - val_loss: 0.3051 - val_accuracy: 0.8920\n",
            "Epoch 31/100\n",
            "1719/1719 [==============================] - 5s 3ms/step - loss: 0.2433 - accuracy: 0.9121 - val_loss: 0.3149 - val_accuracy: 0.8882\n",
            "Epoch 32/100\n",
            "1719/1719 [==============================] - 5s 3ms/step - loss: 0.2401 - accuracy: 0.9141 - val_loss: 0.3118 - val_accuracy: 0.8896\n",
            "Epoch 33/100\n",
            "1719/1719 [==============================] - 5s 3ms/step - loss: 0.2362 - accuracy: 0.9147 - val_loss: 0.3060 - val_accuracy: 0.8952\n",
            "Epoch 34/100\n",
            "1719/1719 [==============================] - 5s 3ms/step - loss: 0.2340 - accuracy: 0.9142 - val_loss: 0.3242 - val_accuracy: 0.8850\n",
            "Epoch 35/100\n",
            "1719/1719 [==============================] - 5s 3ms/step - loss: 0.2315 - accuracy: 0.9154 - val_loss: 0.3130 - val_accuracy: 0.8880\n",
            "Epoch 36/100\n",
            "1719/1719 [==============================] - 5s 3ms/step - loss: 0.2278 - accuracy: 0.9177 - val_loss: 0.3158 - val_accuracy: 0.8894\n",
            "Epoch 37/100\n",
            "1719/1719 [==============================] - 5s 3ms/step - loss: 0.2242 - accuracy: 0.9195 - val_loss: 0.3252 - val_accuracy: 0.8882\n",
            "Epoch 38/100\n",
            "1719/1719 [==============================] - 5s 3ms/step - loss: 0.2237 - accuracy: 0.9188 - val_loss: 0.3102 - val_accuracy: 0.8902\n",
            "Epoch 39/100\n",
            "1719/1719 [==============================] - 5s 3ms/step - loss: 0.2195 - accuracy: 0.9204 - val_loss: 0.3175 - val_accuracy: 0.8940\n",
            "Epoch 40/100\n",
            "1719/1719 [==============================] - 5s 3ms/step - loss: 0.2185 - accuracy: 0.9215 - val_loss: 0.3080 - val_accuracy: 0.8928\n",
            "Epoch 41/100\n",
            "1719/1719 [==============================] - 5s 3ms/step - loss: 0.2134 - accuracy: 0.9234 - val_loss: 0.2979 - val_accuracy: 0.8934\n",
            "Epoch 42/100\n",
            "1719/1719 [==============================] - 5s 3ms/step - loss: 0.2118 - accuracy: 0.9238 - val_loss: 0.3227 - val_accuracy: 0.8912\n",
            "Epoch 43/100\n",
            "1719/1719 [==============================] - 5s 3ms/step - loss: 0.2087 - accuracy: 0.9249 - val_loss: 0.3239 - val_accuracy: 0.8862\n",
            "Epoch 44/100\n",
            "1719/1719 [==============================] - 5s 3ms/step - loss: 0.2065 - accuracy: 0.9247 - val_loss: 0.3109 - val_accuracy: 0.8872\n",
            "Epoch 45/100\n",
            "1719/1719 [==============================] - 5s 3ms/step - loss: 0.2049 - accuracy: 0.9261 - val_loss: 0.3080 - val_accuracy: 0.8936\n",
            "Epoch 46/100\n",
            "1719/1719 [==============================] - 5s 3ms/step - loss: 0.2026 - accuracy: 0.9275 - val_loss: 0.3051 - val_accuracy: 0.8946\n",
            "Epoch 47/100\n",
            "1719/1719 [==============================] - 5s 3ms/step - loss: 0.1987 - accuracy: 0.9281 - val_loss: 0.3073 - val_accuracy: 0.8910\n",
            "Epoch 48/100\n",
            "1719/1719 [==============================] - 5s 3ms/step - loss: 0.1979 - accuracy: 0.9291 - val_loss: 0.3057 - val_accuracy: 0.8928\n",
            "Epoch 49/100\n",
            "1719/1719 [==============================] - 5s 3ms/step - loss: 0.1963 - accuracy: 0.9287 - val_loss: 0.3081 - val_accuracy: 0.8934\n",
            "Epoch 50/100\n",
            "1719/1719 [==============================] - 5s 3ms/step - loss: 0.1923 - accuracy: 0.9309 - val_loss: 0.3142 - val_accuracy: 0.8892\n",
            "Epoch 51/100\n",
            "1719/1719 [==============================] - 5s 3ms/step - loss: 0.1912 - accuracy: 0.9319 - val_loss: 0.3169 - val_accuracy: 0.8882\n",
            "Epoch 52/100\n",
            "1719/1719 [==============================] - 5s 3ms/step - loss: 0.1874 - accuracy: 0.9319 - val_loss: 0.3124 - val_accuracy: 0.8924\n",
            "Epoch 53/100\n",
            "1719/1719 [==============================] - 5s 3ms/step - loss: 0.1862 - accuracy: 0.9331 - val_loss: 0.3236 - val_accuracy: 0.8874\n",
            "Epoch 54/100\n",
            "1719/1719 [==============================] - 5s 3ms/step - loss: 0.1831 - accuracy: 0.9346 - val_loss: 0.3102 - val_accuracy: 0.8908\n",
            "Epoch 55/100\n",
            "1719/1719 [==============================] - 5s 3ms/step - loss: 0.1813 - accuracy: 0.9355 - val_loss: 0.3311 - val_accuracy: 0.8900\n",
            "Epoch 56/100\n",
            "1719/1719 [==============================] - 5s 3ms/step - loss: 0.1807 - accuracy: 0.9340 - val_loss: 0.3213 - val_accuracy: 0.8926\n",
            "Epoch 57/100\n",
            "1719/1719 [==============================] - 5s 3ms/step - loss: 0.1791 - accuracy: 0.9359 - val_loss: 0.3146 - val_accuracy: 0.8940\n",
            "Epoch 58/100\n",
            "1719/1719 [==============================] - 5s 3ms/step - loss: 0.1766 - accuracy: 0.9362 - val_loss: 0.3251 - val_accuracy: 0.8928\n",
            "Epoch 59/100\n",
            "1719/1719 [==============================] - 5s 3ms/step - loss: 0.1730 - accuracy: 0.9373 - val_loss: 0.3256 - val_accuracy: 0.8920\n",
            "Epoch 60/100\n",
            "1719/1719 [==============================] - 5s 3ms/step - loss: 0.1737 - accuracy: 0.9375 - val_loss: 0.3143 - val_accuracy: 0.8928\n",
            "Epoch 61/100\n",
            "1719/1719 [==============================] - 5s 3ms/step - loss: 0.1708 - accuracy: 0.9379 - val_loss: 0.3373 - val_accuracy: 0.8886\n",
            "Epoch 62/100\n",
            "1719/1719 [==============================] - 5s 3ms/step - loss: 0.1686 - accuracy: 0.9393 - val_loss: 0.3179 - val_accuracy: 0.8942\n",
            "Epoch 63/100\n",
            "1719/1719 [==============================] - 5s 3ms/step - loss: 0.1669 - accuracy: 0.9401 - val_loss: 0.3208 - val_accuracy: 0.8926\n",
            "Epoch 64/100\n",
            "1719/1719 [==============================] - 5s 3ms/step - loss: 0.1660 - accuracy: 0.9406 - val_loss: 0.3178 - val_accuracy: 0.8934\n",
            "Epoch 65/100\n",
            "1719/1719 [==============================] - 5s 3ms/step - loss: 0.1625 - accuracy: 0.9419 - val_loss: 0.3342 - val_accuracy: 0.8888\n",
            "Epoch 66/100\n",
            "1719/1719 [==============================] - 5s 3ms/step - loss: 0.1601 - accuracy: 0.9432 - val_loss: 0.3142 - val_accuracy: 0.8972\n",
            "Epoch 67/100\n",
            "1719/1719 [==============================] - 5s 3ms/step - loss: 0.1594 - accuracy: 0.9427 - val_loss: 0.3197 - val_accuracy: 0.8948\n",
            "Epoch 68/100\n",
            "1719/1719 [==============================] - 5s 3ms/step - loss: 0.1560 - accuracy: 0.9439 - val_loss: 0.3647 - val_accuracy: 0.8780\n",
            "Epoch 69/100\n",
            "1719/1719 [==============================] - 5s 3ms/step - loss: 0.1562 - accuracy: 0.9446 - val_loss: 0.3390 - val_accuracy: 0.8856\n",
            "Epoch 70/100\n",
            "1719/1719 [==============================] - 5s 3ms/step - loss: 0.1547 - accuracy: 0.9441 - val_loss: 0.3373 - val_accuracy: 0.8900\n",
            "Epoch 71/100\n",
            "1719/1719 [==============================] - 5s 3ms/step - loss: 0.1511 - accuracy: 0.9458 - val_loss: 0.3333 - val_accuracy: 0.8934\n",
            "Epoch 72/100\n",
            "1719/1719 [==============================] - 5s 3ms/step - loss: 0.1498 - accuracy: 0.9467 - val_loss: 0.3523 - val_accuracy: 0.8894\n",
            "Epoch 73/100\n",
            "1719/1719 [==============================] - 5s 3ms/step - loss: 0.1489 - accuracy: 0.9466 - val_loss: 0.3304 - val_accuracy: 0.8924\n",
            "Epoch 74/100\n",
            "1719/1719 [==============================] - 5s 3ms/step - loss: 0.1482 - accuracy: 0.9469 - val_loss: 0.3278 - val_accuracy: 0.8910\n",
            "Epoch 75/100\n",
            "1719/1719 [==============================] - 5s 3ms/step - loss: 0.1453 - accuracy: 0.9489 - val_loss: 0.3360 - val_accuracy: 0.8910\n",
            "Epoch 76/100\n",
            "1719/1719 [==============================] - 5s 3ms/step - loss: 0.1450 - accuracy: 0.9476 - val_loss: 0.3395 - val_accuracy: 0.8902\n",
            "Epoch 77/100\n",
            "1719/1719 [==============================] - 5s 3ms/step - loss: 0.1411 - accuracy: 0.9494 - val_loss: 0.3309 - val_accuracy: 0.8926\n",
            "Epoch 78/100\n",
            "1719/1719 [==============================] - 5s 3ms/step - loss: 0.1416 - accuracy: 0.9501 - val_loss: 0.3521 - val_accuracy: 0.8868\n",
            "Epoch 79/100\n",
            "1719/1719 [==============================] - 5s 3ms/step - loss: 0.1421 - accuracy: 0.9506 - val_loss: 0.3414 - val_accuracy: 0.8890\n",
            "Epoch 80/100\n",
            "1719/1719 [==============================] - 5s 3ms/step - loss: 0.1387 - accuracy: 0.9509 - val_loss: 0.3411 - val_accuracy: 0.8910\n",
            "Epoch 81/100\n",
            "1719/1719 [==============================] - 5s 3ms/step - loss: 0.1367 - accuracy: 0.9511 - val_loss: 0.3420 - val_accuracy: 0.8920\n",
            "Epoch 82/100\n",
            "1719/1719 [==============================] - 5s 3ms/step - loss: 0.1354 - accuracy: 0.9517 - val_loss: 0.3628 - val_accuracy: 0.8894\n",
            "Epoch 83/100\n",
            "1719/1719 [==============================] - 5s 3ms/step - loss: 0.1345 - accuracy: 0.9521 - val_loss: 0.3437 - val_accuracy: 0.8926\n",
            "Epoch 84/100\n",
            "1719/1719 [==============================] - 5s 3ms/step - loss: 0.1347 - accuracy: 0.9526 - val_loss: 0.3463 - val_accuracy: 0.8892\n",
            "Epoch 85/100\n",
            "1719/1719 [==============================] - 5s 3ms/step - loss: 0.1302 - accuracy: 0.9546 - val_loss: 0.3515 - val_accuracy: 0.8896\n",
            "Epoch 86/100\n",
            "1719/1719 [==============================] - 5s 3ms/step - loss: 0.1281 - accuracy: 0.9548 - val_loss: 0.3526 - val_accuracy: 0.8880\n",
            "Epoch 87/100\n",
            "1719/1719 [==============================] - 5s 3ms/step - loss: 0.1283 - accuracy: 0.9535 - val_loss: 0.3548 - val_accuracy: 0.8898\n",
            "Epoch 88/100\n",
            "1719/1719 [==============================] - 5s 3ms/step - loss: 0.1272 - accuracy: 0.9558 - val_loss: 0.3547 - val_accuracy: 0.8894\n",
            "Epoch 89/100\n",
            "1719/1719 [==============================] - 5s 3ms/step - loss: 0.1259 - accuracy: 0.9547 - val_loss: 0.3445 - val_accuracy: 0.8878\n",
            "Epoch 90/100\n",
            "1719/1719 [==============================] - 5s 3ms/step - loss: 0.1236 - accuracy: 0.9554 - val_loss: 0.3654 - val_accuracy: 0.8886\n",
            "Epoch 91/100\n",
            "1719/1719 [==============================] - 5s 3ms/step - loss: 0.1225 - accuracy: 0.9568 - val_loss: 0.3546 - val_accuracy: 0.8940\n",
            "Epoch 92/100\n",
            "1719/1719 [==============================] - 5s 3ms/step - loss: 0.1208 - accuracy: 0.9564 - val_loss: 0.3664 - val_accuracy: 0.8952\n",
            "Epoch 93/100\n",
            "1719/1719 [==============================] - 5s 3ms/step - loss: 0.1195 - accuracy: 0.9576 - val_loss: 0.3716 - val_accuracy: 0.8860\n",
            "Epoch 94/100\n",
            "1719/1719 [==============================] - 5s 3ms/step - loss: 0.1186 - accuracy: 0.9586 - val_loss: 0.3700 - val_accuracy: 0.8868\n",
            "Epoch 95/100\n",
            "1719/1719 [==============================] - 5s 3ms/step - loss: 0.1193 - accuracy: 0.9575 - val_loss: 0.3697 - val_accuracy: 0.8930\n",
            "Epoch 96/100\n",
            "1719/1719 [==============================] - 5s 3ms/step - loss: 0.1186 - accuracy: 0.9571 - val_loss: 0.3612 - val_accuracy: 0.8944\n",
            "Epoch 97/100\n",
            "1719/1719 [==============================] - 5s 3ms/step - loss: 0.1162 - accuracy: 0.9590 - val_loss: 0.3640 - val_accuracy: 0.8932\n",
            "Epoch 98/100\n",
            "1719/1719 [==============================] - 5s 3ms/step - loss: 0.1132 - accuracy: 0.9598 - val_loss: 0.3744 - val_accuracy: 0.8902\n",
            "Epoch 99/100\n",
            "1719/1719 [==============================] - 5s 3ms/step - loss: 0.1112 - accuracy: 0.9603 - val_loss: 0.3905 - val_accuracy: 0.8896\n",
            "Epoch 100/100\n",
            "1719/1719 [==============================] - 5s 3ms/step - loss: 0.1127 - accuracy: 0.9598 - val_loss: 0.3845 - val_accuracy: 0.8926\n"
          ]
        }
      ]
    },
    {
      "cell_type": "code",
      "metadata": {
        "id": "vBPTTfGXCZeH",
        "outputId": "eaa82033-9be6-446d-ba7a-17e8800cab96",
        "colab": {
          "base_uri": "https://localhost:8080/",
          "height": 393
        }
      },
      "source": [
        "pd.DataFrame(history.history).plot(figsize=(8, 5))\n",
        "plt.grid(True)\n",
        "#plt.gca().set_ylim(0, 1)\n",
        "plt.title(\"Without Early Stopping\")\n",
        "plt.xlabel('Epoch')\n",
        "plt.show()\n",
        "\n",
        "print(model.evaluate(X_test, y_test))"
      ],
      "execution_count": null,
      "outputs": [
        {
          "output_type": "display_data",
          "data": {
            "text/plain": [
              "<Figure size 576x360 with 1 Axes>"
            ],
            "image/png": "[encoded data removed]"
          },
          "metadata": {
            "needs_background": "light"
          }
        },
        {
          "output_type": "stream",
          "name": "stdout",
          "text": [
            "313/313 [==============================] - 1s 2ms/step - loss: 0.4254 - accuracy: 0.8829\n",
            "[0.42536088824272156, 0.8828999996185303]\n"
          ]
        }
      ]
    },
    {
      "cell_type": "markdown",
      "metadata": {
        "id": "ZjVlf1gIsv8D"
      },
      "source": [
        "# Building the model 9\n",
        "- Activation function: ReLU\n",
        "- Optimization: Mom\n",
        "- Architecture: 100\\*50\\*10\n",
        "- Initialization: He\n",
        "- Early Stopping"
      ]
    },
    {
      "cell_type": "code",
      "metadata": {
        "id": "sV_X5cV7ryK2",
        "outputId": "ac7e2092-189c-4ea9-d509-e2f019c2136e",
        "colab": {
          "base_uri": "https://localhost:8080/"
        }
      },
      "source": [
        "keras.backend.clear_session()\n",
        "np.random.seed(42)\n",
        "tf.random.set_seed(42)\n",
        "\n",
        "\n",
        "model = keras.models.Sequential([\n",
        "    keras.layers.Flatten(input_shape=[28, 28]),\n",
        "    keras.layers.Dense(100, activation=\"relu\", kernel_initializer='he_normal'),\n",
        "    keras.layers.Dense(50, activation=\"relu\", kernel_initializer='he_normal'),\n",
        "    keras.layers.Dense(10, activation=\"softmax\")\n",
        "])\n",
        "\n",
        "model.compile(loss=\"sparse_categorical_crossentropy\",\n",
        "              optimizer = keras.optimizers.SGD(lr=0.001, momentum=0.9),\n",
        "              metrics=[\"accuracy\"])\n",
        "\n",
        "\n",
        "history = model.fit(X_train, y_train, epochs=50,\n",
        "                    validation_data=(X_valid, y_valid),\n",
        "                    callbacks=[keras.callbacks.EarlyStopping(patience=10)])"
      ],
      "execution_count": null,
      "outputs": [
        {
          "output_type": "stream",
          "name": "stderr",
          "text": [
            "/usr/local/lib/python3.7/dist-packages/keras/optimizers/optimizer_v2/gradient_descent.py:108: UserWarning: The `lr` argument is deprecated, use `learning_rate` instead.\n",
            "  super(SGD, self).__init__(name, **kwargs)\n"
          ]
        },
        {
          "output_type": "stream",
          "name": "stdout",
          "text": [
            "Epoch 1/50\n",
            "1719/1719 [==============================] - 5s 3ms/step - loss: 0.7418 - accuracy: 0.7546 - val_loss: 0.5113 - val_accuracy: 0.8250\n",
            "Epoch 2/50\n",
            "1719/1719 [==============================] - 5s 3ms/step - loss: 0.4925 - accuracy: 0.8286 - val_loss: 0.4676 - val_accuracy: 0.8414\n",
            "Epoch 3/50\n",
            "1719/1719 [==============================] - 5s 3ms/step - loss: 0.4458 - accuracy: 0.8431 - val_loss: 0.4194 - val_accuracy: 0.8522\n",
            "Epoch 4/50\n",
            "1719/1719 [==============================] - 5s 3ms/step - loss: 0.4186 - accuracy: 0.8536 - val_loss: 0.4025 - val_accuracy: 0.8598\n",
            "Epoch 5/50\n",
            "1719/1719 [==============================] - 5s 3ms/step - loss: 0.4012 - accuracy: 0.8601 - val_loss: 0.3834 - val_accuracy: 0.8654\n",
            "Epoch 6/50\n",
            "1719/1719 [==============================] - 5s 3ms/step - loss: 0.3865 - accuracy: 0.8642 - val_loss: 0.3756 - val_accuracy: 0.8740\n",
            "Epoch 7/50\n",
            "1719/1719 [==============================] - 5s 3ms/step - loss: 0.3745 - accuracy: 0.8686 - val_loss: 0.3627 - val_accuracy: 0.8760\n",
            "Epoch 8/50\n",
            "1719/1719 [==============================] - 5s 3ms/step - loss: 0.3639 - accuracy: 0.8719 - val_loss: 0.3662 - val_accuracy: 0.8724\n",
            "Epoch 9/50\n",
            "1719/1719 [==============================] - 5s 3ms/step - loss: 0.3536 - accuracy: 0.8760 - val_loss: 0.3613 - val_accuracy: 0.8718\n",
            "Epoch 10/50\n",
            "1719/1719 [==============================] - 5s 3ms/step - loss: 0.3449 - accuracy: 0.8779 - val_loss: 0.3484 - val_accuracy: 0.8796\n",
            "Epoch 11/50\n",
            "1719/1719 [==============================] - 5s 3ms/step - loss: 0.3374 - accuracy: 0.8804 - val_loss: 0.3472 - val_accuracy: 0.8774\n",
            "Epoch 12/50\n",
            "1719/1719 [==============================] - 5s 3ms/step - loss: 0.3307 - accuracy: 0.8816 - val_loss: 0.3502 - val_accuracy: 0.8790\n",
            "Epoch 13/50\n",
            "1719/1719 [==============================] - 5s 3ms/step - loss: 0.3229 - accuracy: 0.8839 - val_loss: 0.3422 - val_accuracy: 0.8766\n",
            "Epoch 14/50\n",
            "1719/1719 [==============================] - 5s 3ms/step - loss: 0.3160 - accuracy: 0.8871 - val_loss: 0.3546 - val_accuracy: 0.8732\n",
            "Epoch 15/50\n",
            "1719/1719 [==============================] - 5s 3ms/step - loss: 0.3110 - accuracy: 0.8885 - val_loss: 0.3301 - val_accuracy: 0.8844\n",
            "Epoch 16/50\n",
            "1719/1719 [==============================] - 5s 3ms/step - loss: 0.3056 - accuracy: 0.8903 - val_loss: 0.3294 - val_accuracy: 0.8840\n",
            "Epoch 17/50\n",
            "1719/1719 [==============================] - 5s 3ms/step - loss: 0.2983 - accuracy: 0.8912 - val_loss: 0.3363 - val_accuracy: 0.8822\n",
            "Epoch 18/50\n",
            "1719/1719 [==============================] - 5s 3ms/step - loss: 0.2937 - accuracy: 0.8938 - val_loss: 0.3261 - val_accuracy: 0.8868\n",
            "Epoch 19/50\n",
            "1719/1719 [==============================] - 5s 3ms/step - loss: 0.2892 - accuracy: 0.8961 - val_loss: 0.3332 - val_accuracy: 0.8824\n",
            "Epoch 20/50\n",
            "1719/1719 [==============================] - 5s 3ms/step - loss: 0.2836 - accuracy: 0.8976 - val_loss: 0.3241 - val_accuracy: 0.8862\n",
            "Epoch 21/50\n",
            "1719/1719 [==============================] - 5s 3ms/step - loss: 0.2782 - accuracy: 0.9003 - val_loss: 0.3207 - val_accuracy: 0.8920\n",
            "Epoch 22/50\n",
            "1719/1719 [==============================] - 5s 3ms/step - loss: 0.2759 - accuracy: 0.9006 - val_loss: 0.3241 - val_accuracy: 0.8868\n",
            "Epoch 23/50\n",
            "1719/1719 [==============================] - 5s 3ms/step - loss: 0.2711 - accuracy: 0.9015 - val_loss: 0.3222 - val_accuracy: 0.8878\n",
            "Epoch 24/50\n",
            "1719/1719 [==============================] - 5s 3ms/step - loss: 0.2663 - accuracy: 0.9040 - val_loss: 0.3183 - val_accuracy: 0.8850\n",
            "Epoch 25/50\n",
            "1719/1719 [==============================] - 5s 3ms/step - loss: 0.2624 - accuracy: 0.9048 - val_loss: 0.3182 - val_accuracy: 0.8880\n",
            "Epoch 26/50\n",
            "1719/1719 [==============================] - 5s 3ms/step - loss: 0.2590 - accuracy: 0.9057 - val_loss: 0.3118 - val_accuracy: 0.8904\n",
            "Epoch 27/50\n",
            "1719/1719 [==============================] - 5s 3ms/step - loss: 0.2556 - accuracy: 0.9079 - val_loss: 0.3140 - val_accuracy: 0.8880\n",
            "Epoch 28/50\n",
            "1719/1719 [==============================] - 5s 3ms/step - loss: 0.2523 - accuracy: 0.9085 - val_loss: 0.3266 - val_accuracy: 0.8864\n",
            "Epoch 29/50\n",
            "1719/1719 [==============================] - 5s 3ms/step - loss: 0.2489 - accuracy: 0.9105 - val_loss: 0.3259 - val_accuracy: 0.8856\n",
            "Epoch 30/50\n",
            "1719/1719 [==============================] - 5s 3ms/step - loss: 0.2456 - accuracy: 0.9111 - val_loss: 0.3077 - val_accuracy: 0.8904\n",
            "Epoch 31/50\n",
            "1719/1719 [==============================] - 5s 3ms/step - loss: 0.2438 - accuracy: 0.9114 - val_loss: 0.3200 - val_accuracy: 0.8884\n",
            "Epoch 32/50\n",
            "1719/1719 [==============================] - 5s 3ms/step - loss: 0.2400 - accuracy: 0.9141 - val_loss: 0.3128 - val_accuracy: 0.8880\n",
            "Epoch 33/50\n",
            "1719/1719 [==============================] - 5s 3ms/step - loss: 0.2366 - accuracy: 0.9148 - val_loss: 0.3074 - val_accuracy: 0.8940\n",
            "Epoch 34/50\n",
            "1719/1719 [==============================] - 5s 3ms/step - loss: 0.2339 - accuracy: 0.9149 - val_loss: 0.3220 - val_accuracy: 0.8890\n",
            "Epoch 35/50\n",
            "1719/1719 [==============================] - 5s 3ms/step - loss: 0.2313 - accuracy: 0.9151 - val_loss: 0.3114 - val_accuracy: 0.8894\n",
            "Epoch 36/50\n",
            "1719/1719 [==============================] - 5s 3ms/step - loss: 0.2278 - accuracy: 0.9176 - val_loss: 0.3160 - val_accuracy: 0.8900\n",
            "Epoch 37/50\n",
            "1719/1719 [==============================] - 5s 3ms/step - loss: 0.2244 - accuracy: 0.9205 - val_loss: 0.3295 - val_accuracy: 0.8884\n",
            "Epoch 38/50\n",
            "1719/1719 [==============================] - 5s 3ms/step - loss: 0.2243 - accuracy: 0.9193 - val_loss: 0.3092 - val_accuracy: 0.8908\n",
            "Epoch 39/50\n",
            "1719/1719 [==============================] - 5s 3ms/step - loss: 0.2201 - accuracy: 0.9201 - val_loss: 0.3161 - val_accuracy: 0.8922\n",
            "Epoch 40/50\n",
            "1719/1719 [==============================] - 5s 3ms/step - loss: 0.2186 - accuracy: 0.9215 - val_loss: 0.3109 - val_accuracy: 0.8932\n",
            "Epoch 41/50\n",
            "1719/1719 [==============================] - 5s 3ms/step - loss: 0.2135 - accuracy: 0.9237 - val_loss: 0.2986 - val_accuracy: 0.8952\n",
            "Epoch 42/50\n",
            "1719/1719 [==============================] - 5s 3ms/step - loss: 0.2122 - accuracy: 0.9236 - val_loss: 0.3242 - val_accuracy: 0.8892\n",
            "Epoch 43/50\n",
            "1719/1719 [==============================] - 5s 3ms/step - loss: 0.2090 - accuracy: 0.9248 - val_loss: 0.3242 - val_accuracy: 0.8892\n",
            "Epoch 44/50\n",
            "1719/1719 [==============================] - 5s 3ms/step - loss: 0.2067 - accuracy: 0.9247 - val_loss: 0.3135 - val_accuracy: 0.8876\n",
            "Epoch 45/50\n",
            "1719/1719 [==============================] - 5s 3ms/step - loss: 0.2047 - accuracy: 0.9269 - val_loss: 0.3088 - val_accuracy: 0.8934\n",
            "Epoch 46/50\n",
            "1719/1719 [==============================] - 5s 3ms/step - loss: 0.2031 - accuracy: 0.9279 - val_loss: 0.3046 - val_accuracy: 0.8924\n",
            "Epoch 47/50\n",
            "1719/1719 [==============================] - 5s 3ms/step - loss: 0.1991 - accuracy: 0.9287 - val_loss: 0.3036 - val_accuracy: 0.8914\n",
            "Epoch 48/50\n",
            "1719/1719 [==============================] - 5s 3ms/step - loss: 0.1984 - accuracy: 0.9281 - val_loss: 0.3058 - val_accuracy: 0.8926\n",
            "Epoch 49/50\n",
            "1719/1719 [==============================] - 5s 3ms/step - loss: 0.1968 - accuracy: 0.9292 - val_loss: 0.3084 - val_accuracy: 0.8910\n",
            "Epoch 50/50\n",
            "1719/1719 [==============================] - 5s 3ms/step - loss: 0.1928 - accuracy: 0.9311 - val_loss: 0.3148 - val_accuracy: 0.8908\n"
          ]
        }
      ]
    },
    {
      "cell_type": "code",
      "metadata": {
        "id": "-rAyCxvEs3rJ",
        "outputId": "ead9dd25-e9a6-41a9-d42c-c87c43fb3930",
        "colab": {
          "base_uri": "https://localhost:8080/",
          "height": 393
        }
      },
      "source": [
        "pd.DataFrame(history.history).plot(figsize=(8, 5))\n",
        "plt.grid(True)\n",
        "#plt.gca().set_ylim(0, 1)\n",
        "plt.title(\"With Early Stopping\")\n",
        "plt.xlabel('Epoch')\n",
        "plt.show()\n",
        "\n",
        "print(model.evaluate(X_test, y_test))"
      ],
      "execution_count": null,
      "outputs": [
        {
          "output_type": "display_data",
          "data": {
            "text/plain": [
              "<Figure size 576x360 with 1 Axes>"
            ],
            "image/png": "[encoded data removed]"
          },
          "metadata": {
            "needs_background": "light"
          }
        },
        {
          "output_type": "stream",
          "name": "stdout",
          "text": [
            "313/313 [==============================] - 1s 2ms/step - loss: 0.3560 - accuracy: 0.8795\n",
            "[0.3560029864311218, 0.8794999718666077]\n"
          ]
        }
      ]
    },
    {
      "cell_type": "markdown",
      "metadata": {
        "id": "l31izgc66e22"
      },
      "source": [
        "# Hyperparameter Tuning"
      ]
    },
    {
      "cell_type": "code",
      "metadata": {
        "id": "r6xKPW7w6hDo",
        "outputId": "595a746e-f025-42bb-fa03-1f6d4dc9eb92",
        "colab": {
          "base_uri": "https://localhost:8080/"
        }
      },
      "source": [
        "keras.backend.clear_session()\n",
        "np.random.seed(42)\n",
        "tf.random.set_seed(42)\n",
        "\n",
        "def create_model(units=10):\n",
        "  model = keras.models.Sequential()\n",
        "  model.add(keras.layers.Flatten(input_shape=[28, 28]))\n",
        "  model.add(keras.layers.Dense(100, activation=\"relu\", kernel_initializer='he_normal'))\n",
        "  model.add(keras.layers.Dense(units=units, activation=\"relu\", kernel_initializer='he_normal'))\n",
        "  model.add(keras.layers.Dense(10, activation=\"softmax\"))\n",
        "\n",
        "  model.compile(loss=\"sparse_categorical_crossentropy\",\n",
        "              optimizer = keras.optimizers.SGD(lr=0.001, momentum=0.9),\n",
        "              metrics=[\"accuracy\"])\n",
        "  return model\n",
        "\n",
        "model = keras.wrappers.scikit_learn.KerasClassifier(build_fn=create_model,epochs=30)\n",
        "\n",
        "from sklearn.model_selection import GridSearchCV\n",
        "\n",
        "param_grid = {\n",
        "    \"units\": [30, 50, 100, 150, 200]\n",
        "}\n",
        "\n",
        "grid_cv = GridSearchCV(model, param_grid, cv=3, verbose=2)\n",
        "grid_cv.fit(X_valid, y_valid)"
      ],
      "execution_count": null,
      "outputs": [
        {
          "output_type": "stream",
          "name": "stdout",
          "text": [
            "Fitting 3 folds for each of 5 candidates, totalling 15 fits\n",
            "Epoch 1/30\n"
          ]
        },
        {
          "output_type": "stream",
          "name": "stderr",
          "text": [
            "/usr/local/lib/python3.7/dist-packages/ipykernel_launcher.py:17: DeprecationWarning: KerasClassifier is deprecated, use Sci-Keras (https://github.com/adriangb/scikeras) instead. See https://www.adriangb.com/scikeras/stable/migration.html for help migrating.\n",
            "/usr/local/lib/python3.7/dist-packages/keras/optimizers/optimizer_v2/gradient_descent.py:108: UserWarning: The `lr` argument is deprecated, use `learning_rate` instead.\n",
            "  super(SGD, self).__init__(name, **kwargs)\n"
          ]
        },
        {
          "output_type": "stream",
          "name": "stdout",
          "text": [
            "105/105 [==============================] - 1s 3ms/step - loss: 2.0484 - accuracy: 0.2955\n",
            "Epoch 2/30\n",
            "105/105 [==============================] - 0s 3ms/step - loss: 1.3698 - accuracy: 0.6013\n",
            "Epoch 3/30\n",
            "105/105 [==============================] - 0s 3ms/step - loss: 0.9779 - accuracy: 0.6940\n",
            "Epoch 4/30\n",
            "105/105 [==============================] - 0s 3ms/step - loss: 0.8312 - accuracy: 0.7279\n",
            "Epoch 5/30\n",
            "105/105 [==============================] - 0s 3ms/step - loss: 0.7491 - accuracy: 0.7549\n",
            "Epoch 6/30\n",
            "105/105 [==============================] - 0s 3ms/step - loss: 0.6959 - accuracy: 0.7642\n",
            "Epoch 7/30\n",
            "105/105 [==============================] - 0s 3ms/step - loss: 0.6588 - accuracy: 0.7828\n",
            "Epoch 8/30\n",
            "105/105 [==============================] - 0s 3ms/step - loss: 0.6195 - accuracy: 0.7951\n",
            "Epoch 9/30\n",
            "105/105 [==============================] - 0s 3ms/step - loss: 0.5938 - accuracy: 0.8086\n",
            "Epoch 10/30\n",
            "105/105 [==============================] - 0s 3ms/step - loss: 0.5707 - accuracy: 0.8137\n",
            "Epoch 11/30\n",
            "105/105 [==============================] - 0s 3ms/step - loss: 0.5567 - accuracy: 0.8128\n",
            "Epoch 12/30\n",
            "105/105 [==============================] - 0s 3ms/step - loss: 0.5370 - accuracy: 0.8197\n",
            "Epoch 13/30\n",
            "105/105 [==============================] - 0s 3ms/step - loss: 0.5241 - accuracy: 0.8260\n",
            "Epoch 14/30\n",
            "105/105 [==============================] - 0s 3ms/step - loss: 0.5067 - accuracy: 0.8287\n",
            "Epoch 15/30\n",
            "105/105 [==============================] - 0s 3ms/step - loss: 0.4935 - accuracy: 0.8323\n",
            "Epoch 16/30\n",
            "105/105 [==============================] - 0s 3ms/step - loss: 0.4854 - accuracy: 0.8380\n",
            "Epoch 17/30\n",
            "105/105 [==============================] - 0s 3ms/step - loss: 0.4736 - accuracy: 0.8419\n",
            "Epoch 18/30\n",
            "105/105 [==============================] - 0s 3ms/step - loss: 0.4644 - accuracy: 0.8479\n",
            "Epoch 19/30\n",
            "105/105 [==============================] - 0s 3ms/step - loss: 0.4488 - accuracy: 0.8512\n",
            "Epoch 20/30\n",
            "105/105 [==============================] - 0s 3ms/step - loss: 0.4479 - accuracy: 0.8497\n",
            "Epoch 21/30\n",
            "105/105 [==============================] - 0s 3ms/step - loss: 0.4406 - accuracy: 0.8545\n",
            "Epoch 22/30\n",
            "105/105 [==============================] - 0s 3ms/step - loss: 0.4256 - accuracy: 0.8632\n",
            "Epoch 23/30\n",
            "105/105 [==============================] - 0s 3ms/step - loss: 0.4227 - accuracy: 0.8617\n",
            "Epoch 24/30\n",
            "105/105 [==============================] - 0s 3ms/step - loss: 0.4129 - accuracy: 0.8692\n",
            "Epoch 25/30\n",
            "105/105 [==============================] - 0s 3ms/step - loss: 0.4085 - accuracy: 0.8683\n",
            "Epoch 26/30\n",
            "105/105 [==============================] - 0s 3ms/step - loss: 0.4106 - accuracy: 0.8644\n",
            "Epoch 27/30\n",
            "105/105 [==============================] - 0s 3ms/step - loss: 0.4021 - accuracy: 0.8692\n",
            "Epoch 28/30\n",
            "105/105 [==============================] - 0s 3ms/step - loss: 0.3865 - accuracy: 0.8749\n",
            "Epoch 29/30\n",
            "105/105 [==============================] - 0s 3ms/step - loss: 0.3837 - accuracy: 0.8764\n",
            "Epoch 30/30\n",
            "105/105 [==============================] - 0s 3ms/step - loss: 0.3795 - accuracy: 0.8782\n",
            "53/53 [==============================] - 0s 2ms/step - loss: 0.4727 - accuracy: 0.8428\n",
            "[CV] END ...........................................units=30; total time=  10.9s\n",
            "Epoch 1/30\n"
          ]
        },
        {
          "output_type": "stream",
          "name": "stderr",
          "text": [
            "/usr/local/lib/python3.7/dist-packages/keras/optimizers/optimizer_v2/gradient_descent.py:108: UserWarning: The `lr` argument is deprecated, use `learning_rate` instead.\n",
            "  super(SGD, self).__init__(name, **kwargs)\n"
          ]
        },
        {
          "output_type": "stream",
          "name": "stdout",
          "text": [
            "105/105 [==============================] - 1s 3ms/step - loss: 2.0209 - accuracy: 0.3297\n",
            "Epoch 2/30\n",
            "105/105 [==============================] - 0s 3ms/step - loss: 1.3114 - accuracy: 0.6286\n",
            "Epoch 3/30\n",
            "105/105 [==============================] - 0s 3ms/step - loss: 0.9462 - accuracy: 0.6973\n",
            "Epoch 4/30\n",
            "105/105 [==============================] - 0s 3ms/step - loss: 0.8042 - accuracy: 0.7189\n",
            "Epoch 5/30\n",
            "105/105 [==============================] - 0s 3ms/step - loss: 0.7195 - accuracy: 0.7537\n",
            "Epoch 6/30\n",
            "105/105 [==============================] - 0s 3ms/step - loss: 0.6642 - accuracy: 0.7759\n",
            "Epoch 7/30\n",
            "105/105 [==============================] - 0s 3ms/step - loss: 0.6313 - accuracy: 0.7942\n",
            "Epoch 8/30\n",
            "105/105 [==============================] - 0s 3ms/step - loss: 0.5933 - accuracy: 0.7981\n",
            "Epoch 9/30\n",
            "105/105 [==============================] - 0s 3ms/step - loss: 0.5710 - accuracy: 0.8128\n",
            "Epoch 10/30\n",
            "105/105 [==============================] - 0s 3ms/step - loss: 0.5449 - accuracy: 0.8215\n",
            "Epoch 11/30\n",
            "105/105 [==============================] - 0s 3ms/step - loss: 0.5286 - accuracy: 0.8239\n",
            "Epoch 12/30\n",
            "105/105 [==============================] - 0s 3ms/step - loss: 0.5084 - accuracy: 0.8332\n",
            "Epoch 13/30\n",
            "105/105 [==============================] - 0s 3ms/step - loss: 0.4907 - accuracy: 0.8389\n",
            "Epoch 14/30\n",
            "105/105 [==============================] - 0s 3ms/step - loss: 0.4748 - accuracy: 0.8446\n",
            "Epoch 15/30\n",
            "105/105 [==============================] - 0s 3ms/step - loss: 0.4650 - accuracy: 0.8446\n",
            "Epoch 16/30\n",
            "105/105 [==============================] - 0s 3ms/step - loss: 0.4526 - accuracy: 0.8491\n",
            "Epoch 17/30\n",
            "105/105 [==============================] - 0s 3ms/step - loss: 0.4399 - accuracy: 0.8590\n",
            "Epoch 18/30\n",
            "105/105 [==============================] - 0s 3ms/step - loss: 0.4347 - accuracy: 0.8617\n",
            "Epoch 19/30\n",
            "105/105 [==============================] - 0s 3ms/step - loss: 0.4236 - accuracy: 0.8596\n",
            "Epoch 20/30\n",
            "105/105 [==============================] - 0s 3ms/step - loss: 0.4226 - accuracy: 0.8605\n",
            "Epoch 21/30\n",
            "105/105 [==============================] - 0s 3ms/step - loss: 0.4091 - accuracy: 0.8695\n",
            "Epoch 22/30\n",
            "105/105 [==============================] - 0s 3ms/step - loss: 0.4009 - accuracy: 0.8668\n",
            "Epoch 23/30\n",
            "105/105 [==============================] - 0s 3ms/step - loss: 0.3914 - accuracy: 0.8746\n",
            "Epoch 24/30\n",
            "105/105 [==============================] - 0s 3ms/step - loss: 0.3851 - accuracy: 0.8746\n",
            "Epoch 25/30\n",
            "105/105 [==============================] - 0s 3ms/step - loss: 0.3781 - accuracy: 0.8749\n",
            "Epoch 26/30\n",
            "105/105 [==============================] - 0s 3ms/step - loss: 0.3756 - accuracy: 0.8764\n",
            "Epoch 27/30\n",
            "105/105 [==============================] - 0s 3ms/step - loss: 0.3644 - accuracy: 0.8839\n",
            "Epoch 28/30\n",
            "105/105 [==============================] - 0s 3ms/step - loss: 0.3653 - accuracy: 0.8818\n",
            "Epoch 29/30\n",
            "105/105 [==============================] - 0s 3ms/step - loss: 0.3567 - accuracy: 0.8842\n",
            "Epoch 30/30\n",
            "105/105 [==============================] - 0s 3ms/step - loss: 0.3487 - accuracy: 0.8896\n",
            "53/53 [==============================] - 0s 2ms/step - loss: 0.5621 - accuracy: 0.8116\n",
            "[CV] END ...........................................units=30; total time=   9.2s\n"
          ]
        },
        {
          "output_type": "stream",
          "name": "stderr",
          "text": [
            "/usr/local/lib/python3.7/dist-packages/keras/optimizers/optimizer_v2/gradient_descent.py:108: UserWarning: The `lr` argument is deprecated, use `learning_rate` instead.\n",
            "  super(SGD, self).__init__(name, **kwargs)\n"
          ]
        },
        {
          "output_type": "stream",
          "name": "stdout",
          "text": [
            "Epoch 1/30\n",
            "105/105 [==============================] - 1s 3ms/step - loss: 1.8409 - accuracy: 0.3914\n",
            "Epoch 2/30\n",
            "105/105 [==============================] - 0s 3ms/step - loss: 1.1723 - accuracy: 0.6434\n",
            "Epoch 3/30\n",
            "105/105 [==============================] - 0s 3ms/step - loss: 0.9252 - accuracy: 0.6938\n",
            "Epoch 4/30\n",
            "105/105 [==============================] - 0s 3ms/step - loss: 0.8057 - accuracy: 0.7346\n",
            "Epoch 5/30\n",
            "105/105 [==============================] - 0s 3ms/step - loss: 0.7333 - accuracy: 0.7606\n",
            "Epoch 6/30\n",
            "105/105 [==============================] - 0s 3ms/step - loss: 0.6863 - accuracy: 0.7729\n",
            "Epoch 7/30\n",
            "105/105 [==============================] - 0s 3ms/step - loss: 0.6437 - accuracy: 0.7870\n",
            "Epoch 8/30\n",
            "105/105 [==============================] - 0s 4ms/step - loss: 0.6142 - accuracy: 0.7936\n",
            "Epoch 9/30\n",
            "105/105 [==============================] - 0s 4ms/step - loss: 0.5882 - accuracy: 0.8071\n",
            "Epoch 10/30\n",
            "105/105 [==============================] - 0s 4ms/step - loss: 0.5695 - accuracy: 0.8098\n",
            "Epoch 11/30\n",
            "105/105 [==============================] - 0s 4ms/step - loss: 0.5477 - accuracy: 0.8158\n",
            "Epoch 12/30\n",
            "105/105 [==============================] - 0s 4ms/step - loss: 0.5315 - accuracy: 0.8197\n",
            "Epoch 13/30\n",
            "105/105 [==============================] - 0s 3ms/step - loss: 0.5153 - accuracy: 0.8344\n",
            "Epoch 14/30\n",
            "105/105 [==============================] - 0s 3ms/step - loss: 0.5152 - accuracy: 0.8230\n",
            "Epoch 15/30\n",
            "105/105 [==============================] - 0s 3ms/step - loss: 0.4919 - accuracy: 0.8398\n",
            "Epoch 16/30\n",
            "105/105 [==============================] - 0s 3ms/step - loss: 0.4850 - accuracy: 0.8410\n",
            "Epoch 17/30\n",
            "105/105 [==============================] - 0s 3ms/step - loss: 0.4746 - accuracy: 0.8419\n",
            "Epoch 18/30\n",
            "105/105 [==============================] - 0s 3ms/step - loss: 0.4657 - accuracy: 0.8422\n",
            "Epoch 19/30\n",
            "105/105 [==============================] - 0s 3ms/step - loss: 0.4559 - accuracy: 0.8497\n",
            "Epoch 20/30\n",
            "105/105 [==============================] - 0s 3ms/step - loss: 0.4489 - accuracy: 0.8467\n",
            "Epoch 21/30\n",
            "105/105 [==============================] - 0s 3ms/step - loss: 0.4413 - accuracy: 0.8509\n",
            "Epoch 22/30\n",
            "105/105 [==============================] - 0s 3ms/step - loss: 0.4320 - accuracy: 0.8539\n",
            "Epoch 23/30\n",
            "105/105 [==============================] - 0s 3ms/step - loss: 0.4264 - accuracy: 0.8545\n",
            "Epoch 24/30\n",
            "105/105 [==============================] - 0s 3ms/step - loss: 0.4226 - accuracy: 0.8593\n",
            "Epoch 25/30\n",
            "105/105 [==============================] - 0s 3ms/step - loss: 0.4147 - accuracy: 0.8587\n",
            "Epoch 26/30\n",
            "105/105 [==============================] - 0s 3ms/step - loss: 0.4061 - accuracy: 0.8641\n",
            "Epoch 27/30\n",
            "105/105 [==============================] - 0s 3ms/step - loss: 0.4002 - accuracy: 0.8686\n",
            "Epoch 28/30\n",
            "105/105 [==============================] - 0s 3ms/step - loss: 0.3937 - accuracy: 0.8647\n",
            "Epoch 29/30\n",
            "105/105 [==============================] - 0s 3ms/step - loss: 0.3866 - accuracy: 0.8728\n",
            "Epoch 30/30\n",
            "105/105 [==============================] - 0s 3ms/step - loss: 0.3858 - accuracy: 0.8671\n",
            "53/53 [==============================] - 0s 2ms/step - loss: 0.4544 - accuracy: 0.8505\n",
            "[CV] END ...........................................units=30; total time=  11.2s\n",
            "Epoch 1/30\n"
          ]
        },
        {
          "output_type": "stream",
          "name": "stderr",
          "text": [
            "/usr/local/lib/python3.7/dist-packages/keras/optimizers/optimizer_v2/gradient_descent.py:108: UserWarning: The `lr` argument is deprecated, use `learning_rate` instead.\n",
            "  super(SGD, self).__init__(name, **kwargs)\n"
          ]
        },
        {
          "output_type": "stream",
          "name": "stdout",
          "text": [
            "105/105 [==============================] - 1s 3ms/step - loss: 1.8409 - accuracy: 0.4005\n",
            "Epoch 2/30\n",
            "105/105 [==============================] - 0s 3ms/step - loss: 1.1215 - accuracy: 0.6679\n",
            "Epoch 3/30\n",
            "105/105 [==============================] - 0s 3ms/step - loss: 0.8515 - accuracy: 0.7171\n",
            "Epoch 4/30\n",
            "105/105 [==============================] - 0s 3ms/step - loss: 0.7476 - accuracy: 0.7522\n",
            "Epoch 5/30\n",
            "105/105 [==============================] - 0s 3ms/step - loss: 0.6862 - accuracy: 0.7702\n",
            "Epoch 6/30\n",
            "105/105 [==============================] - 0s 3ms/step - loss: 0.6431 - accuracy: 0.7831\n",
            "Epoch 7/30\n",
            "105/105 [==============================] - 0s 3ms/step - loss: 0.6108 - accuracy: 0.7927\n",
            "Epoch 8/30\n",
            "105/105 [==============================] - 0s 3ms/step - loss: 0.5767 - accuracy: 0.8083\n",
            "Epoch 9/30\n",
            "105/105 [==============================] - 0s 3ms/step - loss: 0.5575 - accuracy: 0.8164\n",
            "Epoch 10/30\n",
            "105/105 [==============================] - 0s 3ms/step - loss: 0.5338 - accuracy: 0.8251\n",
            "Epoch 11/30\n",
            "105/105 [==============================] - 0s 3ms/step - loss: 0.5278 - accuracy: 0.8269\n",
            "Epoch 12/30\n",
            "105/105 [==============================] - 0s 3ms/step - loss: 0.5075 - accuracy: 0.8323\n",
            "Epoch 13/30\n",
            "105/105 [==============================] - 0s 3ms/step - loss: 0.4949 - accuracy: 0.8332\n",
            "Epoch 14/30\n",
            "105/105 [==============================] - 0s 3ms/step - loss: 0.4808 - accuracy: 0.8341\n",
            "Epoch 15/30\n",
            "105/105 [==============================] - 0s 3ms/step - loss: 0.4678 - accuracy: 0.8437\n",
            "Epoch 16/30\n",
            "105/105 [==============================] - 0s 3ms/step - loss: 0.4578 - accuracy: 0.8467\n",
            "Epoch 17/30\n",
            "105/105 [==============================] - 0s 3ms/step - loss: 0.4507 - accuracy: 0.8479\n",
            "Epoch 18/30\n",
            "105/105 [==============================] - 0s 3ms/step - loss: 0.4417 - accuracy: 0.8524\n",
            "Epoch 19/30\n",
            "105/105 [==============================] - 0s 3ms/step - loss: 0.4308 - accuracy: 0.8572\n",
            "Epoch 20/30\n",
            "105/105 [==============================] - 0s 3ms/step - loss: 0.4274 - accuracy: 0.8608\n",
            "Epoch 21/30\n",
            "105/105 [==============================] - 0s 3ms/step - loss: 0.4212 - accuracy: 0.8647\n",
            "Epoch 22/30\n",
            "105/105 [==============================] - 0s 3ms/step - loss: 0.4071 - accuracy: 0.8725\n",
            "Epoch 23/30\n",
            "105/105 [==============================] - 0s 3ms/step - loss: 0.4047 - accuracy: 0.8692\n",
            "Epoch 24/30\n",
            "105/105 [==============================] - 0s 3ms/step - loss: 0.3971 - accuracy: 0.8698\n",
            "Epoch 25/30\n",
            "105/105 [==============================] - 0s 3ms/step - loss: 0.3888 - accuracy: 0.8752\n",
            "Epoch 26/30\n",
            "105/105 [==============================] - 0s 3ms/step - loss: 0.3921 - accuracy: 0.8704\n",
            "Epoch 27/30\n",
            "105/105 [==============================] - 0s 3ms/step - loss: 0.3797 - accuracy: 0.8752\n",
            "Epoch 28/30\n",
            "105/105 [==============================] - 0s 3ms/step - loss: 0.3712 - accuracy: 0.8788\n",
            "Epoch 29/30\n",
            "105/105 [==============================] - 0s 3ms/step - loss: 0.3664 - accuracy: 0.8776\n",
            "Epoch 30/30\n",
            "105/105 [==============================] - 0s 3ms/step - loss: 0.3635 - accuracy: 0.8872\n",
            "53/53 [==============================] - 0s 2ms/step - loss: 0.4728 - accuracy: 0.8446\n",
            "[CV] END ...........................................units=50; total time=   9.4s\n",
            "Epoch 1/30\n"
          ]
        },
        {
          "output_type": "stream",
          "name": "stderr",
          "text": [
            "/usr/local/lib/python3.7/dist-packages/keras/optimizers/optimizer_v2/gradient_descent.py:108: UserWarning: The `lr` argument is deprecated, use `learning_rate` instead.\n",
            "  super(SGD, self).__init__(name, **kwargs)\n"
          ]
        },
        {
          "output_type": "stream",
          "name": "stdout",
          "text": [
            "105/105 [==============================] - 1s 3ms/step - loss: 1.6479 - accuracy: 0.4800\n",
            "Epoch 2/30\n",
            "105/105 [==============================] - 0s 3ms/step - loss: 1.0052 - accuracy: 0.6826\n",
            "Epoch 3/30\n",
            "105/105 [==============================] - 0s 3ms/step - loss: 0.8108 - accuracy: 0.7405\n",
            "Epoch 4/30\n",
            "105/105 [==============================] - 0s 2ms/step - loss: 0.7253 - accuracy: 0.7651\n",
            "Epoch 5/30\n",
            "105/105 [==============================] - 0s 3ms/step - loss: 0.6596 - accuracy: 0.7834\n",
            "Epoch 6/30\n",
            "105/105 [==============================] - 0s 3ms/step - loss: 0.6169 - accuracy: 0.7960\n",
            "Epoch 7/30\n",
            "105/105 [==============================] - 0s 3ms/step - loss: 0.5931 - accuracy: 0.8044\n",
            "Epoch 8/30\n",
            "105/105 [==============================] - 0s 3ms/step - loss: 0.5596 - accuracy: 0.8107\n",
            "Epoch 9/30\n",
            "105/105 [==============================] - 0s 3ms/step - loss: 0.5414 - accuracy: 0.8221\n",
            "Epoch 10/30\n",
            "105/105 [==============================] - 0s 3ms/step - loss: 0.5149 - accuracy: 0.8317\n",
            "Epoch 11/30\n",
            "105/105 [==============================] - 0s 3ms/step - loss: 0.4991 - accuracy: 0.8338\n",
            "Epoch 12/30\n",
            "105/105 [==============================] - 0s 3ms/step - loss: 0.4840 - accuracy: 0.8389\n",
            "Epoch 13/30\n",
            "105/105 [==============================] - 0s 3ms/step - loss: 0.4682 - accuracy: 0.8413\n",
            "Epoch 14/30\n",
            "105/105 [==============================] - 0s 3ms/step - loss: 0.4555 - accuracy: 0.8464\n",
            "Epoch 15/30\n",
            "105/105 [==============================] - 0s 3ms/step - loss: 0.4480 - accuracy: 0.8488\n",
            "Epoch 16/30\n",
            "105/105 [==============================] - 0s 3ms/step - loss: 0.4368 - accuracy: 0.8527\n",
            "Epoch 17/30\n",
            "105/105 [==============================] - 0s 3ms/step - loss: 0.4243 - accuracy: 0.8581\n",
            "Epoch 18/30\n",
            "105/105 [==============================] - 0s 3ms/step - loss: 0.4200 - accuracy: 0.8614\n",
            "Epoch 19/30\n",
            "105/105 [==============================] - 0s 3ms/step - loss: 0.4115 - accuracy: 0.8647\n",
            "Epoch 20/30\n",
            "105/105 [==============================] - 0s 3ms/step - loss: 0.4109 - accuracy: 0.8626\n",
            "Epoch 21/30\n",
            "105/105 [==============================] - 0s 3ms/step - loss: 0.3975 - accuracy: 0.8689\n",
            "Epoch 22/30\n",
            "105/105 [==============================] - 0s 3ms/step - loss: 0.3911 - accuracy: 0.8704\n",
            "Epoch 23/30\n",
            "105/105 [==============================] - 0s 3ms/step - loss: 0.3801 - accuracy: 0.8740\n",
            "Epoch 24/30\n",
            "105/105 [==============================] - 0s 3ms/step - loss: 0.3767 - accuracy: 0.8704\n",
            "Epoch 25/30\n",
            "105/105 [==============================] - 0s 3ms/step - loss: 0.3680 - accuracy: 0.8740\n",
            "Epoch 26/30\n",
            "105/105 [==============================] - 0s 3ms/step - loss: 0.3665 - accuracy: 0.8737\n",
            "Epoch 27/30\n",
            "105/105 [==============================] - 0s 3ms/step - loss: 0.3549 - accuracy: 0.8785\n",
            "Epoch 28/30\n",
            "105/105 [==============================] - 0s 3ms/step - loss: 0.3554 - accuracy: 0.8806\n",
            "Epoch 29/30\n",
            "105/105 [==============================] - 0s 3ms/step - loss: 0.3495 - accuracy: 0.8824\n",
            "Epoch 30/30\n",
            "105/105 [==============================] - 0s 3ms/step - loss: 0.3423 - accuracy: 0.8869\n",
            "53/53 [==============================] - 0s 2ms/step - loss: 0.5597 - accuracy: 0.8104\n",
            "[CV] END ...........................................units=50; total time=   9.2s\n",
            "Epoch 1/30\n"
          ]
        },
        {
          "output_type": "stream",
          "name": "stderr",
          "text": [
            "/usr/local/lib/python3.7/dist-packages/keras/optimizers/optimizer_v2/gradient_descent.py:108: UserWarning: The `lr` argument is deprecated, use `learning_rate` instead.\n",
            "  super(SGD, self).__init__(name, **kwargs)\n"
          ]
        },
        {
          "output_type": "stream",
          "name": "stdout",
          "text": [
            "105/105 [==============================] - 1s 3ms/step - loss: 1.8194 - accuracy: 0.3893\n",
            "Epoch 2/30\n",
            "105/105 [==============================] - 0s 3ms/step - loss: 1.1692 - accuracy: 0.6392\n",
            "Epoch 3/30\n",
            "105/105 [==============================] - 0s 3ms/step - loss: 0.9277 - accuracy: 0.6935\n",
            "Epoch 4/30\n",
            "105/105 [==============================] - 0s 3ms/step - loss: 0.8108 - accuracy: 0.7340\n",
            "Epoch 5/30\n",
            "105/105 [==============================] - 0s 3ms/step - loss: 0.7364 - accuracy: 0.7519\n",
            "Epoch 6/30\n",
            "105/105 [==============================] - 0s 3ms/step - loss: 0.6923 - accuracy: 0.7705\n",
            "Epoch 7/30\n",
            "105/105 [==============================] - 0s 3ms/step - loss: 0.6486 - accuracy: 0.7855\n",
            "Epoch 8/30\n",
            "105/105 [==============================] - 0s 3ms/step - loss: 0.6161 - accuracy: 0.7918\n",
            "Epoch 9/30\n",
            "105/105 [==============================] - 0s 3ms/step - loss: 0.5916 - accuracy: 0.8056\n",
            "Epoch 10/30\n",
            "105/105 [==============================] - 0s 3ms/step - loss: 0.5730 - accuracy: 0.8107\n",
            "Epoch 11/30\n",
            "105/105 [==============================] - 0s 3ms/step - loss: 0.5548 - accuracy: 0.8164\n",
            "Epoch 12/30\n",
            "105/105 [==============================] - 0s 3ms/step - loss: 0.5386 - accuracy: 0.8155\n",
            "Epoch 13/30\n",
            "105/105 [==============================] - 0s 3ms/step - loss: 0.5208 - accuracy: 0.8254\n",
            "Epoch 14/30\n",
            "105/105 [==============================] - 0s 3ms/step - loss: 0.5161 - accuracy: 0.8206\n",
            "Epoch 15/30\n",
            "105/105 [==============================] - 0s 3ms/step - loss: 0.4958 - accuracy: 0.8335\n",
            "Epoch 16/30\n",
            "105/105 [==============================] - 0s 3ms/step - loss: 0.4879 - accuracy: 0.8350\n",
            "Epoch 17/30\n",
            "105/105 [==============================] - 0s 3ms/step - loss: 0.4766 - accuracy: 0.8398\n",
            "Epoch 18/30\n",
            "105/105 [==============================] - 0s 3ms/step - loss: 0.4681 - accuracy: 0.8440\n",
            "Epoch 19/30\n",
            "105/105 [==============================] - 0s 3ms/step - loss: 0.4589 - accuracy: 0.8455\n",
            "Epoch 20/30\n",
            "105/105 [==============================] - 0s 3ms/step - loss: 0.4521 - accuracy: 0.8512\n",
            "Epoch 21/30\n",
            "105/105 [==============================] - 0s 3ms/step - loss: 0.4459 - accuracy: 0.8488\n",
            "Epoch 22/30\n",
            "105/105 [==============================] - 0s 3ms/step - loss: 0.4390 - accuracy: 0.8437\n",
            "Epoch 23/30\n",
            "105/105 [==============================] - 0s 3ms/step - loss: 0.4333 - accuracy: 0.8554\n",
            "Epoch 24/30\n",
            "105/105 [==============================] - 0s 3ms/step - loss: 0.4283 - accuracy: 0.8569\n",
            "Epoch 25/30\n",
            "105/105 [==============================] - 0s 3ms/step - loss: 0.4232 - accuracy: 0.8566\n",
            "Epoch 26/30\n",
            "105/105 [==============================] - 0s 3ms/step - loss: 0.4094 - accuracy: 0.8629\n",
            "Epoch 27/30\n",
            "105/105 [==============================] - 0s 3ms/step - loss: 0.4073 - accuracy: 0.8650\n",
            "Epoch 28/30\n",
            "105/105 [==============================] - 0s 3ms/step - loss: 0.4008 - accuracy: 0.8683\n",
            "Epoch 29/30\n",
            "105/105 [==============================] - 0s 3ms/step - loss: 0.3921 - accuracy: 0.8707\n",
            "Epoch 30/30\n",
            "105/105 [==============================] - 0s 3ms/step - loss: 0.3907 - accuracy: 0.8698\n",
            "53/53 [==============================] - 0s 3ms/step - loss: 0.4528 - accuracy: 0.8517\n",
            "[CV] END ...........................................units=50; total time=  10.9s\n",
            "Epoch 1/30\n"
          ]
        },
        {
          "output_type": "stream",
          "name": "stderr",
          "text": [
            "/usr/local/lib/python3.7/dist-packages/keras/optimizers/optimizer_v2/gradient_descent.py:108: UserWarning: The `lr` argument is deprecated, use `learning_rate` instead.\n",
            "  super(SGD, self).__init__(name, **kwargs)\n"
          ]
        },
        {
          "output_type": "stream",
          "name": "stdout",
          "text": [
            "105/105 [==============================] - 1s 3ms/step - loss: 1.8093 - accuracy: 0.4359\n",
            "Epoch 2/30\n",
            "105/105 [==============================] - 0s 3ms/step - loss: 1.0559 - accuracy: 0.6823\n",
            "Epoch 3/30\n",
            "105/105 [==============================] - 0s 3ms/step - loss: 0.8237 - accuracy: 0.7375\n",
            "Epoch 4/30\n",
            "105/105 [==============================] - 0s 3ms/step - loss: 0.7362 - accuracy: 0.7579\n",
            "Epoch 5/30\n",
            "105/105 [==============================] - 0s 3ms/step - loss: 0.6802 - accuracy: 0.7849\n",
            "Epoch 6/30\n",
            "105/105 [==============================] - 0s 3ms/step - loss: 0.6416 - accuracy: 0.7822\n",
            "Epoch 7/30\n",
            "105/105 [==============================] - 0s 3ms/step - loss: 0.6136 - accuracy: 0.8011\n",
            "Epoch 8/30\n",
            "105/105 [==============================] - 0s 3ms/step - loss: 0.5769 - accuracy: 0.8137\n",
            "Epoch 9/30\n",
            "105/105 [==============================] - 0s 3ms/step - loss: 0.5598 - accuracy: 0.8245\n",
            "Epoch 10/30\n",
            "105/105 [==============================] - 0s 3ms/step - loss: 0.5389 - accuracy: 0.8284\n",
            "Epoch 11/30\n",
            "105/105 [==============================] - 0s 3ms/step - loss: 0.5414 - accuracy: 0.8200\n",
            "Epoch 12/30\n",
            "105/105 [==============================] - 0s 3ms/step - loss: 0.5150 - accuracy: 0.8305\n",
            "Epoch 13/30\n",
            "105/105 [==============================] - 0s 3ms/step - loss: 0.4960 - accuracy: 0.8374\n",
            "Epoch 14/30\n",
            "105/105 [==============================] - 0s 3ms/step - loss: 0.4874 - accuracy: 0.8359\n",
            "Epoch 15/30\n",
            "105/105 [==============================] - 0s 3ms/step - loss: 0.4727 - accuracy: 0.8467\n",
            "Epoch 16/30\n",
            "105/105 [==============================] - 0s 3ms/step - loss: 0.4650 - accuracy: 0.8497\n",
            "Epoch 17/30\n",
            "105/105 [==============================] - 0s 3ms/step - loss: 0.4562 - accuracy: 0.8467\n",
            "Epoch 18/30\n",
            "105/105 [==============================] - 0s 3ms/step - loss: 0.4484 - accuracy: 0.8512\n",
            "Epoch 19/30\n",
            "105/105 [==============================] - 0s 3ms/step - loss: 0.4347 - accuracy: 0.8527\n",
            "Epoch 20/30\n",
            "105/105 [==============================] - 0s 3ms/step - loss: 0.4302 - accuracy: 0.8596\n",
            "Epoch 21/30\n",
            "105/105 [==============================] - 0s 3ms/step - loss: 0.4244 - accuracy: 0.8617\n",
            "Epoch 22/30\n",
            "105/105 [==============================] - 0s 3ms/step - loss: 0.4085 - accuracy: 0.8674\n",
            "Epoch 23/30\n",
            "105/105 [==============================] - 0s 3ms/step - loss: 0.4042 - accuracy: 0.8665\n",
            "Epoch 24/30\n",
            "105/105 [==============================] - 0s 3ms/step - loss: 0.3967 - accuracy: 0.8743\n",
            "Epoch 25/30\n",
            "105/105 [==============================] - 0s 3ms/step - loss: 0.3908 - accuracy: 0.8749\n",
            "Epoch 26/30\n",
            "105/105 [==============================] - 0s 3ms/step - loss: 0.3941 - accuracy: 0.8683\n",
            "Epoch 27/30\n",
            "105/105 [==============================] - 0s 3ms/step - loss: 0.3845 - accuracy: 0.8746\n",
            "Epoch 28/30\n",
            "105/105 [==============================] - 0s 3ms/step - loss: 0.3719 - accuracy: 0.8785\n",
            "Epoch 29/30\n",
            "105/105 [==============================] - 0s 3ms/step - loss: 0.3666 - accuracy: 0.8803\n",
            "Epoch 30/30\n",
            "105/105 [==============================] - 0s 3ms/step - loss: 0.3640 - accuracy: 0.8812\n",
            "53/53 [==============================] - 0s 2ms/step - loss: 0.4629 - accuracy: 0.8434\n",
            "[CV] END ..........................................units=100; total time=  10.9s\n",
            "Epoch 1/30\n"
          ]
        },
        {
          "output_type": "stream",
          "name": "stderr",
          "text": [
            "/usr/local/lib/python3.7/dist-packages/keras/optimizers/optimizer_v2/gradient_descent.py:108: UserWarning: The `lr` argument is deprecated, use `learning_rate` instead.\n",
            "  super(SGD, self).__init__(name, **kwargs)\n"
          ]
        },
        {
          "output_type": "stream",
          "name": "stdout",
          "text": [
            "105/105 [==============================] - 1s 3ms/step - loss: 1.8124 - accuracy: 0.4446\n",
            "Epoch 2/30\n",
            "105/105 [==============================] - 0s 3ms/step - loss: 1.0671 - accuracy: 0.6901\n",
            "Epoch 3/30\n",
            "105/105 [==============================] - 0s 3ms/step - loss: 0.8222 - accuracy: 0.7453\n",
            "Epoch 4/30\n",
            "105/105 [==============================] - 0s 3ms/step - loss: 0.7229 - accuracy: 0.7672\n",
            "Epoch 5/30\n",
            "105/105 [==============================] - 0s 3ms/step - loss: 0.6548 - accuracy: 0.7894\n",
            "Epoch 6/30\n",
            "105/105 [==============================] - 0s 3ms/step - loss: 0.6110 - accuracy: 0.8020\n",
            "Epoch 7/30\n",
            "105/105 [==============================] - 0s 3ms/step - loss: 0.5919 - accuracy: 0.8035\n",
            "Epoch 8/30\n",
            "105/105 [==============================] - 0s 3ms/step - loss: 0.5548 - accuracy: 0.8158\n",
            "Epoch 9/30\n",
            "105/105 [==============================] - 0s 3ms/step - loss: 0.5330 - accuracy: 0.8248\n",
            "Epoch 10/30\n",
            "105/105 [==============================] - 0s 3ms/step - loss: 0.5097 - accuracy: 0.8329\n",
            "Epoch 11/30\n",
            "105/105 [==============================] - 0s 3ms/step - loss: 0.4941 - accuracy: 0.8374\n",
            "Epoch 12/30\n",
            "105/105 [==============================] - 0s 3ms/step - loss: 0.4782 - accuracy: 0.8398\n",
            "Epoch 13/30\n",
            "105/105 [==============================] - 0s 3ms/step - loss: 0.4623 - accuracy: 0.8458\n",
            "Epoch 14/30\n",
            "105/105 [==============================] - 0s 3ms/step - loss: 0.4479 - accuracy: 0.8518\n",
            "Epoch 15/30\n",
            "105/105 [==============================] - 0s 3ms/step - loss: 0.4425 - accuracy: 0.8530\n",
            "Epoch 16/30\n",
            "105/105 [==============================] - 0s 3ms/step - loss: 0.4287 - accuracy: 0.8590\n",
            "Epoch 17/30\n",
            "105/105 [==============================] - 0s 3ms/step - loss: 0.4186 - accuracy: 0.8620\n",
            "Epoch 18/30\n",
            "105/105 [==============================] - 0s 3ms/step - loss: 0.4136 - accuracy: 0.8677\n",
            "Epoch 19/30\n",
            "105/105 [==============================] - 0s 3ms/step - loss: 0.4073 - accuracy: 0.8614\n",
            "Epoch 20/30\n",
            "105/105 [==============================] - 0s 3ms/step - loss: 0.4007 - accuracy: 0.8680\n",
            "Epoch 21/30\n",
            "105/105 [==============================] - 0s 3ms/step - loss: 0.3899 - accuracy: 0.8692\n",
            "Epoch 22/30\n",
            "105/105 [==============================] - 0s 3ms/step - loss: 0.3809 - accuracy: 0.8710\n",
            "Epoch 23/30\n",
            "105/105 [==============================] - 0s 3ms/step - loss: 0.3696 - accuracy: 0.8785\n",
            "Epoch 24/30\n",
            "105/105 [==============================] - 0s 3ms/step - loss: 0.3680 - accuracy: 0.8761\n",
            "Epoch 25/30\n",
            "105/105 [==============================] - 0s 3ms/step - loss: 0.3601 - accuracy: 0.8779\n",
            "Epoch 26/30\n",
            "105/105 [==============================] - 0s 3ms/step - loss: 0.3557 - accuracy: 0.8797\n",
            "Epoch 27/30\n",
            "105/105 [==============================] - 0s 3ms/step - loss: 0.3456 - accuracy: 0.8842\n",
            "Epoch 28/30\n",
            "105/105 [==============================] - 0s 3ms/step - loss: 0.3454 - accuracy: 0.8863\n",
            "Epoch 29/30\n",
            "105/105 [==============================] - 0s 3ms/step - loss: 0.3380 - accuracy: 0.8821\n",
            "Epoch 30/30\n",
            "105/105 [==============================] - 0s 3ms/step - loss: 0.3317 - accuracy: 0.8890\n",
            "53/53 [==============================] - 0s 2ms/step - loss: 0.5581 - accuracy: 0.8080\n",
            "[CV] END ..........................................units=100; total time=  10.9s\n",
            "Epoch 1/30\n"
          ]
        },
        {
          "output_type": "stream",
          "name": "stderr",
          "text": [
            "/usr/local/lib/python3.7/dist-packages/keras/optimizers/optimizer_v2/gradient_descent.py:108: UserWarning: The `lr` argument is deprecated, use `learning_rate` instead.\n",
            "  super(SGD, self).__init__(name, **kwargs)\n"
          ]
        },
        {
          "output_type": "stream",
          "name": "stdout",
          "text": [
            "105/105 [==============================] - 1s 3ms/step - loss: 1.7551 - accuracy: 0.4406\n",
            "Epoch 2/30\n",
            "105/105 [==============================] - 0s 3ms/step - loss: 1.0448 - accuracy: 0.6764\n",
            "Epoch 3/30\n",
            "105/105 [==============================] - 0s 3ms/step - loss: 0.8328 - accuracy: 0.7262\n",
            "Epoch 4/30\n",
            "105/105 [==============================] - 0s 3ms/step - loss: 0.7340 - accuracy: 0.7642\n",
            "Epoch 5/30\n",
            "105/105 [==============================] - 0s 3ms/step - loss: 0.6742 - accuracy: 0.7720\n",
            "Epoch 6/30\n",
            "105/105 [==============================] - 0s 3ms/step - loss: 0.6393 - accuracy: 0.7837\n",
            "Epoch 7/30\n",
            "105/105 [==============================] - 0s 3ms/step - loss: 0.6019 - accuracy: 0.7969\n",
            "Epoch 8/30\n",
            "105/105 [==============================] - 0s 3ms/step - loss: 0.5746 - accuracy: 0.8056\n",
            "Epoch 9/30\n",
            "105/105 [==============================] - 0s 3ms/step - loss: 0.5539 - accuracy: 0.8197\n",
            "Epoch 10/30\n",
            "105/105 [==============================] - 0s 3ms/step - loss: 0.5377 - accuracy: 0.8158\n",
            "Epoch 11/30\n",
            "105/105 [==============================] - 0s 3ms/step - loss: 0.5195 - accuracy: 0.8284\n",
            "Epoch 12/30\n",
            "105/105 [==============================] - 0s 3ms/step - loss: 0.5082 - accuracy: 0.8248\n",
            "Epoch 13/30\n",
            "105/105 [==============================] - 0s 3ms/step - loss: 0.4909 - accuracy: 0.8404\n",
            "Epoch 14/30\n",
            "105/105 [==============================] - 0s 3ms/step - loss: 0.4877 - accuracy: 0.8293\n",
            "Epoch 15/30\n",
            "105/105 [==============================] - 0s 4ms/step - loss: 0.4693 - accuracy: 0.8386\n",
            "Epoch 16/30\n",
            "105/105 [==============================] - 1s 5ms/step - loss: 0.4624 - accuracy: 0.8431\n",
            "Epoch 17/30\n",
            "105/105 [==============================] - 1s 5ms/step - loss: 0.4491 - accuracy: 0.8473\n",
            "Epoch 18/30\n",
            "105/105 [==============================] - 1s 5ms/step - loss: 0.4432 - accuracy: 0.8479\n",
            "Epoch 19/30\n",
            "105/105 [==============================] - 0s 4ms/step - loss: 0.4351 - accuracy: 0.8536\n",
            "Epoch 20/30\n",
            "105/105 [==============================] - 0s 3ms/step - loss: 0.4264 - accuracy: 0.8560\n",
            "Epoch 21/30\n",
            "105/105 [==============================] - 0s 3ms/step - loss: 0.4200 - accuracy: 0.8593\n",
            "Epoch 22/30\n",
            "105/105 [==============================] - 0s 3ms/step - loss: 0.4117 - accuracy: 0.8572\n",
            "Epoch 23/30\n",
            "105/105 [==============================] - 0s 3ms/step - loss: 0.4064 - accuracy: 0.8611\n",
            "Epoch 24/30\n",
            "105/105 [==============================] - 0s 3ms/step - loss: 0.3993 - accuracy: 0.8722\n",
            "Epoch 25/30\n",
            "105/105 [==============================] - 0s 3ms/step - loss: 0.3966 - accuracy: 0.8680\n",
            "Epoch 26/30\n",
            "105/105 [==============================] - 0s 3ms/step - loss: 0.3851 - accuracy: 0.8713\n",
            "Epoch 27/30\n",
            "105/105 [==============================] - 0s 3ms/step - loss: 0.3807 - accuracy: 0.8770\n",
            "Epoch 28/30\n",
            "105/105 [==============================] - 0s 3ms/step - loss: 0.3722 - accuracy: 0.8770\n",
            "Epoch 29/30\n",
            "105/105 [==============================] - 0s 3ms/step - loss: 0.3674 - accuracy: 0.8776\n",
            "Epoch 30/30\n",
            "105/105 [==============================] - 0s 3ms/step - loss: 0.3640 - accuracy: 0.8776\n",
            "53/53 [==============================] - 0s 3ms/step - loss: 0.4482 - accuracy: 0.8457\n",
            "[CV] END ..........................................units=100; total time=  10.9s\n",
            "Epoch 1/30\n"
          ]
        },
        {
          "output_type": "stream",
          "name": "stderr",
          "text": [
            "/usr/local/lib/python3.7/dist-packages/keras/optimizers/optimizer_v2/gradient_descent.py:108: UserWarning: The `lr` argument is deprecated, use `learning_rate` instead.\n",
            "  super(SGD, self).__init__(name, **kwargs)\n"
          ]
        },
        {
          "output_type": "stream",
          "name": "stdout",
          "text": [
            "105/105 [==============================] - 1s 3ms/step - loss: 1.7445 - accuracy: 0.4611\n",
            "Epoch 2/30\n",
            "105/105 [==============================] - 0s 3ms/step - loss: 0.9773 - accuracy: 0.7021\n",
            "Epoch 3/30\n",
            "105/105 [==============================] - 0s 3ms/step - loss: 0.7828 - accuracy: 0.7396\n",
            "Epoch 4/30\n",
            "105/105 [==============================] - 0s 3ms/step - loss: 0.6997 - accuracy: 0.7672\n",
            "Epoch 5/30\n",
            "105/105 [==============================] - 0s 2ms/step - loss: 0.6442 - accuracy: 0.7861\n",
            "Epoch 6/30\n",
            "105/105 [==============================] - 0s 3ms/step - loss: 0.6081 - accuracy: 0.7915\n",
            "Epoch 7/30\n",
            "105/105 [==============================] - 0s 3ms/step - loss: 0.5837 - accuracy: 0.8077\n",
            "Epoch 8/30\n",
            "105/105 [==============================] - 0s 3ms/step - loss: 0.5497 - accuracy: 0.8143\n",
            "Epoch 9/30\n",
            "105/105 [==============================] - 0s 3ms/step - loss: 0.5342 - accuracy: 0.8215\n",
            "Epoch 10/30\n",
            "105/105 [==============================] - 0s 3ms/step - loss: 0.5143 - accuracy: 0.8332\n",
            "Epoch 11/30\n",
            "105/105 [==============================] - 0s 3ms/step - loss: 0.5214 - accuracy: 0.8215\n",
            "Epoch 12/30\n",
            "105/105 [==============================] - 0s 3ms/step - loss: 0.4913 - accuracy: 0.8386\n",
            "Epoch 13/30\n",
            "105/105 [==============================] - 0s 3ms/step - loss: 0.4773 - accuracy: 0.8395\n",
            "Epoch 14/30\n",
            "105/105 [==============================] - 0s 3ms/step - loss: 0.4658 - accuracy: 0.8401\n",
            "Epoch 15/30\n",
            "105/105 [==============================] - 0s 3ms/step - loss: 0.4534 - accuracy: 0.8473\n",
            "Epoch 16/30\n",
            "105/105 [==============================] - 0s 3ms/step - loss: 0.4462 - accuracy: 0.8557\n",
            "Epoch 17/30\n",
            "105/105 [==============================] - 0s 3ms/step - loss: 0.4395 - accuracy: 0.8527\n",
            "Epoch 18/30\n",
            "105/105 [==============================] - 0s 3ms/step - loss: 0.4328 - accuracy: 0.8578\n",
            "Epoch 19/30\n",
            "105/105 [==============================] - 0s 3ms/step - loss: 0.4157 - accuracy: 0.8641\n",
            "Epoch 20/30\n",
            "105/105 [==============================] - 0s 3ms/step - loss: 0.4185 - accuracy: 0.8617\n",
            "Epoch 21/30\n",
            "105/105 [==============================] - 0s 3ms/step - loss: 0.4108 - accuracy: 0.8653\n",
            "Epoch 22/30\n",
            "105/105 [==============================] - 0s 3ms/step - loss: 0.3927 - accuracy: 0.8767\n",
            "Epoch 23/30\n",
            "105/105 [==============================] - 0s 3ms/step - loss: 0.3907 - accuracy: 0.8731\n",
            "Epoch 24/30\n",
            "105/105 [==============================] - 0s 3ms/step - loss: 0.3845 - accuracy: 0.8791\n",
            "Epoch 25/30\n",
            "105/105 [==============================] - 0s 3ms/step - loss: 0.3786 - accuracy: 0.8812\n",
            "Epoch 26/30\n",
            "105/105 [==============================] - 0s 3ms/step - loss: 0.3809 - accuracy: 0.8737\n",
            "Epoch 27/30\n",
            "105/105 [==============================] - 0s 3ms/step - loss: 0.3712 - accuracy: 0.8800\n",
            "Epoch 28/30\n",
            "105/105 [==============================] - 0s 3ms/step - loss: 0.3576 - accuracy: 0.8884\n",
            "Epoch 29/30\n",
            "105/105 [==============================] - 0s 3ms/step - loss: 0.3553 - accuracy: 0.8875\n",
            "Epoch 30/30\n",
            "105/105 [==============================] - 0s 2ms/step - loss: 0.3506 - accuracy: 0.8896\n",
            "53/53 [==============================] - 0s 2ms/step - loss: 0.4617 - accuracy: 0.8452\n",
            "[CV] END ..........................................units=150; total time=  10.9s\n",
            "Epoch 1/30\n"
          ]
        },
        {
          "output_type": "stream",
          "name": "stderr",
          "text": [
            "/usr/local/lib/python3.7/dist-packages/keras/optimizers/optimizer_v2/gradient_descent.py:108: UserWarning: The `lr` argument is deprecated, use `learning_rate` instead.\n",
            "  super(SGD, self).__init__(name, **kwargs)\n"
          ]
        },
        {
          "output_type": "stream",
          "name": "stdout",
          "text": [
            "105/105 [==============================] - 1s 3ms/step - loss: 1.6783 - accuracy: 0.5050\n",
            "Epoch 2/30\n",
            "105/105 [==============================] - 0s 3ms/step - loss: 0.9756 - accuracy: 0.6910\n",
            "Epoch 3/30\n",
            "105/105 [==============================] - 0s 3ms/step - loss: 0.7852 - accuracy: 0.7432\n",
            "Epoch 4/30\n",
            "105/105 [==============================] - 0s 3ms/step - loss: 0.7015 - accuracy: 0.7657\n",
            "Epoch 5/30\n",
            "105/105 [==============================] - 0s 3ms/step - loss: 0.6377 - accuracy: 0.7906\n",
            "Epoch 6/30\n",
            "105/105 [==============================] - 0s 3ms/step - loss: 0.5944 - accuracy: 0.8089\n",
            "Epoch 7/30\n",
            "105/105 [==============================] - 0s 3ms/step - loss: 0.5740 - accuracy: 0.8137\n",
            "Epoch 8/30\n",
            "105/105 [==============================] - 0s 3ms/step - loss: 0.5391 - accuracy: 0.8200\n",
            "Epoch 9/30\n",
            "105/105 [==============================] - 0s 3ms/step - loss: 0.5164 - accuracy: 0.8281\n",
            "Epoch 10/30\n",
            "105/105 [==============================] - 0s 3ms/step - loss: 0.4942 - accuracy: 0.8401\n",
            "Epoch 11/30\n",
            "105/105 [==============================] - 0s 3ms/step - loss: 0.4801 - accuracy: 0.8365\n",
            "Epoch 12/30\n",
            "105/105 [==============================] - 0s 3ms/step - loss: 0.4636 - accuracy: 0.8500\n",
            "Epoch 13/30\n",
            "105/105 [==============================] - 0s 3ms/step - loss: 0.4482 - accuracy: 0.8479\n",
            "Epoch 14/30\n",
            "105/105 [==============================] - 0s 3ms/step - loss: 0.4356 - accuracy: 0.8539\n",
            "Epoch 15/30\n",
            "105/105 [==============================] - 0s 3ms/step - loss: 0.4317 - accuracy: 0.8518\n",
            "Epoch 16/30\n",
            "105/105 [==============================] - 0s 3ms/step - loss: 0.4180 - accuracy: 0.8647\n",
            "Epoch 17/30\n",
            "105/105 [==============================] - 0s 3ms/step - loss: 0.4056 - accuracy: 0.8692\n",
            "Epoch 18/30\n",
            "105/105 [==============================] - 0s 3ms/step - loss: 0.4025 - accuracy: 0.8707\n",
            "Epoch 19/30\n",
            "105/105 [==============================] - 0s 3ms/step - loss: 0.3950 - accuracy: 0.8713\n",
            "Epoch 20/30\n",
            "105/105 [==============================] - 0s 3ms/step - loss: 0.3925 - accuracy: 0.8701\n",
            "Epoch 21/30\n",
            "105/105 [==============================] - 0s 3ms/step - loss: 0.3819 - accuracy: 0.8719\n",
            "Epoch 22/30\n",
            "105/105 [==============================] - 0s 3ms/step - loss: 0.3697 - accuracy: 0.8803\n",
            "Epoch 23/30\n",
            "105/105 [==============================] - 0s 3ms/step - loss: 0.3607 - accuracy: 0.8821\n",
            "Epoch 24/30\n",
            "105/105 [==============================] - 0s 3ms/step - loss: 0.3568 - accuracy: 0.8809\n",
            "Epoch 25/30\n",
            "105/105 [==============================] - 0s 3ms/step - loss: 0.3511 - accuracy: 0.8836\n",
            "Epoch 26/30\n",
            "105/105 [==============================] - 0s 3ms/step - loss: 0.3459 - accuracy: 0.8830\n",
            "Epoch 27/30\n",
            "105/105 [==============================] - 0s 3ms/step - loss: 0.3353 - accuracy: 0.8878\n",
            "Epoch 28/30\n",
            "105/105 [==============================] - 0s 2ms/step - loss: 0.3361 - accuracy: 0.8899\n",
            "Epoch 29/30\n",
            "105/105 [==============================] - 0s 3ms/step - loss: 0.3266 - accuracy: 0.8911\n",
            "Epoch 30/30\n",
            "105/105 [==============================] - 0s 3ms/step - loss: 0.3240 - accuracy: 0.8923\n",
            "53/53 [==============================] - 0s 2ms/step - loss: 0.5586 - accuracy: 0.8098\n",
            "[CV] END ..........................................units=150; total time=  10.9s\n",
            "Epoch 1/30\n"
          ]
        },
        {
          "output_type": "stream",
          "name": "stderr",
          "text": [
            "/usr/local/lib/python3.7/dist-packages/keras/optimizers/optimizer_v2/gradient_descent.py:108: UserWarning: The `lr` argument is deprecated, use `learning_rate` instead.\n",
            "  super(SGD, self).__init__(name, **kwargs)\n"
          ]
        },
        {
          "output_type": "stream",
          "name": "stdout",
          "text": [
            "105/105 [==============================] - 1s 3ms/step - loss: 1.7347 - accuracy: 0.4445\n",
            "Epoch 2/30\n",
            "105/105 [==============================] - 0s 3ms/step - loss: 1.0147 - accuracy: 0.6863\n",
            "Epoch 3/30\n",
            "105/105 [==============================] - 0s 3ms/step - loss: 0.8251 - accuracy: 0.7367\n",
            "Epoch 4/30\n",
            "105/105 [==============================] - 0s 3ms/step - loss: 0.7254 - accuracy: 0.7675\n",
            "Epoch 5/30\n",
            "105/105 [==============================] - 0s 3ms/step - loss: 0.6654 - accuracy: 0.7777\n",
            "Epoch 6/30\n",
            "105/105 [==============================] - 0s 3ms/step - loss: 0.6267 - accuracy: 0.7900\n",
            "Epoch 7/30\n",
            "105/105 [==============================] - 0s 3ms/step - loss: 0.5916 - accuracy: 0.8008\n",
            "Epoch 8/30\n",
            "105/105 [==============================] - 0s 3ms/step - loss: 0.5688 - accuracy: 0.8065\n",
            "Epoch 9/30\n",
            "105/105 [==============================] - 0s 3ms/step - loss: 0.5472 - accuracy: 0.8185\n",
            "Epoch 10/30\n",
            "105/105 [==============================] - 0s 3ms/step - loss: 0.5301 - accuracy: 0.8233\n",
            "Epoch 11/30\n",
            "105/105 [==============================] - 0s 3ms/step - loss: 0.5120 - accuracy: 0.8284\n",
            "Epoch 12/30\n",
            "105/105 [==============================] - 0s 3ms/step - loss: 0.5009 - accuracy: 0.8266\n",
            "Epoch 13/30\n",
            "105/105 [==============================] - 0s 3ms/step - loss: 0.4843 - accuracy: 0.8389\n",
            "Epoch 14/30\n",
            "105/105 [==============================] - 0s 3ms/step - loss: 0.4814 - accuracy: 0.8374\n",
            "Epoch 15/30\n",
            "105/105 [==============================] - 0s 3ms/step - loss: 0.4608 - accuracy: 0.8473\n",
            "Epoch 16/30\n",
            "105/105 [==============================] - 0s 3ms/step - loss: 0.4575 - accuracy: 0.8458\n",
            "Epoch 17/30\n",
            "105/105 [==============================] - 0s 3ms/step - loss: 0.4473 - accuracy: 0.8473\n",
            "Epoch 18/30\n",
            "105/105 [==============================] - 0s 3ms/step - loss: 0.4397 - accuracy: 0.8512\n",
            "Epoch 19/30\n",
            "105/105 [==============================] - 0s 3ms/step - loss: 0.4309 - accuracy: 0.8503\n",
            "Epoch 20/30\n",
            "105/105 [==============================] - 0s 3ms/step - loss: 0.4224 - accuracy: 0.8563\n",
            "Epoch 21/30\n",
            "105/105 [==============================] - 0s 3ms/step - loss: 0.4172 - accuracy: 0.8551\n",
            "Epoch 22/30\n",
            "105/105 [==============================] - 0s 3ms/step - loss: 0.4107 - accuracy: 0.8593\n",
            "Epoch 23/30\n",
            "105/105 [==============================] - 0s 3ms/step - loss: 0.4020 - accuracy: 0.8611\n",
            "Epoch 24/30\n",
            "105/105 [==============================] - 0s 3ms/step - loss: 0.3980 - accuracy: 0.8686\n",
            "Epoch 25/30\n",
            "105/105 [==============================] - 0s 3ms/step - loss: 0.3987 - accuracy: 0.8623\n",
            "Epoch 26/30\n",
            "105/105 [==============================] - 0s 3ms/step - loss: 0.3839 - accuracy: 0.8674\n",
            "Epoch 27/30\n",
            "105/105 [==============================] - 0s 3ms/step - loss: 0.3798 - accuracy: 0.8716\n",
            "Epoch 28/30\n",
            "105/105 [==============================] - 0s 3ms/step - loss: 0.3736 - accuracy: 0.8719\n",
            "Epoch 29/30\n",
            "105/105 [==============================] - 0s 2ms/step - loss: 0.3658 - accuracy: 0.8782\n",
            "Epoch 30/30\n",
            "105/105 [==============================] - 0s 3ms/step - loss: 0.3640 - accuracy: 0.8764\n",
            "53/53 [==============================] - 0s 2ms/step - loss: 0.4492 - accuracy: 0.8559\n",
            "[CV] END ..........................................units=150; total time=   9.2s\n",
            "Epoch 1/30\n"
          ]
        },
        {
          "output_type": "stream",
          "name": "stderr",
          "text": [
            "/usr/local/lib/python3.7/dist-packages/keras/optimizers/optimizer_v2/gradient_descent.py:108: UserWarning: The `lr` argument is deprecated, use `learning_rate` instead.\n",
            "  super(SGD, self).__init__(name, **kwargs)\n"
          ]
        },
        {
          "output_type": "stream",
          "name": "stdout",
          "text": [
            "105/105 [==============================] - 1s 3ms/step - loss: 1.6795 - accuracy: 0.4686\n",
            "Epoch 2/30\n",
            "105/105 [==============================] - 0s 3ms/step - loss: 0.9810 - accuracy: 0.6883\n",
            "Epoch 3/30\n",
            "105/105 [==============================] - 0s 2ms/step - loss: 0.7905 - accuracy: 0.7525\n",
            "Epoch 4/30\n",
            "105/105 [==============================] - 0s 3ms/step - loss: 0.7090 - accuracy: 0.7726\n",
            "Epoch 5/30\n",
            "105/105 [==============================] - 0s 2ms/step - loss: 0.6500 - accuracy: 0.7858\n",
            "Epoch 6/30\n",
            "105/105 [==============================] - 0s 3ms/step - loss: 0.6140 - accuracy: 0.7966\n",
            "Epoch 7/30\n",
            "105/105 [==============================] - 0s 3ms/step - loss: 0.5876 - accuracy: 0.8011\n",
            "Epoch 8/30\n",
            "105/105 [==============================] - 0s 3ms/step - loss: 0.5496 - accuracy: 0.8212\n",
            "Epoch 9/30\n",
            "105/105 [==============================] - 0s 3ms/step - loss: 0.5346 - accuracy: 0.8242\n",
            "Epoch 10/30\n",
            "105/105 [==============================] - 0s 3ms/step - loss: 0.5115 - accuracy: 0.8380\n",
            "Epoch 11/30\n",
            "105/105 [==============================] - 0s 3ms/step - loss: 0.5188 - accuracy: 0.8224\n",
            "Epoch 12/30\n",
            "105/105 [==============================] - 0s 3ms/step - loss: 0.4899 - accuracy: 0.8410\n",
            "Epoch 13/30\n",
            "105/105 [==============================] - 0s 3ms/step - loss: 0.4748 - accuracy: 0.8446\n",
            "Epoch 14/30\n",
            "105/105 [==============================] - 0s 3ms/step - loss: 0.4648 - accuracy: 0.8389\n",
            "Epoch 15/30\n",
            "105/105 [==============================] - 0s 3ms/step - loss: 0.4509 - accuracy: 0.8509\n",
            "Epoch 16/30\n",
            "105/105 [==============================] - 0s 3ms/step - loss: 0.4409 - accuracy: 0.8554\n",
            "Epoch 17/30\n",
            "105/105 [==============================] - 0s 3ms/step - loss: 0.4367 - accuracy: 0.8566\n",
            "Epoch 18/30\n",
            "105/105 [==============================] - 0s 3ms/step - loss: 0.4272 - accuracy: 0.8596\n",
            "Epoch 19/30\n",
            "105/105 [==============================] - 0s 3ms/step - loss: 0.4125 - accuracy: 0.8626\n",
            "Epoch 20/30\n",
            "105/105 [==============================] - 0s 2ms/step - loss: 0.4114 - accuracy: 0.8692\n",
            "Epoch 21/30\n",
            "105/105 [==============================] - 0s 3ms/step - loss: 0.4055 - accuracy: 0.8680\n",
            "Epoch 22/30\n",
            "105/105 [==============================] - 0s 2ms/step - loss: 0.3904 - accuracy: 0.8731\n",
            "Epoch 23/30\n",
            "105/105 [==============================] - 0s 2ms/step - loss: 0.3872 - accuracy: 0.8770\n",
            "Epoch 24/30\n",
            "105/105 [==============================] - 0s 3ms/step - loss: 0.3812 - accuracy: 0.8761\n",
            "Epoch 25/30\n",
            "105/105 [==============================] - 0s 2ms/step - loss: 0.3740 - accuracy: 0.8806\n",
            "Epoch 26/30\n",
            "105/105 [==============================] - 0s 3ms/step - loss: 0.3756 - accuracy: 0.8746\n",
            "Epoch 27/30\n",
            "105/105 [==============================] - 0s 2ms/step - loss: 0.3651 - accuracy: 0.8803\n",
            "Epoch 28/30\n",
            "105/105 [==============================] - 0s 3ms/step - loss: 0.3512 - accuracy: 0.8878\n",
            "Epoch 29/30\n",
            "105/105 [==============================] - 0s 3ms/step - loss: 0.3497 - accuracy: 0.8827\n",
            "Epoch 30/30\n",
            "105/105 [==============================] - 0s 2ms/step - loss: 0.3461 - accuracy: 0.8848\n",
            "53/53 [==============================] - 0s 2ms/step - loss: 0.4625 - accuracy: 0.8446\n",
            "[CV] END ..........................................units=200; total time=   9.0s\n",
            "Epoch 1/30\n"
          ]
        },
        {
          "output_type": "stream",
          "name": "stderr",
          "text": [
            "/usr/local/lib/python3.7/dist-packages/keras/optimizers/optimizer_v2/gradient_descent.py:108: UserWarning: The `lr` argument is deprecated, use `learning_rate` instead.\n",
            "  super(SGD, self).__init__(name, **kwargs)\n"
          ]
        },
        {
          "output_type": "stream",
          "name": "stdout",
          "text": [
            "105/105 [==============================] - 1s 3ms/step - loss: 1.6631 - accuracy: 0.4884\n",
            "Epoch 2/30\n",
            "105/105 [==============================] - 0s 2ms/step - loss: 0.9433 - accuracy: 0.7108\n",
            "Epoch 3/30\n",
            "105/105 [==============================] - 0s 3ms/step - loss: 0.7652 - accuracy: 0.7453\n",
            "Epoch 4/30\n",
            "105/105 [==============================] - 0s 3ms/step - loss: 0.6875 - accuracy: 0.7681\n",
            "Epoch 5/30\n",
            "105/105 [==============================] - 0s 3ms/step - loss: 0.6246 - accuracy: 0.7909\n",
            "Epoch 6/30\n",
            "105/105 [==============================] - 0s 2ms/step - loss: 0.5830 - accuracy: 0.8119\n",
            "Epoch 7/30\n",
            "105/105 [==============================] - 0s 3ms/step - loss: 0.5669 - accuracy: 0.8107\n",
            "Epoch 8/30\n",
            "105/105 [==============================] - 0s 2ms/step - loss: 0.5291 - accuracy: 0.8251\n",
            "Epoch 9/30\n",
            "105/105 [==============================] - 0s 2ms/step - loss: 0.5125 - accuracy: 0.8275\n",
            "Epoch 10/30\n",
            "105/105 [==============================] - 0s 3ms/step - loss: 0.4896 - accuracy: 0.8389\n",
            "Epoch 11/30\n",
            "105/105 [==============================] - 0s 3ms/step - loss: 0.4747 - accuracy: 0.8368\n",
            "Epoch 12/30\n",
            "105/105 [==============================] - 0s 3ms/step - loss: 0.4568 - accuracy: 0.8482\n",
            "Epoch 13/30\n",
            "105/105 [==============================] - 0s 2ms/step - loss: 0.4433 - accuracy: 0.8506\n",
            "Epoch 14/30\n",
            "105/105 [==============================] - 0s 3ms/step - loss: 0.4319 - accuracy: 0.8545\n",
            "Epoch 15/30\n",
            "105/105 [==============================] - 0s 2ms/step - loss: 0.4270 - accuracy: 0.8575\n",
            "Epoch 16/30\n",
            "105/105 [==============================] - 0s 3ms/step - loss: 0.4150 - accuracy: 0.8629\n",
            "Epoch 17/30\n",
            "105/105 [==============================] - 0s 3ms/step - loss: 0.4018 - accuracy: 0.8677\n",
            "Epoch 18/30\n",
            "105/105 [==============================] - 0s 3ms/step - loss: 0.3969 - accuracy: 0.8683\n",
            "Epoch 19/30\n",
            "105/105 [==============================] - 0s 2ms/step - loss: 0.3900 - accuracy: 0.8689\n",
            "Epoch 20/30\n",
            "105/105 [==============================] - 0s 3ms/step - loss: 0.3874 - accuracy: 0.8716\n",
            "Epoch 21/30\n",
            "105/105 [==============================] - 0s 3ms/step - loss: 0.3749 - accuracy: 0.8773\n",
            "Epoch 22/30\n",
            "105/105 [==============================] - 0s 3ms/step - loss: 0.3663 - accuracy: 0.8716\n",
            "Epoch 23/30\n",
            "105/105 [==============================] - 0s 3ms/step - loss: 0.3559 - accuracy: 0.8794\n",
            "Epoch 24/30\n",
            "105/105 [==============================] - 0s 2ms/step - loss: 0.3512 - accuracy: 0.8815\n",
            "Epoch 25/30\n",
            "105/105 [==============================] - 0s 3ms/step - loss: 0.3448 - accuracy: 0.8890\n",
            "Epoch 26/30\n",
            "105/105 [==============================] - 0s 3ms/step - loss: 0.3438 - accuracy: 0.8827\n",
            "Epoch 27/30\n",
            "105/105 [==============================] - 0s 2ms/step - loss: 0.3297 - accuracy: 0.8863\n",
            "Epoch 28/30\n",
            "105/105 [==============================] - 0s 3ms/step - loss: 0.3311 - accuracy: 0.8872\n",
            "Epoch 29/30\n",
            "105/105 [==============================] - 0s 3ms/step - loss: 0.3209 - accuracy: 0.8944\n",
            "Epoch 30/30\n",
            "105/105 [==============================] - 0s 2ms/step - loss: 0.3153 - accuracy: 0.8938\n",
            "53/53 [==============================] - 0s 2ms/step - loss: 0.5694 - accuracy: 0.8074\n",
            "[CV] END ..........................................units=200; total time=  10.9s\n",
            "Epoch 1/30\n"
          ]
        },
        {
          "output_type": "stream",
          "name": "stderr",
          "text": [
            "/usr/local/lib/python3.7/dist-packages/keras/optimizers/optimizer_v2/gradient_descent.py:108: UserWarning: The `lr` argument is deprecated, use `learning_rate` instead.\n",
            "  super(SGD, self).__init__(name, **kwargs)\n"
          ]
        },
        {
          "output_type": "stream",
          "name": "stdout",
          "text": [
            "105/105 [==============================] - 1s 3ms/step - loss: 1.6688 - accuracy: 0.4802\n",
            "Epoch 2/30\n",
            "105/105 [==============================] - 0s 3ms/step - loss: 1.0011 - accuracy: 0.6797\n",
            "Epoch 3/30\n",
            "105/105 [==============================] - 0s 3ms/step - loss: 0.8214 - accuracy: 0.7313\n",
            "Epoch 4/30\n",
            "105/105 [==============================] - 0s 3ms/step - loss: 0.7285 - accuracy: 0.7738\n",
            "Epoch 5/30\n",
            "105/105 [==============================] - 0s 3ms/step - loss: 0.6696 - accuracy: 0.7816\n",
            "Epoch 6/30\n",
            "105/105 [==============================] - 0s 2ms/step - loss: 0.6314 - accuracy: 0.7927\n",
            "Epoch 7/30\n",
            "105/105 [==============================] - 0s 2ms/step - loss: 0.5953 - accuracy: 0.8035\n",
            "Epoch 8/30\n",
            "105/105 [==============================] - 0s 3ms/step - loss: 0.5687 - accuracy: 0.8080\n",
            "Epoch 9/30\n",
            "105/105 [==============================] - 0s 3ms/step - loss: 0.5453 - accuracy: 0.8242\n",
            "Epoch 10/30\n",
            "105/105 [==============================] - 0s 3ms/step - loss: 0.5284 - accuracy: 0.8248\n",
            "Epoch 11/30\n",
            "105/105 [==============================] - 0s 3ms/step - loss: 0.5106 - accuracy: 0.8290\n",
            "Epoch 12/30\n",
            "105/105 [==============================] - 0s 3ms/step - loss: 0.4964 - accuracy: 0.8326\n",
            "Epoch 13/30\n",
            "105/105 [==============================] - 0s 3ms/step - loss: 0.4808 - accuracy: 0.8446\n",
            "Epoch 14/30\n",
            "105/105 [==============================] - 0s 3ms/step - loss: 0.4782 - accuracy: 0.8368\n",
            "Epoch 15/30\n",
            "105/105 [==============================] - 0s 3ms/step - loss: 0.4571 - accuracy: 0.8497\n",
            "Epoch 16/30\n",
            "105/105 [==============================] - 0s 2ms/step - loss: 0.4541 - accuracy: 0.8500\n",
            "Epoch 17/30\n",
            "105/105 [==============================] - 0s 3ms/step - loss: 0.4416 - accuracy: 0.8533\n",
            "Epoch 18/30\n",
            "105/105 [==============================] - 0s 3ms/step - loss: 0.4369 - accuracy: 0.8518\n",
            "Epoch 19/30\n",
            "105/105 [==============================] - 0s 3ms/step - loss: 0.4259 - accuracy: 0.8548\n",
            "Epoch 20/30\n",
            "105/105 [==============================] - 0s 2ms/step - loss: 0.4199 - accuracy: 0.8569\n",
            "Epoch 21/30\n",
            "105/105 [==============================] - 0s 3ms/step - loss: 0.4132 - accuracy: 0.8620\n",
            "Epoch 22/30\n",
            "105/105 [==============================] - 0s 3ms/step - loss: 0.4047 - accuracy: 0.8599\n",
            "Epoch 23/30\n",
            "105/105 [==============================] - 0s 3ms/step - loss: 0.3970 - accuracy: 0.8647\n",
            "Epoch 24/30\n",
            "105/105 [==============================] - 0s 3ms/step - loss: 0.3957 - accuracy: 0.8656\n",
            "Epoch 25/30\n",
            "105/105 [==============================] - 0s 3ms/step - loss: 0.3877 - accuracy: 0.8647\n",
            "Epoch 26/30\n",
            "105/105 [==============================] - 0s 3ms/step - loss: 0.3796 - accuracy: 0.8665\n",
            "Epoch 27/30\n",
            "105/105 [==============================] - 0s 3ms/step - loss: 0.3730 - accuracy: 0.8761\n",
            "Epoch 28/30\n",
            "105/105 [==============================] - 0s 3ms/step - loss: 0.3674 - accuracy: 0.8737\n",
            "Epoch 29/30\n",
            "105/105 [==============================] - 0s 3ms/step - loss: 0.3585 - accuracy: 0.8857\n",
            "Epoch 30/30\n",
            "105/105 [==============================] - 0s 3ms/step - loss: 0.3588 - accuracy: 0.8788\n",
            "53/53 [==============================] - 0s 2ms/step - loss: 0.4452 - accuracy: 0.8583\n",
            "[CV] END ..........................................units=200; total time=   9.2s\n",
            "Epoch 1/30\n",
            "157/157 [==============================] - 1s 3ms/step - loss: 1.4864 - accuracy: 0.5402\n",
            "Epoch 2/30\n",
            "157/157 [==============================] - 0s 2ms/step - loss: 0.8414 - accuracy: 0.7166\n",
            "Epoch 3/30\n",
            "157/157 [==============================] - 0s 3ms/step - loss: 0.7045 - accuracy: 0.7626\n",
            "Epoch 4/30\n",
            "157/157 [==============================] - 0s 3ms/step - loss: 0.6324 - accuracy: 0.7876\n",
            "Epoch 5/30\n",
            "157/157 [==============================] - 0s 3ms/step - loss: 0.5944 - accuracy: 0.7990\n",
            "Epoch 6/30\n",
            "157/157 [==============================] - 0s 3ms/step - loss: 0.5555 - accuracy: 0.8106\n",
            "Epoch 7/30\n",
            "157/157 [==============================] - 0s 3ms/step - loss: 0.5265 - accuracy: 0.8214\n",
            "Epoch 8/30\n",
            "157/157 [==============================] - 0s 3ms/step - loss: 0.5054 - accuracy: 0.8318\n",
            "Epoch 9/30\n",
            "157/157 [==============================] - 0s 3ms/step - loss: 0.4850 - accuracy: 0.8402\n",
            "Epoch 10/30\n",
            "157/157 [==============================] - 0s 3ms/step - loss: 0.4730 - accuracy: 0.8400\n",
            "Epoch 11/30\n",
            "157/157 [==============================] - 0s 3ms/step - loss: 0.4623 - accuracy: 0.8430\n",
            "Epoch 12/30\n",
            "157/157 [==============================] - 0s 3ms/step - loss: 0.4496 - accuracy: 0.8498\n",
            "Epoch 13/30\n",
            "157/157 [==============================] - 0s 3ms/step - loss: 0.4338 - accuracy: 0.8562\n",
            "Epoch 14/30\n",
            "157/157 [==============================] - 0s 3ms/step - loss: 0.4267 - accuracy: 0.8566\n",
            "Epoch 15/30\n",
            "157/157 [==============================] - 0s 3ms/step - loss: 0.4277 - accuracy: 0.8540\n",
            "Epoch 16/30\n",
            "157/157 [==============================] - 0s 3ms/step - loss: 0.4072 - accuracy: 0.8622\n",
            "Epoch 17/30\n",
            "157/157 [==============================] - 0s 3ms/step - loss: 0.3977 - accuracy: 0.8684\n",
            "Epoch 18/30\n",
            "157/157 [==============================] - 0s 3ms/step - loss: 0.3923 - accuracy: 0.8666\n",
            "Epoch 19/30\n",
            "157/157 [==============================] - 0s 3ms/step - loss: 0.3886 - accuracy: 0.8674\n",
            "Epoch 20/30\n",
            "157/157 [==============================] - 0s 3ms/step - loss: 0.3802 - accuracy: 0.8720\n",
            "Epoch 21/30\n",
            "157/157 [==============================] - 0s 3ms/step - loss: 0.3711 - accuracy: 0.8768\n",
            "Epoch 22/30\n",
            "157/157 [==============================] - 0s 3ms/step - loss: 0.3703 - accuracy: 0.8770\n",
            "Epoch 23/30\n",
            "157/157 [==============================] - 0s 3ms/step - loss: 0.3602 - accuracy: 0.8810\n",
            "Epoch 24/30\n",
            "157/157 [==============================] - 0s 3ms/step - loss: 0.3537 - accuracy: 0.8820\n",
            "Epoch 25/30\n",
            "157/157 [==============================] - 0s 3ms/step - loss: 0.3556 - accuracy: 0.8776\n",
            "Epoch 26/30\n",
            "157/157 [==============================] - 0s 3ms/step - loss: 0.3448 - accuracy: 0.8826\n",
            "Epoch 27/30\n",
            "157/157 [==============================] - 0s 3ms/step - loss: 0.3446 - accuracy: 0.8840\n",
            "Epoch 28/30\n",
            "157/157 [==============================] - 0s 3ms/step - loss: 0.3370 - accuracy: 0.8866\n",
            "Epoch 29/30\n",
            "157/157 [==============================] - 0s 3ms/step - loss: 0.3280 - accuracy: 0.8898\n",
            "Epoch 30/30\n",
            "157/157 [==============================] - 0s 3ms/step - loss: 0.3284 - accuracy: 0.8908\n"
          ]
        },
        {
          "output_type": "execute_result",
          "data": {
            "text/plain": [
              "GridSearchCV(cv=3,\n",
              "             estimator=<keras.wrappers.scikit_learn.KerasClassifier object at 0x7f1de952b2d0>,\n",
              "             param_grid={'units': [30, 50, 100, 150, 200]}, verbose=2)"
            ]
          },
          "metadata": {},
          "execution_count": 40
        }
      ]
    },
    {
      "cell_type": "code",
      "metadata": {
        "id": "_-N0SUHP8ms7",
        "outputId": "0780c052-1fef-4f02-9b33-2c952baee685",
        "colab": {
          "base_uri": "https://localhost:8080/"
        }
      },
      "source": [
        "grid_cv.best_params_ #{'units': 150}"
      ],
      "execution_count": null,
      "outputs": [
        {
          "output_type": "execute_result",
          "data": {
            "text/plain": [
              "{'units': 150}"
            ]
          },
          "metadata": {},
          "execution_count": 41
        }
      ]
    }
  ]
}