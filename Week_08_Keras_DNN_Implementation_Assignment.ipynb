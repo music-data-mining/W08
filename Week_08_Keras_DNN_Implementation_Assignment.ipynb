{
  "nbformat": 4,
  "nbformat_minor": 0,
  "metadata": {
    "colab": {
      "provenance": [],
      "collapsed_sections": []
    },
    "kernelspec": {
      "name": "python3",
      "display_name": "Python 3"
    },
    "accelerator": "GPU"
  },
  "cells": [
    {
      "cell_type": "markdown",
      "metadata": {
        "id": "cwZNmAY1glZj"
      },
      "source": [
        "#Week 08 Keras DNN Implementations Assignment\n",
        "\n",
        "- Put this notebook under the fma directory\n",
        "- Build a fully connected neural network whose testing accuracy is greater than 38% \n",
        "- Data including features are ready so just write codes to build and complie your model"
      ]
    },
    {
      "cell_type": "code",
      "metadata": {
        "id": "bTX8ngCeg7SP",
        "colab": {
          "base_uri": "https://localhost:8080/"
        },
        "outputId": "1f074c0a-b796-442a-e6dc-dcea9af6aaee"
      },
      "source": [
        "from google.colab import drive\n",
        "drive.mount('/content/gdrive')"
      ],
      "execution_count": null,
      "outputs": [
        {
          "output_type": "stream",
          "name": "stdout",
          "text": [
            "Mounted at /content/gdrive\n"
          ]
        }
      ]
    },
    {
      "cell_type": "code",
      "source": [
        "# we assume you unzip FMA metadata and fma_small in `music_data_mining`, as specified in W07 lab\n",
        "FMA_DIR = \"/content/gdrive/MyDrive/music_data_mining/fma\"\n",
        "%cd '{FMA_DIR}'"
      ],
      "metadata": {
        "id": "tBCrWPWDjNLs",
        "outputId": "fe46ebd9-95b2-47ea-db62-d1c9540f7d02",
        "colab": {
          "base_uri": "https://localhost:8080/"
        }
      },
      "execution_count": null,
      "outputs": [
        {
          "output_type": "stream",
          "name": "stdout",
          "text": [
            "/content/gdrive/MyDrive/music_data_mining/fma\n"
          ]
        }
      ]
    },
    {
      "cell_type": "code",
      "metadata": {
        "id": "NEJeeFgAhEmX",
        "outputId": "eaa51761-6eba-45b0-d180-9f6dfac37a4b",
        "colab": {
          "base_uri": "https://localhost:8080/"
        }
      },
      "source": [
        "# install a package required by the fma repo\n",
        "!pip3 install python-dotenv"
      ],
      "execution_count": null,
      "outputs": [
        {
          "output_type": "stream",
          "name": "stdout",
          "text": [
            "Looking in indexes: https://pypi.org/simple, https://us-python.pkg.dev/colab-wheels/public/simple/\n",
            "Collecting python-dotenv\n",
            "  Downloading python_dotenv-0.21.0-py3-none-any.whl (18 kB)\n",
            "Installing collected packages: python-dotenv\n",
            "Successfully installed python-dotenv-0.21.0\n"
          ]
        }
      ]
    },
    {
      "cell_type": "code",
      "metadata": {
        "id": "PijVwrlfglZo",
        "outputId": "18b9d9f4-6902-4e1f-801a-be695e1c0aa2",
        "colab": {
          "base_uri": "https://localhost:8080/"
        }
      },
      "source": [
        "import time\n",
        "import os\n",
        "\n",
        "import IPython.display as ipd\n",
        "from tqdm import tqdm_notebook\n",
        "\n",
        "# Common imports\n",
        "import numpy as np\n",
        "import pandas as pd\n",
        "\n",
        "import utils\n",
        "\n",
        "\n",
        "# Python ≥3.5 is required\n",
        "import sys\n",
        "assert sys.version_info >= (3, 5)\n",
        "\n",
        "# Scikit-Learn ≥0.20 is required\n",
        "import sklearn as skl\n",
        "#assert sklearn.__version__ >= \"0.20\"\n",
        "\n",
        "try:\n",
        "    # %tensorflow_version only exists in Colab.\n",
        "    %tensorflow_version 2.x\n",
        "except Exception:\n",
        "    pass\n",
        "\n",
        "# TensorFlow ≥2.0 is required\n",
        "import tensorflow as tf\n",
        "assert tf.__version__ >= \"2.0\"\n",
        "\n",
        "# to make this notebook's output stable across runs\n",
        "np.random.seed(42)\n",
        "\n",
        "# To plot pretty figures\n",
        "%matplotlib inline\n",
        "import matplotlib as mpl\n",
        "import matplotlib.pyplot as plt\n",
        "mpl.rc('axes', labelsize=14)\n",
        "mpl.rc('xtick', labelsize=12)\n",
        "mpl.rc('ytick', labelsize=12)\n",
        "\n",
        "# Ignore useless warnings (see SciPy issue #5998)\n",
        "import warnings\n",
        "warnings.filterwarnings(action=\"ignore\", message=\"^internal gelsd\")\n",
        "\n",
        "\n",
        "import tensorflow as tf\n",
        "from tensorflow import keras\n"
      ],
      "execution_count": null,
      "outputs": [
        {
          "output_type": "stream",
          "name": "stdout",
          "text": [
            "Colab only includes TensorFlow 2.x; %tensorflow_version has no effect.\n"
          ]
        }
      ]
    },
    {
      "cell_type": "code",
      "metadata": {
        "id": "vZvD6CY3glZw",
        "outputId": "b09d472c-b272-43af-e358-3a7b1de1394a",
        "colab": {
          "base_uri": "https://localhost:8080/"
        }
      },
      "source": [
        "# Directory where mp3 are stored.\n",
        "AUDIO_DIR = '../fma_small'\n",
        "\n",
        "# Load metadata and features.\n",
        "tracks = utils.load('../fma_metadata/tracks.csv')\n",
        "features = utils.load('../fma_metadata/features.csv')\n",
        "echonest = utils.load('../fma_metadata/echonest.csv')\n",
        "\n",
        "np.testing.assert_array_equal(features.index, tracks.index)\n",
        "assert echonest.index.isin(tracks.index).all()\n",
        "\n",
        "tracks.shape, features.shape, echonest.shape"
      ],
      "execution_count": null,
      "outputs": [
        {
          "output_type": "execute_result",
          "data": {
            "text/plain": [
              "((106574, 52), (106574, 518), (13129, 249))"
            ]
          },
          "metadata": {},
          "execution_count": 9
        }
      ]
    },
    {
      "cell_type": "markdown",
      "metadata": {
        "id": "g1A2L9nGglZ1"
      },
      "source": [
        "## Subset"
      ]
    },
    {
      "cell_type": "code",
      "metadata": {
        "id": "tj5sFzdeglZ3",
        "outputId": "3891d1c5-1ebc-40fe-fb0a-68004d2c104a",
        "colab": {
          "base_uri": "https://localhost:8080/"
        }
      },
      "source": [
        "subset = tracks.index[tracks['set', 'subset'] <= 'small']\n",
        "\n",
        "assert subset.isin(tracks.index).all()\n",
        "assert subset.isin(features.index).all()\n",
        "\n",
        "features_all = features.join(echonest, how='inner').sort_index(axis=1)\n",
        "print('Not enough Echonest features: {}'.format(features_all.shape))\n",
        "\n",
        "tracks = tracks.loc[subset]\n",
        "features_all = features.loc[subset]\n",
        "\n",
        "tracks.shape, features_all.shape"
      ],
      "execution_count": null,
      "outputs": [
        {
          "output_type": "stream",
          "name": "stdout",
          "text": [
            "Not enough Echonest features: (13129, 767)\n"
          ]
        },
        {
          "output_type": "execute_result",
          "data": {
            "text/plain": [
              "((8000, 52), (8000, 518))"
            ]
          },
          "metadata": {},
          "execution_count": 10
        }
      ]
    },
    {
      "cell_type": "code",
      "metadata": {
        "id": "x2LHi99gglZ6",
        "outputId": "b0f5fb50-7028-423f-c8d2-f22507df9d66",
        "colab": {
          "base_uri": "https://localhost:8080/"
        }
      },
      "source": [
        "train = tracks.index[tracks['set', 'split'] == 'training']\n",
        "val = tracks.index[tracks['set', 'split'] == 'validation']\n",
        "test = tracks.index[tracks['set', 'split'] == 'test']\n",
        "\n",
        "print('{} training examples, {} validation examples, {} testing examples'.format(*map(len, [train, val, test])))\n",
        "\n",
        "# X_train = features.loc[train, ['mfcc', 'spectral_contrast', 'chroma_cens', 'spectral_centroid', 'zcr']]\n",
        "# X_test = features.loc[test, ['mfcc', 'spectral_contrast', 'chroma_cens', 'spectral_centroid', 'zcr']]\n",
        "# X_valid = features.loc[val, ['mfcc', 'spectral_contrast', 'chroma_cens', 'spectral_centroid', 'zcr']]\n",
        "X_train = features.loc[train, 'mfcc']\n",
        "X_test = features.loc[test, 'mfcc']\n",
        "X_valid = features.loc[val, 'mfcc']\n",
        "\n",
        "y_train = tracks.loc[ train, ('track', 'genre_top')]\n",
        "y_test = tracks.loc[test, ('track', 'genre_top')]\n",
        "y_valid = tracks.loc[val, ('track', 'genre_top')]\n",
        "\n",
        "from sklearn import preprocessing\n",
        "enc = preprocessing.LabelEncoder()\n",
        "y_train = enc.fit_transform(y_train)\n",
        "y_test = enc.transform(y_test)\n",
        "y_valid = enc.transform(y_valid)\n",
        "\n",
        "# print(y_train[:10], y_test[:10])"
      ],
      "execution_count": null,
      "outputs": [
        {
          "output_type": "stream",
          "name": "stdout",
          "text": [
            "6400 training examples, 800 validation examples, 800 testing examples\n"
          ]
        }
      ]
    },
    {
      "cell_type": "code",
      "metadata": {
        "id": "89at7XM8s-5D",
        "outputId": "f6c37862-f7b6-49e7-9581-e1d584f57f7a",
        "colab": {
          "base_uri": "https://localhost:8080/"
        }
      },
      "source": [
        "print(X_train.shape)\n",
        "print(X_test.shape)"
      ],
      "execution_count": null,
      "outputs": [
        {
          "output_type": "stream",
          "name": "stdout",
          "text": [
            "(6400, 140)\n",
            "(800, 140)\n"
          ]
        }
      ]
    },
    {
      "cell_type": "markdown",
      "metadata": {
        "id": "LQ-WbbFXglaK"
      },
      "source": [
        "## 2 Deep learning on extracted features\n"
      ]
    },
    {
      "cell_type": "markdown",
      "metadata": {
        "id": "V5KfPUzNglaR"
      },
      "source": [
        "## Fully connected neural network\n"
      ]
    },
    {
      "cell_type": "code",
      "metadata": {
        "id": "W7V8q51cglaR"
      },
      "source": [
        "## Fully connected neural network\n",
        "## Build a fully connected neural network whose testing accuracy is greater than 38%"
      ],
      "execution_count": null,
      "outputs": []
    },
    {
      "cell_type": "code",
      "metadata": {
        "id": "T-42GeaI54Ci"
      },
      "source": [
        "model.summary()"
      ],
      "execution_count": null,
      "outputs": []
    },
    {
      "cell_type": "code",
      "metadata": {
        "id": "BIw77pEc5ktu",
        "outputId": "244d2373-a379-4daf-a6a4-b1ad592dd035",
        "colab": {
          "base_uri": "https://localhost:8080/",
          "height": 1000
        }
      },
      "source": [
        "history = model.fit(X_train, y_train, epochs=200,\n",
        "                    validation_data=(X_valid, y_valid),\n",
        "                    callbacks=[keras.callbacks.EarlyStopping(patience=10)])"
      ],
      "execution_count": null,
      "outputs": [
        {
          "output_type": "stream",
          "text": [
            "Train on 6400 samples, validate on 800 samples\n",
            "Epoch 1/200\n",
            "6400/6400 [==============================] - 1s 118us/sample - loss: 6.4246 - accuracy: 0.1481 - val_loss: 2.1040 - val_accuracy: 0.1238\n",
            "Epoch 2/200\n",
            "6400/6400 [==============================] - 1s 87us/sample - loss: 2.0882 - accuracy: 0.1531 - val_loss: 2.0934 - val_accuracy: 0.1612\n",
            "Epoch 3/200\n",
            "6400/6400 [==============================] - 1s 93us/sample - loss: 2.0483 - accuracy: 0.1798 - val_loss: 2.0477 - val_accuracy: 0.1850\n",
            "Epoch 4/200\n",
            "6400/6400 [==============================] - 0s 78us/sample - loss: 2.0105 - accuracy: 0.1909 - val_loss: 2.0139 - val_accuracy: 0.1850\n",
            "Epoch 5/200\n",
            "6400/6400 [==============================] - 1s 83us/sample - loss: 1.9876 - accuracy: 0.1948 - val_loss: 2.0135 - val_accuracy: 0.1787\n",
            "Epoch 6/200\n",
            "6400/6400 [==============================] - 1s 83us/sample - loss: 1.9744 - accuracy: 0.2053 - val_loss: 2.0094 - val_accuracy: 0.2237\n",
            "Epoch 7/200\n",
            "6400/6400 [==============================] - 1s 91us/sample - loss: 1.9679 - accuracy: 0.2070 - val_loss: 1.9959 - val_accuracy: 0.1688\n",
            "Epoch 8/200\n",
            "6400/6400 [==============================] - 0s 77us/sample - loss: 1.9569 - accuracy: 0.2045 - val_loss: 1.9779 - val_accuracy: 0.1925\n",
            "Epoch 9/200\n",
            "6400/6400 [==============================] - 1s 89us/sample - loss: 1.9525 - accuracy: 0.2070 - val_loss: 1.9637 - val_accuracy: 0.2163\n",
            "Epoch 10/200\n",
            "6400/6400 [==============================] - 1s 94us/sample - loss: 1.9484 - accuracy: 0.2072 - val_loss: 1.9579 - val_accuracy: 0.2212\n",
            "Epoch 11/200\n",
            "6400/6400 [==============================] - 0s 78us/sample - loss: 1.9449 - accuracy: 0.2141 - val_loss: 1.9521 - val_accuracy: 0.1850\n",
            "Epoch 12/200\n",
            "6400/6400 [==============================] - 1s 80us/sample - loss: 1.9379 - accuracy: 0.2125 - val_loss: 1.9169 - val_accuracy: 0.2587\n",
            "Epoch 13/200\n",
            "6400/6400 [==============================] - 1s 85us/sample - loss: 1.9379 - accuracy: 0.2181 - val_loss: 1.9298 - val_accuracy: 0.1887\n",
            "Epoch 14/200\n",
            "6400/6400 [==============================] - 1s 90us/sample - loss: 1.9330 - accuracy: 0.2203 - val_loss: 1.9189 - val_accuracy: 0.2100\n",
            "Epoch 15/200\n",
            "6400/6400 [==============================] - 1s 88us/sample - loss: 1.9339 - accuracy: 0.2295 - val_loss: 1.9160 - val_accuracy: 0.1925\n",
            "Epoch 16/200\n",
            "6400/6400 [==============================] - 1s 89us/sample - loss: 1.9207 - accuracy: 0.2266 - val_loss: 1.9167 - val_accuracy: 0.2212\n",
            "Epoch 17/200\n",
            "6400/6400 [==============================] - 1s 90us/sample - loss: 1.9210 - accuracy: 0.2308 - val_loss: 1.9356 - val_accuracy: 0.2313\n",
            "Epoch 18/200\n",
            "6400/6400 [==============================] - 1s 84us/sample - loss: 1.9210 - accuracy: 0.2339 - val_loss: 1.8922 - val_accuracy: 0.2525\n",
            "Epoch 19/200\n",
            "6400/6400 [==============================] - 1s 90us/sample - loss: 1.9175 - accuracy: 0.2323 - val_loss: 1.9063 - val_accuracy: 0.2125\n",
            "Epoch 20/200\n",
            "6400/6400 [==============================] - 1s 89us/sample - loss: 1.9118 - accuracy: 0.2362 - val_loss: 1.8953 - val_accuracy: 0.2575\n",
            "Epoch 21/200\n",
            "6400/6400 [==============================] - 1s 88us/sample - loss: 1.9113 - accuracy: 0.2427 - val_loss: 1.9306 - val_accuracy: 0.2537\n",
            "Epoch 22/200\n",
            "6400/6400 [==============================] - 1s 87us/sample - loss: 1.9141 - accuracy: 0.2330 - val_loss: 1.9161 - val_accuracy: 0.2562\n",
            "Epoch 23/200\n",
            "6400/6400 [==============================] - 1s 93us/sample - loss: 1.9074 - accuracy: 0.2391 - val_loss: 1.8943 - val_accuracy: 0.2075\n",
            "Epoch 24/200\n",
            "6400/6400 [==============================] - 1s 100us/sample - loss: 1.9072 - accuracy: 0.2411 - val_loss: 1.9112 - val_accuracy: 0.2375\n",
            "Epoch 25/200\n",
            "6400/6400 [==============================] - 1s 96us/sample - loss: 1.9050 - accuracy: 0.2383 - val_loss: 1.8786 - val_accuracy: 0.2637\n",
            "Epoch 26/200\n",
            "6400/6400 [==============================] - 1s 88us/sample - loss: 1.9009 - accuracy: 0.2441 - val_loss: 1.8624 - val_accuracy: 0.2675\n",
            "Epoch 27/200\n",
            "6400/6400 [==============================] - 1s 83us/sample - loss: 1.8944 - accuracy: 0.2455 - val_loss: 1.8456 - val_accuracy: 0.2763\n",
            "Epoch 28/200\n",
            "6400/6400 [==============================] - 1s 84us/sample - loss: 1.8992 - accuracy: 0.2387 - val_loss: 1.8564 - val_accuracy: 0.2887\n",
            "Epoch 29/200\n",
            "6400/6400 [==============================] - 1s 84us/sample - loss: 1.8910 - accuracy: 0.2469 - val_loss: 1.8759 - val_accuracy: 0.2837\n",
            "Epoch 30/200\n",
            "6400/6400 [==============================] - 1s 90us/sample - loss: 1.8918 - accuracy: 0.2444 - val_loss: 1.8527 - val_accuracy: 0.2775\n",
            "Epoch 31/200\n",
            "6400/6400 [==============================] - 1s 84us/sample - loss: 1.8909 - accuracy: 0.2498 - val_loss: 1.8628 - val_accuracy: 0.2650\n",
            "Epoch 32/200\n",
            "6400/6400 [==============================] - 1s 85us/sample - loss: 1.8891 - accuracy: 0.2445 - val_loss: 1.8788 - val_accuracy: 0.2400\n",
            "Epoch 33/200\n",
            "6400/6400 [==============================] - 1s 79us/sample - loss: 1.8837 - accuracy: 0.2519 - val_loss: 1.8355 - val_accuracy: 0.2837\n",
            "Epoch 34/200\n",
            "6400/6400 [==============================] - 1s 88us/sample - loss: 1.8833 - accuracy: 0.2570 - val_loss: 1.8335 - val_accuracy: 0.2887\n",
            "Epoch 35/200\n",
            "6400/6400 [==============================] - 1s 87us/sample - loss: 1.8797 - accuracy: 0.2595 - val_loss: 1.8416 - val_accuracy: 0.2850\n",
            "Epoch 36/200\n",
            "6400/6400 [==============================] - 1s 83us/sample - loss: 1.8806 - accuracy: 0.2580 - val_loss: 1.8156 - val_accuracy: 0.2837\n",
            "Epoch 37/200\n",
            "6400/6400 [==============================] - 1s 86us/sample - loss: 1.8795 - accuracy: 0.2559 - val_loss: 1.8280 - val_accuracy: 0.2950\n",
            "Epoch 38/200\n",
            "6400/6400 [==============================] - 1s 93us/sample - loss: 1.8746 - accuracy: 0.2644 - val_loss: 1.8085 - val_accuracy: 0.3025\n",
            "Epoch 39/200\n",
            "6400/6400 [==============================] - 1s 81us/sample - loss: 1.8713 - accuracy: 0.2617 - val_loss: 1.8090 - val_accuracy: 0.3038\n",
            "Epoch 40/200\n",
            "6400/6400 [==============================] - 0s 78us/sample - loss: 1.8670 - accuracy: 0.2608 - val_loss: 1.8243 - val_accuracy: 0.3125\n",
            "Epoch 41/200\n",
            "6400/6400 [==============================] - 1s 80us/sample - loss: 1.8638 - accuracy: 0.2689 - val_loss: 1.7996 - val_accuracy: 0.3275\n",
            "Epoch 42/200\n",
            "6400/6400 [==============================] - 1s 81us/sample - loss: 1.8627 - accuracy: 0.2694 - val_loss: 1.8072 - val_accuracy: 0.2350\n",
            "Epoch 43/200\n",
            "6400/6400 [==============================] - 1s 87us/sample - loss: 1.8589 - accuracy: 0.2714 - val_loss: 1.8315 - val_accuracy: 0.2850\n",
            "Epoch 44/200\n",
            "6400/6400 [==============================] - 0s 76us/sample - loss: 1.8571 - accuracy: 0.2700 - val_loss: 1.7783 - val_accuracy: 0.3338\n",
            "Epoch 45/200\n",
            "6400/6400 [==============================] - 1s 79us/sample - loss: 1.8517 - accuracy: 0.2750 - val_loss: 1.7934 - val_accuracy: 0.3137\n",
            "Epoch 46/200\n",
            "6400/6400 [==============================] - 1s 92us/sample - loss: 1.8489 - accuracy: 0.2708 - val_loss: 1.7645 - val_accuracy: 0.3313\n",
            "Epoch 47/200\n",
            "6400/6400 [==============================] - 1s 92us/sample - loss: 1.8387 - accuracy: 0.2806 - val_loss: 1.7615 - val_accuracy: 0.3237\n",
            "Epoch 48/200\n",
            "6400/6400 [==============================] - 1s 101us/sample - loss: 1.8306 - accuracy: 0.2855 - val_loss: 1.7406 - val_accuracy: 0.3388\n",
            "Epoch 49/200\n",
            "6400/6400 [==============================] - 1s 93us/sample - loss: 1.8312 - accuracy: 0.2873 - val_loss: 1.7325 - val_accuracy: 0.3388\n",
            "Epoch 50/200\n",
            "6400/6400 [==============================] - 1s 88us/sample - loss: 1.8128 - accuracy: 0.2964 - val_loss: 1.7155 - val_accuracy: 0.3613\n",
            "Epoch 51/200\n",
            "6400/6400 [==============================] - 1s 83us/sample - loss: 1.7997 - accuracy: 0.3052 - val_loss: 1.7435 - val_accuracy: 0.3388\n",
            "Epoch 52/200\n",
            "6400/6400 [==============================] - 1s 88us/sample - loss: 1.7984 - accuracy: 0.2995 - val_loss: 1.6963 - val_accuracy: 0.3713\n",
            "Epoch 53/200\n",
            "6400/6400 [==============================] - 1s 82us/sample - loss: 1.7841 - accuracy: 0.3119 - val_loss: 1.7114 - val_accuracy: 0.3550\n",
            "Epoch 54/200\n",
            "6400/6400 [==============================] - 1s 88us/sample - loss: 1.7735 - accuracy: 0.3209 - val_loss: 1.6929 - val_accuracy: 0.3562\n",
            "Epoch 55/200\n",
            "6400/6400 [==============================] - 1s 91us/sample - loss: 1.7750 - accuracy: 0.3197 - val_loss: 1.6877 - val_accuracy: 0.3800\n",
            "Epoch 56/200\n",
            "6400/6400 [==============================] - 1s 82us/sample - loss: 1.7690 - accuracy: 0.3241 - val_loss: 1.6930 - val_accuracy: 0.3613\n",
            "Epoch 57/200\n",
            "6400/6400 [==============================] - 1s 92us/sample - loss: 1.7544 - accuracy: 0.3289 - val_loss: 1.6723 - val_accuracy: 0.3875\n",
            "Epoch 58/200\n",
            "6400/6400 [==============================] - 1s 84us/sample - loss: 1.7573 - accuracy: 0.3331 - val_loss: 1.6890 - val_accuracy: 0.3675\n",
            "Epoch 59/200\n",
            "6400/6400 [==============================] - 0s 75us/sample - loss: 1.7509 - accuracy: 0.3381 - val_loss: 1.6580 - val_accuracy: 0.3900\n",
            "Epoch 60/200\n",
            "6400/6400 [==============================] - 1s 82us/sample - loss: 1.7342 - accuracy: 0.3391 - val_loss: 1.7031 - val_accuracy: 0.3625\n",
            "Epoch 61/200\n",
            "6400/6400 [==============================] - 0s 77us/sample - loss: 1.7293 - accuracy: 0.3466 - val_loss: 1.6597 - val_accuracy: 0.3762\n",
            "Epoch 62/200\n",
            "6400/6400 [==============================] - 1s 81us/sample - loss: 1.7282 - accuracy: 0.3442 - val_loss: 1.6656 - val_accuracy: 0.4000\n",
            "Epoch 63/200\n",
            "6400/6400 [==============================] - 1s 87us/sample - loss: 1.7253 - accuracy: 0.3487 - val_loss: 1.6707 - val_accuracy: 0.3700\n",
            "Epoch 64/200\n",
            "6400/6400 [==============================] - 1s 87us/sample - loss: 1.7118 - accuracy: 0.3491 - val_loss: 1.6672 - val_accuracy: 0.3587\n",
            "Epoch 65/200\n",
            "6400/6400 [==============================] - 1s 81us/sample - loss: 1.7095 - accuracy: 0.3537 - val_loss: 1.6539 - val_accuracy: 0.3600\n",
            "Epoch 66/200\n",
            "6400/6400 [==============================] - 1s 85us/sample - loss: 1.7068 - accuracy: 0.3555 - val_loss: 1.6392 - val_accuracy: 0.3825\n",
            "Epoch 67/200\n",
            "6400/6400 [==============================] - 0s 76us/sample - loss: 1.7057 - accuracy: 0.3555 - val_loss: 1.6339 - val_accuracy: 0.3862\n",
            "Epoch 68/200\n",
            "6400/6400 [==============================] - 1s 87us/sample - loss: 1.6916 - accuracy: 0.3609 - val_loss: 1.6351 - val_accuracy: 0.3950\n",
            "Epoch 69/200\n",
            "6400/6400 [==============================] - 1s 84us/sample - loss: 1.6870 - accuracy: 0.3667 - val_loss: 1.6483 - val_accuracy: 0.3837\n",
            "Epoch 70/200\n",
            "6400/6400 [==============================] - 1s 84us/sample - loss: 1.6886 - accuracy: 0.3645 - val_loss: 1.6481 - val_accuracy: 0.4000\n",
            "Epoch 71/200\n",
            "6400/6400 [==============================] - 1s 85us/sample - loss: 1.6789 - accuracy: 0.3688 - val_loss: 1.6243 - val_accuracy: 0.4038\n",
            "Epoch 72/200\n",
            "6400/6400 [==============================] - 1s 90us/sample - loss: 1.6749 - accuracy: 0.3700 - val_loss: 1.6219 - val_accuracy: 0.4100\n",
            "Epoch 73/200\n",
            "6400/6400 [==============================] - 1s 85us/sample - loss: 1.6659 - accuracy: 0.3706 - val_loss: 1.5895 - val_accuracy: 0.4150\n",
            "Epoch 74/200\n",
            "6400/6400 [==============================] - 1s 100us/sample - loss: 1.6626 - accuracy: 0.3758 - val_loss: 1.5924 - val_accuracy: 0.4112\n",
            "Epoch 75/200\n",
            "6400/6400 [==============================] - 1s 84us/sample - loss: 1.6623 - accuracy: 0.3762 - val_loss: 1.5962 - val_accuracy: 0.4350\n",
            "Epoch 76/200\n",
            "6400/6400 [==============================] - 1s 87us/sample - loss: 1.6527 - accuracy: 0.3830 - val_loss: 1.6035 - val_accuracy: 0.4000\n",
            "Epoch 77/200\n",
            "6400/6400 [==============================] - 1s 79us/sample - loss: 1.6454 - accuracy: 0.3830 - val_loss: 1.5900 - val_accuracy: 0.4200\n",
            "Epoch 78/200\n",
            "6400/6400 [==============================] - 1s 81us/sample - loss: 1.6458 - accuracy: 0.3873 - val_loss: 1.6217 - val_accuracy: 0.4025\n",
            "Epoch 79/200\n",
            "6400/6400 [==============================] - 0s 77us/sample - loss: 1.6326 - accuracy: 0.3906 - val_loss: 1.5589 - val_accuracy: 0.4300\n",
            "Epoch 80/200\n",
            "6400/6400 [==============================] - 1s 82us/sample - loss: 1.6345 - accuracy: 0.3914 - val_loss: 1.5500 - val_accuracy: 0.4437\n",
            "Epoch 81/200\n",
            "6400/6400 [==============================] - 0s 78us/sample - loss: 1.6311 - accuracy: 0.3967 - val_loss: 1.5850 - val_accuracy: 0.4250\n",
            "Epoch 82/200\n",
            "6400/6400 [==============================] - 1s 87us/sample - loss: 1.6207 - accuracy: 0.3961 - val_loss: 1.5380 - val_accuracy: 0.4412\n",
            "Epoch 83/200\n",
            "6400/6400 [==============================] - 1s 88us/sample - loss: 1.6278 - accuracy: 0.3964 - val_loss: 1.5423 - val_accuracy: 0.4350\n",
            "Epoch 84/200\n",
            "6400/6400 [==============================] - 1s 91us/sample - loss: 1.6084 - accuracy: 0.4028 - val_loss: 1.5315 - val_accuracy: 0.4475\n",
            "Epoch 85/200\n",
            "6400/6400 [==============================] - 1s 90us/sample - loss: 1.6080 - accuracy: 0.4033 - val_loss: 1.5965 - val_accuracy: 0.4288\n",
            "Epoch 86/200\n",
            "6400/6400 [==============================] - 1s 80us/sample - loss: 1.6031 - accuracy: 0.4083 - val_loss: 1.5289 - val_accuracy: 0.4450\n",
            "Epoch 87/200\n",
            "6400/6400 [==============================] - 1s 81us/sample - loss: 1.5919 - accuracy: 0.4142 - val_loss: 1.5060 - val_accuracy: 0.4650\n",
            "Epoch 88/200\n",
            "6400/6400 [==============================] - 1s 88us/sample - loss: 1.5873 - accuracy: 0.4136 - val_loss: 1.5155 - val_accuracy: 0.4462\n",
            "Epoch 89/200\n",
            "6400/6400 [==============================] - 1s 88us/sample - loss: 1.5815 - accuracy: 0.4142 - val_loss: 1.5271 - val_accuracy: 0.4588\n",
            "Epoch 90/200\n",
            "6400/6400 [==============================] - 1s 82us/sample - loss: 1.5712 - accuracy: 0.4217 - val_loss: 1.5155 - val_accuracy: 0.4487\n",
            "Epoch 91/200\n",
            "6400/6400 [==============================] - 1s 83us/sample - loss: 1.5740 - accuracy: 0.4241 - val_loss: 1.5338 - val_accuracy: 0.4425\n",
            "Epoch 92/200\n",
            "6400/6400 [==============================] - 1s 95us/sample - loss: 1.5663 - accuracy: 0.4244 - val_loss: 1.5013 - val_accuracy: 0.4700\n",
            "Epoch 93/200\n",
            "6400/6400 [==============================] - 1s 85us/sample - loss: 1.5570 - accuracy: 0.4278 - val_loss: 1.4905 - val_accuracy: 0.4588\n",
            "Epoch 94/200\n",
            "6400/6400 [==============================] - 1s 80us/sample - loss: 1.5536 - accuracy: 0.4264 - val_loss: 1.4768 - val_accuracy: 0.4663\n",
            "Epoch 95/200\n",
            "6400/6400 [==============================] - 0s 78us/sample - loss: 1.5540 - accuracy: 0.4245 - val_loss: 1.4764 - val_accuracy: 0.4487\n",
            "Epoch 96/200\n",
            "6400/6400 [==============================] - 1s 79us/sample - loss: 1.5451 - accuracy: 0.4291 - val_loss: 1.4775 - val_accuracy: 0.4700\n",
            "Epoch 97/200\n",
            "6400/6400 [==============================] - 1s 90us/sample - loss: 1.5386 - accuracy: 0.4327 - val_loss: 1.4923 - val_accuracy: 0.4613\n",
            "Epoch 98/200\n",
            "6400/6400 [==============================] - 1s 99us/sample - loss: 1.5416 - accuracy: 0.4331 - val_loss: 1.4811 - val_accuracy: 0.4663\n",
            "Epoch 99/200\n",
            "6400/6400 [==============================] - 1s 86us/sample - loss: 1.5343 - accuracy: 0.4366 - val_loss: 1.4946 - val_accuracy: 0.4737\n",
            "Epoch 100/200\n",
            "6400/6400 [==============================] - 1s 84us/sample - loss: 1.5367 - accuracy: 0.4345 - val_loss: 1.4635 - val_accuracy: 0.4750\n",
            "Epoch 101/200\n",
            "6400/6400 [==============================] - 1s 88us/sample - loss: 1.5323 - accuracy: 0.4372 - val_loss: 1.4774 - val_accuracy: 0.4487\n",
            "Epoch 102/200\n",
            "6400/6400 [==============================] - 1s 83us/sample - loss: 1.5279 - accuracy: 0.4333 - val_loss: 1.4753 - val_accuracy: 0.4800\n",
            "Epoch 103/200\n",
            "6400/6400 [==============================] - 1s 89us/sample - loss: 1.5215 - accuracy: 0.4417 - val_loss: 1.4710 - val_accuracy: 0.4775\n",
            "Epoch 104/200\n",
            "6400/6400 [==============================] - 1s 81us/sample - loss: 1.5179 - accuracy: 0.4455 - val_loss: 1.4579 - val_accuracy: 0.4800\n",
            "Epoch 105/200\n",
            "6400/6400 [==============================] - 1s 93us/sample - loss: 1.5138 - accuracy: 0.4402 - val_loss: 1.4643 - val_accuracy: 0.4538\n",
            "Epoch 106/200\n",
            "6400/6400 [==============================] - 1s 83us/sample - loss: 1.5106 - accuracy: 0.4462 - val_loss: 1.5101 - val_accuracy: 0.4600\n",
            "Epoch 107/200\n",
            "6400/6400 [==============================] - 1s 92us/sample - loss: 1.5100 - accuracy: 0.4462 - val_loss: 1.4689 - val_accuracy: 0.4638\n",
            "Epoch 108/200\n",
            "6400/6400 [==============================] - 1s 92us/sample - loss: 1.5092 - accuracy: 0.4442 - val_loss: 1.4676 - val_accuracy: 0.4650\n",
            "Epoch 109/200\n",
            "6400/6400 [==============================] - 1s 82us/sample - loss: 1.5119 - accuracy: 0.4406 - val_loss: 1.4836 - val_accuracy: 0.4775\n",
            "Epoch 110/200\n",
            "6400/6400 [==============================] - 1s 85us/sample - loss: 1.5085 - accuracy: 0.4511 - val_loss: 1.4529 - val_accuracy: 0.4625\n",
            "Epoch 111/200\n",
            "6400/6400 [==============================] - 1s 84us/sample - loss: 1.5009 - accuracy: 0.4508 - val_loss: 1.4902 - val_accuracy: 0.4563\n",
            "Epoch 112/200\n",
            "6400/6400 [==============================] - 1s 84us/sample - loss: 1.5050 - accuracy: 0.4444 - val_loss: 1.4692 - val_accuracy: 0.4775\n",
            "Epoch 113/200\n",
            "6400/6400 [==============================] - 1s 83us/sample - loss: 1.4951 - accuracy: 0.4527 - val_loss: 1.4604 - val_accuracy: 0.4675\n",
            "Epoch 114/200\n",
            "6400/6400 [==============================] - 1s 82us/sample - loss: 1.4970 - accuracy: 0.4475 - val_loss: 1.4487 - val_accuracy: 0.4675\n",
            "Epoch 115/200\n",
            "6400/6400 [==============================] - 1s 89us/sample - loss: 1.4940 - accuracy: 0.4536 - val_loss: 1.4607 - val_accuracy: 0.4737\n",
            "Epoch 116/200\n",
            "6400/6400 [==============================] - 1s 93us/sample - loss: 1.4984 - accuracy: 0.4516 - val_loss: 1.4666 - val_accuracy: 0.4725\n",
            "Epoch 117/200\n",
            "6400/6400 [==============================] - 1s 81us/sample - loss: 1.4941 - accuracy: 0.4530 - val_loss: 1.4597 - val_accuracy: 0.4663\n",
            "Epoch 118/200\n",
            "6400/6400 [==============================] - 1s 86us/sample - loss: 1.4853 - accuracy: 0.4561 - val_loss: 1.4401 - val_accuracy: 0.4737\n",
            "Epoch 119/200\n",
            "6400/6400 [==============================] - 1s 80us/sample - loss: 1.4877 - accuracy: 0.4592 - val_loss: 1.4487 - val_accuracy: 0.4638\n",
            "Epoch 120/200\n",
            "6400/6400 [==============================] - 1s 88us/sample - loss: 1.4857 - accuracy: 0.4533 - val_loss: 1.4630 - val_accuracy: 0.4775\n",
            "Epoch 121/200\n",
            "6400/6400 [==============================] - 1s 91us/sample - loss: 1.4848 - accuracy: 0.4503 - val_loss: 1.4733 - val_accuracy: 0.4775\n",
            "Epoch 122/200\n",
            "6400/6400 [==============================] - 1s 87us/sample - loss: 1.4843 - accuracy: 0.4530 - val_loss: 1.4664 - val_accuracy: 0.4675\n",
            "Epoch 123/200\n",
            "6400/6400 [==============================] - 1s 80us/sample - loss: 1.4818 - accuracy: 0.4547 - val_loss: 1.4555 - val_accuracy: 0.4725\n",
            "Epoch 124/200\n",
            "6400/6400 [==============================] - 1s 90us/sample - loss: 1.4753 - accuracy: 0.4577 - val_loss: 1.4502 - val_accuracy: 0.4863\n",
            "Epoch 125/200\n",
            "6400/6400 [==============================] - 1s 92us/sample - loss: 1.4817 - accuracy: 0.4516 - val_loss: 1.4438 - val_accuracy: 0.4925\n",
            "Epoch 126/200\n",
            "6400/6400 [==============================] - 1s 87us/sample - loss: 1.4787 - accuracy: 0.4588 - val_loss: 1.4727 - val_accuracy: 0.4700\n",
            "Epoch 127/200\n",
            "6400/6400 [==============================] - 1s 82us/sample - loss: 1.4763 - accuracy: 0.4547 - val_loss: 1.4481 - val_accuracy: 0.4762\n",
            "Epoch 128/200\n",
            "6400/6400 [==============================] - 1s 86us/sample - loss: 1.4751 - accuracy: 0.4619 - val_loss: 1.4449 - val_accuracy: 0.4875\n"
          ],
          "name": "stdout"
        }
      ]
    },
    {
      "cell_type": "code",
      "metadata": {
        "id": "ZnN1dc2klm83",
        "outputId": "f6cca1ee-09aa-4770-8893-f1adfd68fde4",
        "colab": {
          "base_uri": "https://localhost:8080/",
          "height": 339
        }
      },
      "source": [
        "import pandas as pd\n",
        "pd.DataFrame(history.history).plot(figsize=(8, 5))\n",
        "plt.grid(True)\n",
        "\n",
        "plt.title(\"keras learning curves\")\n",
        "plt.show()"
      ],
      "execution_count": null,
      "outputs": [
        {
          "output_type": "display_data",
          "data": {
            "image/png": "[encoded data removed]",
            "text/plain": [
              "<Figure size 576x360 with 1 Axes>"
            ]
          },
          "metadata": {
            "tags": []
          }
        }
      ]
    },
    {
      "cell_type": "code",
      "metadata": {
        "id": "vh2IsWAt49FG",
        "outputId": "96540c9b-2623-4372-8d34-e24b03310402",
        "colab": {
          "base_uri": "https://localhost:8080/",
          "height": 51
        }
      },
      "source": [
        "model.evaluate(X_test, y_test)"
      ],
      "execution_count": null,
      "outputs": [
        {
          "output_type": "stream",
          "text": [
            "800/800 [==============================] - 0s 58us/sample - loss: 1.6713 - accuracy: 0.4137\n"
          ],
          "name": "stdout"
        },
        {
          "output_type": "execute_result",
          "data": {
            "text/plain": [
              "[1.6713147735595704, 0.41375]"
            ]
          },
          "metadata": {
            "tags": []
          },
          "execution_count": 23
        }
      ]
    },
    {
      "cell_type": "code",
      "metadata": {
        "id": "owSWCPmShkL1"
      },
      "source": [],
      "execution_count": null,
      "outputs": []
    }
  ]
}